{
 "cells": [
  {
   "cell_type": "markdown",
   "metadata": {},
   "source": [
    "## Code "
   ]
  },
  {
   "cell_type": "code",
   "execution_count": 70,
   "metadata": {},
   "outputs": [
    {
     "name": "stdout",
     "output_type": "stream",
     "text": [
      "Populating the interactive namespace from numpy and matplotlib\n"
     ]
    },
    {
     "name": "stderr",
     "output_type": "stream",
     "text": [
      "/home/rezka/anaconda3/lib/python3.6/site-packages/IPython/core/magics/pylab.py:161: UserWarning: pylab import has clobbered these variables: ['clip', 'datetime', 'random', 'f', 'plotting', 'unique', 'test']\n",
      "`%matplotlib` prevents importing * from pylab and numpy\n",
      "  \"\\n`%matplotlib` prevents importing * from pylab and numpy\"\n"
     ]
    }
   ],
   "source": [
    "import torch\n",
    "import torch.nn as nn\n",
    "import torch.nn.functional as F\n",
    "from torch.autograd import Variable\n",
    "import time\n",
    "import math\n",
    "import re\n",
    "import gc\n",
    "import random\n",
    "from tensorboardX import SummaryWriter\n",
    "from matplotlib import pyplot as plt\n",
    "import numpy as np\n",
    "randn = np.random.randn\n",
    "from pandas import *\n",
    "%pylab inline"
   ]
  },
  {
   "cell_type": "code",
   "execution_count": 71,
   "metadata": {
    "collapsed": true
   },
   "outputs": [],
   "source": [
    "def randomize_data(inps, labels):\n",
    "    even_ind = np.arange(0,len(inps),2)\n",
    "    odd_ind = np.arange(1,len(inps),2)\n",
    "    assert len(even_ind) == len(odd_ind)\n",
    "    random.shuffle(even_ind)\n",
    "    random.shuffle(odd_ind)\n",
    "    shuffled_index = np.array([val for pair in zip(even_ind, odd_ind) for val in pair])\n",
    "    return np.array(inps)[shuffled_index].tolist(), np.array(labels)[shuffled_index].tolist()\n",
    "\n",
    "def randomize_data_odd(inps, labels):\n",
    "    #even_ind = np.arange(0,len(inps),2)\n",
    "    odd_ind = np.arange(1,len(inps),2)\n",
    "    #assert len(even_ind) == len(odd_ind)\n",
    "    #random.shuffle(even_ind)\n",
    "    random.shuffle(odd_ind)\n",
    "    shuffled_index = np.array(odd_ind)\n",
    "    return np.array(inps)[shuffled_index].tolist(), np.array(labels)[shuffled_index].tolist()\n",
    "\n",
    "def randomize_data_ev(inps, labels):\n",
    "    even_ind = np.arange(0,len(inps),2)\n",
    "    #odd_ind = np.arange(1,len(inps),2)\n",
    "    #assert len(even_ind) == len(odd_ind)\n",
    "    random.shuffle(even_ind)\n",
    "    #random.shuffle(odd_ind)\n",
    "    shuffled_index = np.array(even_ind)\n",
    "    return np.array(inps)[shuffled_index].tolist(), np.array(labels)[shuffled_index].tolist()"
   ]
  },
  {
   "cell_type": "code",
   "execution_count": 72,
   "metadata": {
    "collapsed": true
   },
   "outputs": [],
   "source": [
    "# generate data\n",
    "inps_t = []\n",
    "labels_t = []\n",
    "with open(\"./dataset/non-overlap/subreg_test_10000_non.txt\", \"r\") as f:\n",
    "    for line in f:\n",
    "        ar = line.split(\"\\t\")\n",
    "        g_str = ar[0].replace(\" \",\"#\")\n",
    "        inp = g_str + \"$\" + ar[1] \n",
    "        lab = ar[2].replace(\"\\n\",\"\")\n",
    "        inps_t.append(inp)\n",
    "        labels_t.append(lab)\n",
    "inps_t, labels_t = randomize_data(inps_t, labels_t)\n",
    "inps_to, labels_to = randomize_data_odd(inps_t, labels_t)\n",
    "inps_te, labels_te = randomize_data_ev(inps_t, labels_t)\n",
    "\n",
    "inps_v = []\n",
    "labels_v = []\n",
    "with open(\"./dataset/non-overlap/subreg_valid_10000_non.txt\", \"r\") as f:\n",
    "    for line in f:\n",
    "        ar = line.split(\"\\t\")\n",
    "        g_str = ar[0].replace(\" \",\"#\")\n",
    "        inp = g_str + \"$\" + ar[1] \n",
    "        lab = ar[2].replace(\"\\n\",\"\")\n",
    "        inps_v.append(inp)\n",
    "        labels_v.append(lab)\n",
    "inps_v, labels_v = randomize_data(inps_v, labels_v)\n",
    "inps_vo, labels_vo = randomize_data_odd(inps_v, labels_v)\n",
    "inps_ve, labels_ve = randomize_data_ev(inps_v, labels_v)\n",
    "\n",
    "\n",
    "inps = []\n",
    "labels = []\n",
    "with open(\"./dataset/non-overlap/subreg_train_10000_non.txt\", \"r\") as f:\n",
    "    for line in f:\n",
    "        ar = line.split(\"\\t\")\n",
    "        g_str = ar[0].replace(\" \",\"#\")\n",
    "        inp = g_str + \"$\" + ar[1] \n",
    "        lab = ar[2].replace(\"\\n\",\"\")\n",
    "        inps.append(inp)\n",
    "        labels.append(lab)\n",
    "inps, labels = randomize_data(inps, labels)"
   ]
  },
  {
   "cell_type": "code",
   "execution_count": 73,
   "metadata": {
    "collapsed": true
   },
   "outputs": [],
   "source": [
    "# in this case it is only six\n",
    "all_characters = ['a','b','c','d','e','f','#','$']\n",
    "n_letters = 8\n",
    "categ = ['0', '1']\n",
    "n_categories = 2\n",
    "len_example = 40 # length of the grammars and example\n",
    "\n",
    "# turn string into list of longs\n",
    "def char_tensor(string):\n",
    "    tensor = torch.zeros(n_letters).long()\n",
    "    char_index = all_characters.index(string)\n",
    "    tensor[char_index] = 1\n",
    "    return tensor\n",
    "\n",
    "def categories_tensor(string):\n",
    "    tensor = torch.zeros(len(string)).long()\n",
    "    for li, letter in enumerate(string):\n",
    "        letter_index = categ.index(letter)\n",
    "        tensor[li] = letter_index\n",
    "    return tensor\n",
    "\n",
    "def seq_tensor(string):\n",
    "    tensor = torch.zeros(len(string)).long()\n",
    "    for li, letter in enumerate(string):\n",
    "        letter_index = all_characters.index(letter)\n",
    "        tensor[li] = letter_index\n",
    "    return tensor"
   ]
  },
  {
   "cell_type": "code",
   "execution_count": 74,
   "metadata": {
    "collapsed": true
   },
   "outputs": [],
   "source": [
    "def generate_batch(start_index, len_example, batch_size, inps, labels):\n",
    "    inp_tensor = torch.zeros(batch_size, len_example).long()\n",
    "    lab_tensor = torch.zeros(batch_size, 1).long()\n",
    "    for i in range(batch_size):\n",
    "        inp = seq_tensor(inps[start_index+i])\n",
    "        lab = categories_tensor(labels[start_index+i])\n",
    "        inp_tensor[i,:] = inp\n",
    "        lab_tensor[i,:] = lab\n",
    "    # uncomment to do this with CPU\n",
    "    #return Variable(inp_tensor), Variable(lab_tensor)\n",
    "    return Variable(inp_tensor, requires_grad=False).cuda(), Variable(lab_tensor, requires_grad=False).cuda()"
   ]
  },
  {
   "cell_type": "code",
   "execution_count": 75,
   "metadata": {
    "collapsed": true
   },
   "outputs": [],
   "source": [
    "def generate_random_batch(len_example, batch_size, inps, labels):\n",
    "    even_ind = np.arange(0,len(inps),2)\n",
    "    odd_ind = np.arange(1,len(inps),2)\n",
    "    a = random.choice(even_ind, batch_size // 2)\n",
    "    b = random.choice(odd_ind, batch_size // 2)\n",
    "    random_index = np.concatenate([a,b])\n",
    "    inp_tensor = torch.zeros(batch_size, len_example).long()\n",
    "    lab_tensor = torch.zeros(batch_size, 1).long()\n",
    "    for i, ind in enumerate(random_index):\n",
    "        inp = seq_tensor(inps[ind])\n",
    "        lab = categories_tensor(labels[ind])\n",
    "        inp_tensor[i,:] = inp\n",
    "        lab_tensor[i,:] = lab\n",
    "    # uncomment to do this with CPU\n",
    "    #return Variable(inp_tensor), Variable(lab_tensor)\n",
    "    return Variable(inp_tensor, requires_grad=False).cuda(), Variable(lab_tensor, requires_grad=False).cuda()"
   ]
  },
  {
   "cell_type": "code",
   "execution_count": 76,
   "metadata": {
    "collapsed": true
   },
   "outputs": [],
   "source": [
    "def convert_string(texts):\n",
    "    inp_tensor = torch.zeros(1, len_example).long()\n",
    "    inp = seq_tensor(texts)\n",
    "    inp_tensor[0,:] = inp\n",
    "    # uncomment to do this with CPU\n",
    "    #return Variable(inp_tensor), Variable(lab_tensor)\n",
    "    return Variable(inp_tensor, requires_grad=False).cuda()"
   ]
  },
  {
   "cell_type": "code",
   "execution_count": 77,
   "metadata": {
    "collapsed": true
   },
   "outputs": [],
   "source": [
    "# hyperparameters\n",
    "n_epochs = 40\n",
    "n_hidden = 64\n",
    "n_layers = 2\n",
    "lr = 1e-3\n",
    "clip = 0.25\n",
    "batch_size = 100\n",
    "dropout = 0.2\n",
    "grammar_len = 20\n",
    "n_k_factors = 5\n",
    "\n",
    "print_every = 200"
   ]
  },
  {
   "cell_type": "code",
   "execution_count": 78,
   "metadata": {
    "collapsed": true
   },
   "outputs": [],
   "source": [
    "class RNN(nn.Module):\n",
    "    def __init__(self, input_size, hidden_size, output_size, n_layers=2, dropout_p=0.2, \n",
    "                 grammar_len=15, n_k_factors=5):\n",
    "        super(RNN, self).__init__()\n",
    "        self.input_size = input_size\n",
    "        self.hidden_size = hidden_size\n",
    "        self.output_size = output_size\n",
    "        self.n_layers = n_layers\n",
    "        self.dropout_p = dropout\n",
    "        self.input_dropout = nn.Dropout(p=dropout_p)\n",
    "        self.embed = nn.Embedding(input_size, hidden_size)\n",
    "        self.lstm = nn.LSTM(2*hidden_size, hidden_size, n_layers, dropout=dropout_p, batch_first=True)\n",
    "        self.output = nn.Linear(hidden_size, output_size)\n",
    "        self.n_k_factors = n_k_factors\n",
    "        self.grammar_len = grammar_len\n",
    "        \n",
    "        # for context-attended output\n",
    "        self.linear_out = nn.Linear(hidden_size*2, hidden_size)\n",
    "        # for mapping to probability\n",
    "        self.linear_ponder = nn.Linear(hidden_size, 1)\n",
    "        self.ponder_noise = nn.Embedding(n_k_factors,  hidden_size)\n",
    "    \n",
    "    def forward(self, input, hidden, batch_size, attn=False, context=None, prev_ht=None, ponder=False):\n",
    "        embedded = self.embed(input) # [batch_size, seq_len, embed_size]\n",
    "        embedded = self.input_dropout(embedded)\n",
    "        inp_embedded = embedded\n",
    "        output = None\n",
    "        # for visualization #\n",
    "        vis_attn = Variable(torch.zeros(self.n_k_factors, batch_size, 1\n",
    "                                               , self.grammar_len)).cuda()\n",
    "        \n",
    "        if not attn:\n",
    "            seq_len = embedded.size(1) \n",
    "            prev_ht = self.init_prev_ht(batch_size, seq_len)\n",
    "            embedded = torch.cat((embedded, prev_ht), dim=2)\n",
    "            ht, hidden = self.lstm(embedded, hidden) # [batch_size, seq_len, hidden_size]\n",
    "            output = self.output(ht.squeeze(1))\n",
    "        else:\n",
    "            ### pondering step ###\n",
    "            if ponder:\n",
    "                pondered_ht = Variable(torch.zeros(self.n_k_factors, batch_size, 1, self.hidden_size)).cuda()\n",
    "                pondered_prob_ht = Variable(torch.zeros(self.n_k_factors, batch_size, 1, 1)).cuda()\n",
    "                pondered_hidden = Variable(torch.zeros(self.n_k_factors, self.n_layers, batch_size\n",
    "                                                       , self.hidden_size)).cuda()\n",
    "                pondered_cell = Variable(torch.zeros(self.n_k_factors, self.n_layers, batch_size\n",
    "                                                       , self.hidden_size)).cuda()\n",
    "                # for testing #\n",
    "#                 noise = Variable((0) * torch.ones(batch_size, 1).long()).cuda()\n",
    "#                 noise_embed = self.ponder_noise(noise) # [batch_size, 1, n_hidden]\n",
    "#                 embedded = torch.add(inp_embedded, noise_embed)\n",
    "#                 embedded = torch.cat((embedded, prev_ht), dim=2)\n",
    "#                 ht, fixed_hidden = self.lstm(embedded, hidden)\n",
    "#                 prob_ht = self.linear_ponder(ht)\n",
    "#                 # calulate N attn\n",
    "#                 attn = torch.bmm(ht, context.transpose(1,2))\n",
    "#                 attn = F.softmax(attn.view(-1, self.grammar_len), dim=1).view(batch_size, -1, grammar_len)\n",
    "\n",
    "#                 # (batch, out_len, in_len) * (batch, in_len, dim) -> (batch, out_len, dim)\n",
    "#                 mix = torch.bmm(attn, context)\n",
    "\n",
    "#                 # concat -> (batch, out_len, 2*dim)\n",
    "#                 combined = torch.cat((mix, ht), dim=2)\n",
    "#                 # output -> (batch, out_len, dim)\n",
    "#                 ht = F.tanh(self.linear_out(combined.view(-1, 2 * self.hidden_size))).view(\n",
    "#                     batch_size, -1, self.hidden_size)\n",
    "#                 # gather the pondered hidden states and its probability\n",
    "#                 pondered_ht[0] = ht\n",
    "#                 pondered_prob_ht[0] = prob_ht\n",
    "#                 pondered_hidden[0] = fixed_hidden[0]\n",
    "#                 pondered_cell[0] = fixed_hidden[1]\n",
    "#                 vis_attn[0] = attn\n",
    "                \n",
    "                \n",
    "                for c in range(0, self.n_k_factors):\n",
    "                    noise = Variable((c) * torch.ones(batch_size, 1).long()).cuda()\n",
    "                    noise_embed = self.ponder_noise(noise) # [batch_size, 1, n_hidden]\n",
    "                    embedded = torch.add(inp_embedded, noise_embed)\n",
    "                    embedded = torch.cat((embedded, prev_ht), dim=2)\n",
    "                    ht, hidden = self.lstm(embedded, hidden)\n",
    "                    prob_ht = self.linear_ponder(ht)\n",
    "                    # calulate N attn\n",
    "                    attn = torch.bmm(ht, context.transpose(1,2))\n",
    "                    attn = F.softmax(attn.view(-1, self.grammar_len), dim=1).view(batch_size, -1, grammar_len)\n",
    "\n",
    "                    # (batch, out_len, in_len) * (batch, in_len, dim) -> (batch, out_len, dim)\n",
    "                    mix = torch.bmm(attn, context)\n",
    "\n",
    "                    # concat -> (batch, out_len, 2*dim)\n",
    "                    combined = torch.cat((mix, ht), dim=2)\n",
    "                    # output -> (batch, out_len, dim)\n",
    "                    ht = F.tanh(self.linear_out(combined.view(-1, 2 * self.hidden_size))).view(\n",
    "                        batch_size, -1, self.hidden_size)\n",
    "                    # gather the pondered hidden states and its probability\n",
    "                    pondered_ht[c] = ht\n",
    "                    pondered_prob_ht[c] = prob_ht\n",
    "                    pondered_hidden[c] = hidden[0]\n",
    "                    pondered_cell[c] = hidden[1]\n",
    "                    vis_attn[c] = attn\n",
    "                    \n",
    "                pondered_prob_ht = F.softmax(pondered_prob_ht, dim=0)\n",
    "                ht = torch.mul(pondered_ht, pondered_prob_ht)\n",
    "                ht = ht.sum(0).view(batch_size, 1, -1)\n",
    "                pondered_prob_hid = pondered_prob_ht.view(self.n_k_factors, 1, batch_size, 1)\n",
    "                hid = torch.mul(pondered_hidden, pondered_prob_hid)\n",
    "                hid = hid.sum(0).view(self.n_layers, batch_size, -1)\n",
    "                cell = torch.mul(pondered_cell, pondered_prob_hid)\n",
    "                cell = cell.sum(0).view(self.n_layers, batch_size, -1)\n",
    "                hidden = (hid, cell)\n",
    "                \n",
    "            ### attention with dot mechanism Luong ###\n",
    "            else:\n",
    "                embedded = torch.cat((embedded, prev_ht), dim=2)\n",
    "                ht, hidden = self.lstm(embedded, hidden) # [batch_size, 1, hidden_size]\n",
    "                # (batch, out_len, dim) * (batch, in_len, dim) -> (batch, out_len, in_len)\n",
    "                # in_len is the number of characters in total k-factors\n",
    "                # out_len is the number of step which is 1\n",
    "                attn = torch.bmm(ht, context.transpose(1,2))\n",
    "                attn = F.softmax(attn.view(-1, self.grammar_len), dim=1).view(batch_size, -1, grammar_len)\n",
    "\n",
    "                # (batch, out_len, in_len) * (batch, in_len, dim) -> (batch, out_len, dim)\n",
    "                mix = torch.bmm(attn, context)\n",
    "\n",
    "                # concat -> (batch, out_len, 2*dim)\n",
    "                combined = torch.cat((mix, ht), dim=2)\n",
    "                # output -> (batch, out_len, dim)\n",
    "                ht = F.tanh(self.linear_out(combined.view(-1, 2 * self.hidden_size))).view(\n",
    "                    batch_size, -1, self.hidden_size)\n",
    "                vis_attn[0] = attn\n",
    "                \n",
    "            output = self.output(ht.squeeze(1))\n",
    "            \n",
    "        return output, ht, hidden, vis_attn\n",
    "\n",
    "    def init_hidden(self, batch_size):\n",
    "        h0 = Variable(torch.zeros(self.n_layers, batch_size, self.hidden_size)).cuda()\n",
    "        c0 = Variable(torch.zeros(self.n_layers, batch_size, self.hidden_size)).cuda()\n",
    "        return h0, c0\n",
    "    \n",
    "    def init_prev_ht(self, batch_size, seq_len):\n",
    "        ht = Variable(torch.zeros(batch_size, seq_len, self.hidden_size)).cuda()\n",
    "        return ht"
   ]
  },
  {
   "cell_type": "code",
   "execution_count": 79,
   "metadata": {
    "collapsed": true
   },
   "outputs": [],
   "source": [
    "rnn = RNN(n_letters, n_hidden, n_categories, n_layers=n_layers, \n",
    "          dropout_p=dropout, grammar_len=grammar_len, n_k_factors=n_k_factors)\n",
    "rnn_optimizer = torch.optim.Adam(rnn.parameters(), lr=lr)\n",
    "criterion = nn.CrossEntropyLoss()"
   ]
  },
  {
   "cell_type": "code",
   "execution_count": 80,
   "metadata": {},
   "outputs": [
    {
     "data": {
      "text/plain": [
       "RNN(\n",
       "  (input_dropout): Dropout(p=0.2)\n",
       "  (embed): Embedding(8, 64)\n",
       "  (lstm): LSTM(128, 64, num_layers=2, batch_first=True, dropout=0.2)\n",
       "  (output): Linear(in_features=64, out_features=2)\n",
       "  (linear_out): Linear(in_features=128, out_features=64)\n",
       "  (linear_ponder): Linear(in_features=64, out_features=1)\n",
       "  (ponder_noise): Embedding(5, 64)\n",
       ")"
      ]
     },
     "execution_count": 80,
     "metadata": {},
     "output_type": "execute_result"
    }
   ],
   "source": [
    "rnn.cuda()"
   ]
  },
  {
   "cell_type": "code",
   "execution_count": 81,
   "metadata": {
    "collapsed": true
   },
   "outputs": [],
   "source": [
    "# training\n",
    "def train(inp, target, attn=False, ponder=False, pool=False):\n",
    "    # pool\n",
    "    pool_hidden = Variable(torch.zeros(len_example - grammar_len, batch_size, 1\n",
    "                                           , n_hidden)).cuda()\n",
    "    \n",
    "    loss = 0\n",
    "    hidden = rnn.init_hidden(batch_size)\n",
    "    rnn.train()\n",
    "    rnn.zero_grad()\n",
    "    cls = None\n",
    "    if attn:\n",
    "        #grammar_contexts = torch.zeros(grammar_len, batch_size, n_hidden)\n",
    "        i = 0\n",
    "        output, ht, hidden, vis_attn = rnn(inp[:,:20], hidden, batch_size)\n",
    "#         for j in range(ht.size(1)):\n",
    "#             if j not in [3,7,11,15,19]:\n",
    "#                 grammar_contexts[i] = ht[:,j,:].transpose(0,1)\n",
    "#                 i += 1\n",
    "        grammar_contexts = ht\n",
    "        #print(grammar_contexts)\n",
    "        ht = rnn.init_prev_ht(batch_size, 1)\n",
    "        for c in range(len_example - 20):\n",
    "            #print(ht)\n",
    "            if ponder:\n",
    "                output, ht, hidden, vis_attn = rnn(inp[:,20+c].unsqueeze(1), hidden, batch_size, attn=True, \n",
    "                                     context=grammar_contexts, prev_ht=ht, ponder=True)\n",
    "            else:\n",
    "                output, ht, hidden, vis_attn = rnn(inp[:,20+c].unsqueeze(1), hidden, batch_size, attn=True, \n",
    "                                     context=grammar_contexts, prev_ht=ht, ponder=False)\n",
    "            pool_hidden[c] = ht\n",
    "            #print(ht)\n",
    "        # pool\n",
    "        if pool:\n",
    "            logits, _ = torch.max(pool_hidden, 0)\n",
    "            cls = rnn.output(logits.squeeze(1))\n",
    "        else:\n",
    "            cls = output\n",
    "        cls = F.softmax(cls, dim=1)\n",
    "    else:\n",
    "        output, ht, hidden, vis_attn = rnn(inp, hidden, batch_size)\n",
    "        cls = output[:,-1,:].contiguous()\n",
    "        cls = F.softmax(cls, dim=1) \n",
    "    loss = criterion(cls.view(batch_size, -1), target.squeeze(1))\n",
    "    loss.backward()\n",
    "    rnn_optimizer.step()\n",
    "\n",
    "    return loss.data[0], ht, hidden"
   ]
  },
  {
   "cell_type": "code",
   "execution_count": 82,
   "metadata": {
    "collapsed": true
   },
   "outputs": [],
   "source": [
    "# batch_size = 10\n",
    "# start_index = 0\n",
    "# hidden = rnn.init_hidden(batch_size)\n",
    "# inp, target = generate_batch(start_index, len_example, batch_size, inps, labels)\n",
    "# train(inp, target, attn=True, ponder=False, pool=True)"
   ]
  },
  {
   "cell_type": "code",
   "execution_count": 83,
   "metadata": {
    "collapsed": true
   },
   "outputs": [],
   "source": [
    "def time_since(since):\n",
    "    now = time.time()\n",
    "    s = now - since\n",
    "    m = math.floor(s / 60)\n",
    "    s -= m * 60\n",
    "    return '%dm %ds' % (m, s)"
   ]
  },
  {
   "cell_type": "code",
   "execution_count": 84,
   "metadata": {
    "collapsed": true
   },
   "outputs": [],
   "source": [
    "def accuracy_test_data(inps_t, labels_t, attn=False, ponder=False, pool=False):\n",
    "    batch_size = 200\n",
    "    it = len(inps_t) / batch_size\n",
    "    acc_tot = 0\n",
    "    rnn.eval()\n",
    "    for i in range(int(it)):\n",
    "        # pool\n",
    "        pool_hidden = Variable(torch.zeros(len_example - grammar_len, batch_size, 1\n",
    "                                               , n_hidden)).cuda()\n",
    "        cls = None\n",
    "        hidden = rnn.init_hidden(batch_size)\n",
    "        start_index = i * batch_size\n",
    "        inp_t, lab_t = generate_batch(start_index, len_example, batch_size, inps_t, labels_t)\n",
    "        \n",
    "        if attn:\n",
    "            #grammar_contexts = torch.zeros(grammar_len, batch_size, n_hidden)\n",
    "            i = 0\n",
    "            output, ht, hidden, vis_attn = rnn(inp_t[:,:20], hidden, batch_size)\n",
    "    #         for j in range(ht.size(1)):\n",
    "    #             if j not in [3,7,11,15,19]:\n",
    "    #                 grammar_contexts[i] = ht[:,j,:].transpose(0,1)\n",
    "    #                 i += 1\n",
    "            grammar_contexts = ht\n",
    "            #print(grammar_contexts)\n",
    "            ht = rnn.init_prev_ht(batch_size, 1)\n",
    "            for c in range(len_example - 20):\n",
    "                #print(ht)\n",
    "                if ponder:\n",
    "                    output, ht, hidden, vis_attn = rnn(inp_t[:,20+c].unsqueeze(1), hidden, batch_size, attn=True, \n",
    "                                         context=grammar_contexts, prev_ht=ht, ponder=True)\n",
    "                else:\n",
    "                    output, ht, hidden, vis_attn = rnn(inp_t[:,20+c].unsqueeze(1), hidden, batch_size, attn=True, \n",
    "                                         context=grammar_contexts, prev_ht=ht, ponder=False)\n",
    "                pool_hidden[c] = ht\n",
    "                #print(ht)\n",
    "            # pool\n",
    "            if pool:\n",
    "                logits, _ = torch.max(pool_hidden, 0)\n",
    "                cls = rnn.output(logits.squeeze(1))\n",
    "            else:\n",
    "                cls = output\n",
    "            cls = F.softmax(cls, dim=1)\n",
    "        else:\n",
    "            output, ht, hidden, vis_attn = rnn(inp_t, hidden, batch_size)\n",
    "            cls = output[:,-1,:].contiguous()\n",
    "            cls = F.softmax(cls, dim=1)\n",
    "            \n",
    "        max_idx = cls.max(1)[1]\n",
    "        accuracy = (lab_t.squeeze() == max_idx).long().sum().float() / batch_size\n",
    "        acc_tot += accuracy.data[0] #, max_idx.sum().data[0]\n",
    "    return acc_tot / it"
   ]
  },
  {
   "cell_type": "code",
   "execution_count": 85,
   "metadata": {
    "collapsed": true
   },
   "outputs": [],
   "source": [
    "def accuracy_train_data(attn=False, ponder=False, pool=False):\n",
    "    batch_size = 200\n",
    "    it = len(inps) / batch_size\n",
    "    acc_tot = 0\n",
    "    rnn.eval()\n",
    "    for i in range(int(it)):\n",
    "        # pool\n",
    "        pool_hidden = Variable(torch.zeros(len_example - grammar_len, batch_size, 1\n",
    "                                               , n_hidden)).cuda()\n",
    "        cls = None\n",
    "        hidden = rnn.init_hidden(batch_size)\n",
    "        start_index = i * batch_size\n",
    "        inp_t, lab_t = generate_batch(start_index, len_example, batch_size, inps, labels)\n",
    "        \n",
    "        if attn:\n",
    "            #grammar_contexts = torch.zeros(grammar_len, batch_size, n_hidden)\n",
    "            i = 0\n",
    "            output, ht, hidden, vis_attn = rnn(inp_t[:,:20], hidden, batch_size)\n",
    "#             for j in range(ht.size(1)):\n",
    "#                 if j not in [3,7,11,15,19]:\n",
    "#                     grammar_contexts[i] = ht[:,j,:].transpose(0,1)\n",
    "#                     i += 1\n",
    "            grammar_contexts = ht\n",
    "            #print(grammar_contexts)\n",
    "            ht = rnn.init_prev_ht(batch_size, 1)\n",
    "            for c in range(len_example - 20):\n",
    "                #print(ht)\n",
    "                if ponder:\n",
    "                    output, ht, hidden, vis_attn = rnn(inp_t[:,20+c].unsqueeze(1), hidden, batch_size, attn=True, \n",
    "                                         context=grammar_contexts, prev_ht=ht, ponder=True)\n",
    "                else:\n",
    "                    output, ht, hidden, vis_attn = rnn(inp_t[:,20+c].unsqueeze(1), hidden, batch_size, attn=True, \n",
    "                                         context=grammar_contexts, prev_ht=ht, ponder=False)\n",
    "                pool_hidden[c] = ht\n",
    "                #print(ht)\n",
    "            # pool\n",
    "            if pool:\n",
    "                logits, _ = torch.max(pool_hidden, 0)\n",
    "                cls = rnn.output(logits.squeeze(1))\n",
    "            else:\n",
    "                cls = output\n",
    "            cls = F.softmax(cls, dim=1)\n",
    "        else:\n",
    "            output, ht, hidden, vis_attn = rnn(inp_t, hidden, batch_size)\n",
    "            cls = output[:,-1,:].contiguous()\n",
    "            cls = F.softmax(cls, dim=1)\n",
    "        \n",
    "        max_idx = cls.max(1)[1]\n",
    "        accuracy = (lab_t.squeeze() == max_idx).long().sum().float()\n",
    "        acc_tot += accuracy.data[0] #, max_idx.sum().data[0]\n",
    "    return acc_tot / len(inps)"
   ]
  },
  {
   "cell_type": "code",
   "execution_count": 87,
   "metadata": {},
   "outputs": [
    {
     "name": "stderr",
     "output_type": "stream",
     "text": [
      "/home/rezka/anaconda3/lib/python3.6/site-packages/torch/serialization.py:316: SourceChangeWarning: source code of class 'torch.nn.modules.sparse.Embedding' has changed. Saved a reverse patch to Embedding.patch. Run `patch -p0 < Embedding.patch` to revert your changes.\n",
      "  warnings.warn(msg, SourceChangeWarning)\n",
      "/home/rezka/anaconda3/lib/python3.6/site-packages/torch/serialization.py:316: SourceChangeWarning: source code of class 'torch.nn.modules.rnn.LSTM' has changed. Saved a reverse patch to LSTM.patch. Run `patch -p0 < LSTM.patch` to revert your changes.\n",
      "  warnings.warn(msg, SourceChangeWarning)\n",
      "/home/rezka/anaconda3/lib/python3.6/site-packages/torch/serialization.py:316: SourceChangeWarning: source code of class 'torch.nn.modules.linear.Linear' has changed. Saved a reverse patch to Linear.patch. Run `patch -p0 < Linear.patch` to revert your changes.\n",
      "  warnings.warn(msg, SourceChangeWarning)\n"
     ]
    }
   ],
   "source": [
    "torch.nn.Module.dump_patches = True\n",
    "#rnn = torch.load('models/lstm_10000example_20000c_attn_nvlex.tar').cuda()\n",
    "rnn = torch.load('models/lstm/LSTM_non_10000_layers_lstm_2-data_10000-dropout_rate_0.2-hidden_size_64.tar').cuda()"
   ]
  },
  {
   "cell_type": "code",
   "execution_count": 88,
   "metadata": {},
   "outputs": [
    {
     "data": {
      "text/plain": [
       "0.5609999895095825"
      ]
     },
     "execution_count": 88,
     "metadata": {},
     "output_type": "execute_result"
    }
   ],
   "source": [
    "accuracy_test_data(inps_t, labels_t, attn=False, ponder=False, pool=False)"
   ]
  },
  {
   "cell_type": "code",
   "execution_count": 89,
   "metadata": {},
   "outputs": [
    {
     "data": {
      "text/plain": [
       "0.5479999840259552"
      ]
     },
     "execution_count": 89,
     "metadata": {},
     "output_type": "execute_result"
    }
   ],
   "source": [
    "accuracy_test_data(inps_te, labels_te, attn=False, ponder=False, pool=False)"
   ]
  },
  {
   "cell_type": "code",
   "execution_count": 90,
   "metadata": {},
   "outputs": [
    {
     "data": {
      "text/plain": [
       "0.5739999830722808"
      ]
     },
     "execution_count": 90,
     "metadata": {},
     "output_type": "execute_result"
    }
   ],
   "source": [
    "accuracy_test_data(inps_to, labels_to, attn=False, ponder=False, pool=False)"
   ]
  },
  {
   "cell_type": "code",
   "execution_count": 91,
   "metadata": {},
   "outputs": [
    {
     "data": {
      "text/plain": [
       "0.5729999840259552"
      ]
     },
     "execution_count": 91,
     "metadata": {},
     "output_type": "execute_result"
    }
   ],
   "source": [
    "accuracy_test_data(inps_v, labels_v, attn=False, ponder=False, pool=False)"
   ]
  },
  {
   "cell_type": "code",
   "execution_count": 92,
   "metadata": {},
   "outputs": [
    {
     "data": {
      "text/plain": [
       "0.6384999871253967"
      ]
     },
     "execution_count": 92,
     "metadata": {},
     "output_type": "execute_result"
    }
   ],
   "source": [
    "accuracy_test_data(inps_ve, labels_ve, attn=False, ponder=False, pool=False)"
   ]
  },
  {
   "cell_type": "code",
   "execution_count": 93,
   "metadata": {},
   "outputs": [
    {
     "data": {
      "text/plain": [
       "0.5074999868869782"
      ]
     },
     "execution_count": 93,
     "metadata": {},
     "output_type": "execute_result"
    }
   ],
   "source": [
    "accuracy_test_data(inps_vo, labels_vo, attn=False, ponder=False, pool=False)"
   ]
  },
  {
   "cell_type": "markdown",
   "metadata": {},
   "source": [
    "## Visualizing Attention Mask"
   ]
  },
  {
   "cell_type": "code",
   "execution_count": 44,
   "metadata": {
    "collapsed": true
   },
   "outputs": [],
   "source": [
    "def map_index(idx):\n",
    "    # 0 - 0, 1 - 4, 2 - 8, 3 - 12, 4 - 16\n",
    "    return idx * 4\n",
    "\n",
    "def map_thres(idx):\n",
    "    if idx == 0:\n",
    "        return 0.0\n",
    "    elif idx == 1:\n",
    "        return 0.0\n",
    "    elif idx==2:\n",
    "        return 0.5\n",
    "\n",
    "# counting correctly attended weights #\n",
    "batch_size = 1\n",
    "attn=True\n",
    "ponder=False\n",
    "pool=False\n",
    "it = len(inps_to) / batch_size\n",
    "#it = 5 / batch_size\n",
    "ttt, ttf, tft, tff, ftt, ftf, fft, fff = 0, 0, 0, 0, 0, 0, 0, 0\n",
    "ttts, ttfs, tfts, tffs, ftts, ftfs, ffts, fffs = [], [], [], [], [], [], [], []\n",
    "failed_set = []\n",
    "attn_avg_tctp = []\n",
    "attn_avg_tcfp = []\n",
    "attn_avg_fctp = []\n",
    "attn_avg_fcfp = []\n",
    "for j in range(int(it)):\n",
    "    # pool\n",
    "    pool_hidden = Variable(torch.zeros(len_example - grammar_len, batch_size, 1\n",
    "                                           , n_hidden)).cuda()\n",
    "    start_index = j * batch_size\n",
    "    ### check where is the index of k-factors ###\n",
    "    grammar, target_str = inps_to[start_index].split(\"$\")\n",
    "    kfs = grammar.split(\"#\")\n",
    "    idxs_check = []\n",
    "    for k, kfs in enumerate(kfs):\n",
    "        if kfs in target_str:\n",
    "            start_kf = map_index(k)\n",
    "            start_ts = target_str.find(kfs)\n",
    "            idxs_check.append((start_kf, start_ts))\n",
    "    \n",
    "    ### gather the attention mask ###\n",
    "    hidden = rnn.init_hidden(batch_size)\n",
    "    inp_t, lab_t = generate_batch(start_index, len_example, batch_size, inps_to, labels_to)\n",
    "    attn_vals = []\n",
    "    prediction_at_step = []\n",
    "    if attn:\n",
    "        #grammar_contexts = torch.zeros(grammar_len, batch_size, n_hidden)\n",
    "        output, ht, hidden, vis_attn = rnn(inp_t[:,:20], hidden, batch_size)\n",
    "    #         for j in range(ht.size(1)):\n",
    "    #             if j not in [3,7,11,15,19]:\n",
    "    #                 grammar_contexts[i] = ht[:,j,:].transpose(0,1)\n",
    "    #                 i += 1\n",
    "        grammar_contexts = ht\n",
    "        #print(grammar_contexts)\n",
    "        ht = rnn.init_prev_ht(batch_size, 1)\n",
    "        for c in range(len_example - 20):\n",
    "            attn_val = []\n",
    "            #print(ht)\n",
    "            if ponder:\n",
    "                output, ht, hidden, vis_attn = rnn(inp_t[:,20+c].unsqueeze(1), hidden, batch_size, attn=True, \n",
    "                                     context=grammar_contexts, prev_ht=ht, ponder=True)\n",
    "                for i, elem in enumerate(vis_attn[3].squeeze().data):\n",
    "                    attn_val.append(elem)\n",
    "            else:\n",
    "                output, ht, hidden, vis_attn = rnn(inp_t[:,20+c].unsqueeze(1), hidden, batch_size, attn=True, \n",
    "                                     context=grammar_contexts, prev_ht=ht, ponder=False)\n",
    "                for i, elem in enumerate(vis_attn[0].squeeze().data):\n",
    "                    attn_val.append(elem)\n",
    "            pool_hidden[c] = ht\n",
    "            attn_vals.append(attn_val)\n",
    "            prediction_at_step.append(list(F.softmax(rnn.output(ht.squeeze(1)),dim=1).data[0]))\n",
    "        # pool\n",
    "        if pool:\n",
    "            logits, _ = torch.max(pool_hidden, 0)\n",
    "            cls = rnn.output(logits.squeeze(1))\n",
    "        else:\n",
    "            cls = output\n",
    "        cls = F.softmax(cls, dim=1)\n",
    "        #print(list(cls.data))\n",
    "        \n",
    "        ### define hypothesis ###\n",
    "        correct_attended = False\n",
    "        predicted_correct = False\n",
    "        hm_times = 0\n",
    "        hm_cor = False\n",
    "        put_ca = False\n",
    "        put_pc = False\n",
    "        attn_avg = []\n",
    "        attn_avg_ext = []\n",
    "        final_prediction = np.argmax(cls.data) == 0\n",
    "        for idx_check in idxs_check:\n",
    "            # 0 : index of k factors, 1 : index of target string\n",
    "            #print(idx_check)\n",
    "            hm_times = 0\n",
    "            hm_cor = False\n",
    "            # a is number of step\n",
    "            for a in range(3):\n",
    "                if a == 2 and np.argmax(prediction_at_step[idx_check[1]+a]) == 0:\n",
    "                    predicted_correct = True\n",
    "                    put_pc = True\n",
    "                # b is a number of grammar\n",
    "                for b in range(3):\n",
    "                    attn_avg.append(attn_vals[idx_check[1]+a][idx_check[0]+b])\n",
    "                    if attn_vals[idx_check[1]+a][idx_check[0]+b] > map_thres(a):\n",
    "                        hm_cor = True\n",
    "                if hm_cor:\n",
    "                    hm_times += 1\n",
    "                hm_cor = False\n",
    "            if hm_times == 3:\n",
    "                correct_attended = True\n",
    "                put_ca = True\n",
    "            for a in range(3,6):\n",
    "                for b in range(0,3):\n",
    "                    if idx_check[1] + a <= 19:\n",
    "                        attn_avg.append(attn_vals[idx_check[1]+a][idx_check[0]+b])\n",
    "                    else:\n",
    "                        attn_avg.append(0.0)\n",
    "            if final_prediction and put_pc:\n",
    "                attn_avg_tctp.append(attn_avg)\n",
    "            elif final_prediction and not put_pc:\n",
    "                attn_avg_tcfp.append(attn_avg)\n",
    "            elif not final_prediction and put_pc:\n",
    "                attn_avg_fctp.append(attn_avg)\n",
    "            elif not final_prediction and not put_pc:\n",
    "                attn_avg_fcfp.append(attn_avg)\n",
    "            put_ca = False\n",
    "            put_pc = False\n",
    "            attn_avg = []\n",
    "        #print(\"Correctly Attended to Corresponding K-Factor {}\".format(str(correct_attended)))\n",
    "        #print(\"Predicted Correct when Attending to K-Factor {}\".format(str(predicted_correct)))\n",
    "        #print(\"Final Prediction {}\".format(str(final_prediction)))\n",
    "        if correct_attended and predicted_correct and final_prediction:\n",
    "            ttt += 1\n",
    "        elif correct_attended and predicted_correct and not final_prediction:\n",
    "            ttf += 1\n",
    "        elif correct_attended and not predicted_correct and final_prediction:\n",
    "            tft += 1\n",
    "        elif correct_attended and not predicted_correct and not final_prediction:\n",
    "            tff += 1\n",
    "        elif not correct_attended and predicted_correct and final_prediction:\n",
    "            ftt += 1\n",
    "        elif not correct_attended and predicted_correct and not final_prediction:\n",
    "            ftf += 1\n",
    "        elif not correct_attended and not predicted_correct and final_prediction:\n",
    "            fft += 1\n",
    "        elif not correct_attended and not predicted_correct and not final_prediction:\n",
    "            fff += 1\n",
    "        if not final_prediction:\n",
    "            failed_set.append(inps_to[start_index])\n",
    "            \n",
    "    else:\n",
    "        output, ht, hidden = rnn(inp, hidden, batch_size)\n",
    "        cls = output[:,-1,:].contiguous()\n",
    "        cls = F.softmax(cls, dim=1) \n",
    "    \n",
    "### visualizing ###\n",
    "#     ts = inps_to[start_index]\n",
    "#     av = np.transpose(attn_vals)\n",
    "#     idx = Index(list(ts[:20]))\n",
    "#     df = DataFrame(av, index=idx, columns=list(ts[20:]))\n",
    "#     vals = np.around(df.values,4)\n",
    "#     normal = plt.Normalize(vals.min()-1, vals.max()+1)\n",
    "\n",
    "#     fig = plt.figure(figsize=(15,8))\n",
    "#     ax = fig.add_subplot(111, frameon=True, xticks=[], yticks=[])\n",
    "\n",
    "#     tab1=plt.table(cellText=vals, rowLabels=df.index, colLabels=df.columns, \n",
    "#                         colWidths = [0.05]*vals.shape[1], loc='bottom', \n",
    "#                         cellColours=plt.cm.hot(normal(vals)))\n",
    "\n",
    "#     idx = Index([\"0\", \"1\"])\n",
    "#     df = DataFrame(np.transpose(prediction_at_step), index=idx, columns=list(ts[20:]))\n",
    "#     vals = np.around(df.values,4)\n",
    "#     normal = plt.Normalize(vals.min()-1, vals.max()+1)\n",
    "\n",
    "#     fig = plt.figure(figsize=(15,8))\n",
    "#     ax = fig.add_subplot(111, frameon=True, xticks=[], yticks=[])\n",
    "\n",
    "#     tab2=plt.table(cellText=vals, rowLabels=df.index, colLabels=df.columns, \n",
    "#                         colWidths = [0.05]*vals.shape[1], loc='top', \n",
    "#                         cellColours=plt.cm.hot(normal(vals)))"
   ]
  },
  {
   "cell_type": "code",
   "execution_count": 45,
   "metadata": {},
   "outputs": [
    {
     "name": "stdout",
     "output_type": "stream",
     "text": [
      "2359 26 46 9\n"
     ]
    }
   ],
   "source": [
    "print(len(attn_avg_tctp), len(attn_avg_tcfp), len(attn_avg_fctp), len(attn_avg_fcfp))"
   ]
  },
  {
   "cell_type": "code",
   "execution_count": 46,
   "metadata": {},
   "outputs": [
    {
     "data": {
      "image/png": "[encoded data removed]",
      "text/plain": [
       "<matplotlib.figure.Figure at 0x7f3dbf602f28>"
      ]
     },
     "metadata": {},
     "output_type": "display_data"
    }
   ],
   "source": [
    "attn_1 = np.array(attn_avg_tctp)\n",
    "attn_1_n = np.mean(attn_1[:,:9], axis=0).reshape(3,3)\n",
    "attn_1_ext = np.mean(attn_1[:,9:], axis=0).reshape(3,3)\n",
    "attn_2 = np.array(attn_avg_tcfp)\n",
    "attn_2_n = np.mean(attn_2[:,:9], axis=0).reshape(3,3)\n",
    "attn_2_ext = np.mean(attn_2[:,9:], axis=0).reshape(3,3)\n",
    "attn_3 = np.array(attn_avg_fctp)\n",
    "attn_3_n = np.mean(attn_3[:,:9], axis=0).reshape(3,3)\n",
    "attn_3_ext = np.mean(attn_3[:,9:], axis=0).reshape(3,3)\n",
    "attn_4 = np.array(attn_avg_fcfp)\n",
    "attn_4_n = np.mean(attn_4[:,:9], axis=0).reshape(3,3)\n",
    "attn_4_ext = np.mean(attn_4[:,9:], axis=0).reshape(3,3)\n",
    "\n",
    "idx = Index([1,2,3])\n",
    "df = DataFrame(np.concatenate((np.transpose(attn_1_n),np.transpose(attn_1_ext)),axis=1), index=idx, \n",
    "               columns=[1,2,3,4,5,6])\n",
    "vals = np.around(df.values,4)\n",
    "normal = plt.Normalize(vals.min()-1, vals.max()+1)\n",
    "\n",
    "fig = plt.figure(figsize=(15,8))\n",
    "\n",
    "ax = fig.add_subplot(221, frameon=True, xticks=[], yticks=[], title=\"Match Correct and Predict Correct\")\n",
    "tab1=plt.table(cellText=vals, rowLabels=df.index, colLabels=df.columns, \n",
    "                    colWidths = [0.15]*vals.shape[1], loc='center', \n",
    "                    cellColours=plt.cm.hot(normal(vals)))\n",
    "\n",
    "idx = Index([1,2,3])\n",
    "df = DataFrame(np.concatenate((np.transpose(attn_2_n),np.transpose(attn_2_ext)),axis=1), index=idx, \n",
    "               columns=[1,2,3,4,5,6])\n",
    "vals = np.around(df.values,4)\n",
    "normal = plt.Normalize(vals.min()-1, vals.max()+1)\n",
    "\n",
    "ax = fig.add_subplot(222, frameon=True, xticks=[], yticks=[], title=\"Match Not Correct and Predict Correct\")\n",
    "tab2=plt.table(cellText=vals, rowLabels=df.index, colLabels=df.columns, \n",
    "                    colWidths = [0.15]*vals.shape[1], loc='center', \n",
    "                    cellColours=plt.cm.hot(normal(vals)))\n",
    "\n",
    "idx = Index([1,2,3])\n",
    "df = DataFrame(np.concatenate((np.transpose(attn_3_n),np.transpose(attn_3_ext)),axis=1), index=idx, \n",
    "               columns=[1,2,3,4,5,6])\n",
    "vals = np.around(df.values,4)\n",
    "normal = plt.Normalize(vals.min()-1, vals.max()+1)\n",
    "\n",
    "ax = fig.add_subplot(223, frameon=True, xticks=[], yticks=[], title=\"Match Correct and Predict Not Correct\")\n",
    "tab3=plt.table(cellText=vals, rowLabels=df.index, colLabels=df.columns, \n",
    "                    colWidths = [0.15]*vals.shape[1], loc='center', \n",
    "                    cellColours=plt.cm.hot(normal(vals)))\n",
    "\n",
    "idx = Index([1,2,3])\n",
    "df = DataFrame(np.concatenate((np.transpose(attn_4_n),np.transpose(attn_4_ext)),axis=1), index=idx, \n",
    "               columns=[1,2,3,4,5,6])\n",
    "vals = np.around(df.values,4)\n",
    "normal = plt.Normalize(vals.min()-1, vals.max()+1)\n",
    "\n",
    "ax = fig.add_subplot(224, frameon=True, xticks=[], yticks=[], title=\"Match Not Correct and Predict Not Correct\")\n",
    "tab4=plt.table(cellText=vals, rowLabels=df.index, colLabels=df.columns, \n",
    "                    colWidths = [0.15]*vals.shape[1], loc='center', \n",
    "                    cellColours=plt.cm.hot(normal(vals)))"
   ]
  },
  {
   "cell_type": "code",
   "execution_count": 47,
   "metadata": {
    "collapsed": true
   },
   "outputs": [],
   "source": [
    "actdo = accuracy_test_data(inps_to, labels_to, attn=True, ponder=False)\n",
    "actde = accuracy_test_data(inps_te, labels_te, attn=True, ponder=False)\n",
    "actd = accuracy_test_data(inps_t, labels_t, attn=True, ponder=False)"
   ]
  },
  {
   "cell_type": "code",
   "execution_count": 48,
   "metadata": {},
   "outputs": [
    {
     "name": "stdout",
     "output_type": "stream",
     "text": [
      "Final Test Accuracy : 0.9487499803304672\n",
      "Final Test Accuracy (Case of Reject Language / K-Factor Present) : 0.979999965429306\n",
      "Final Test Accuracy (Case of Accept Language / K-Factor not Present) : 0.9199999928474426\n",
      "### Analysis on Case of Reject Language ###\n",
      "Attend Correctly, Predict Correctly while Attend, Correct Final Prediction : 0.9475\n",
      "Attend Correctly, Predict Correctly while Attend, Wrong Final Prediction : 0.019\n",
      "Attend Correctly, Predict Wrongly while Attend, Correct Final Prediction : 0.009\n",
      "Attend Correctly, Predict Wrongly while Attend, Wrong Final Prediction : 0.001\n",
      "Attend Wrongly, Predict Correctly while Attend, Correct Final Prediction : 0.015\n",
      "Attend Wrongly, Predict Correctly while Attend, Wrong Final Prediction : 0.004\n",
      "Attend Wrongly, Predict Wrongly while Attend, Correct Final Prediction : 0.001\n",
      "Attend Wrongly, Predict Wrongly while Attend, Wrong Final Prediction : 0.0035\n"
     ]
    }
   ],
   "source": [
    "print(\"Final Test Accuracy : {}\".format(str(actd)))\n",
    "print(\"Final Test Accuracy (Case of Reject Language / K-Factor Present) : {}\".format(str(actdo)))\n",
    "print(\"Final Test Accuracy (Case of Accept Language / K-Factor not Present) : {}\".format(str(actde)))\n",
    "print(\"### Analysis on Case of Reject Language ###\")\n",
    "print(\"Attend Correctly, Predict Correctly while Attend, Correct Final Prediction : {}\".format(str(float(ttt) / len(inps_to))))\n",
    "print(\"Attend Correctly, Predict Correctly while Attend, Wrong Final Prediction : {}\".format(str(float(ttf) / len(inps_to))))\n",
    "print(\"Attend Correctly, Predict Wrongly while Attend, Correct Final Prediction : {}\".format(str(float(tft) / len(inps_to))))\n",
    "print(\"Attend Correctly, Predict Wrongly while Attend, Wrong Final Prediction : {}\".format(str(float(tff) / len(inps_to))))\n",
    "print(\"Attend Wrongly, Predict Correctly while Attend, Correct Final Prediction : {}\".format(str(float(ftt) / len(inps_to))))\n",
    "print(\"Attend Wrongly, Predict Correctly while Attend, Wrong Final Prediction : {}\".format(str(float(ftf) / len(inps_to))))\n",
    "print(\"Attend Wrongly, Predict Wrongly while Attend, Correct Final Prediction : {}\".format(str(float(fft) / len(inps_to))))\n",
    "print(\"Attend Wrongly, Predict Wrongly while Attend, Wrong Final Prediction : {}\".format(str(float(fff) / len(inps_to))))"
   ]
  },
  {
   "cell_type": "code",
   "execution_count": 171,
   "metadata": {},
   "outputs": [
    {
     "name": "stdout",
     "output_type": "stream",
     "text": [
      "aaa#abe#ace#bbe#bff$acbafeeccddbedbcfccc 1 1\n",
      "aaa#abe#ace#bbe#bff$abceadfbbbacebaebfaa 1 0\n",
      "aaa#abe#ace#bbe#bff$bddeedcaafdccbabdacf 1 1\n",
      "aaa#ace#bbe#bff#cdd$fbdadfafdcedbfabffda 1 0\n",
      "aaa#ace#bbe#bff#cdd$aeaabbbfcbfbbdbacabb 1 1\n",
      "aaa#abe#ace#bff#cdd$ccdbdacebbaabbcbfdbc 1 0\n",
      "aaa#ace#bbe#bff#cdd$ffdeacabddaecfbaecce 0 1\n",
      "aaa#abe#ace#bff#cdd$eabaebceafdcddefafaa 1 0\n",
      "aaa#ace#bbe#bff#cdd$ccfeeeabcdfaabdadeea 1 1\n",
      "aaa#ace#bbe#bff#cdd$dccbfbdbdcddcdfaaeff 0 0\n",
      "aaa#abe#ace#bff#cdd$fecdafdbfbccdaafbfac 1 1\n",
      "aaa#abe#ace#bff#cdd$cddfaecedcaecbedbebc 1 0\n",
      "abe#ace#bbe#bff#cdd$afeadddfbfbaaffafddc 1 1\n",
      "aaa#abe#ace#bff#cdd$eceeeacabcaaafbcdfed 1 0\n",
      "aaa#abe#ace#bff#cdd$dbfdabccebddcebebced 1 1\n",
      "aaa#abe#bbe#bff#cdd$caeffabbabeccbadeaeb 1 0\n",
      "aaa#abe#ace#bff#cdd$ebdeeaaccedddecdaaec 1 1\n",
      "aaa#abe#ace#bbe#cdd$dcbedacbfbeabacecacc 1 0\n",
      "aaa#abe#bbe#bff#cdd$fcaecedadfecdefadead 1 1\n",
      "aaa#abe#ace#bbe#cdd$baceddcaedbfbebaafcf 1 0\n"
     ]
    }
   ],
   "source": [
    "# chose an example #\n",
    "inpz = inps_v\n",
    "labz = labels_v\n",
    "\n",
    "start_index = 1000\n",
    "batch_size = 20\n",
    "it = len(inpz) / batch_size\n",
    "acc_tot = 0\n",
    "cls = None\n",
    "hidden = rnn.init_hidden(batch_size)\n",
    "inp, lab = generate_batch(start_index, len_example, batch_size, inpz, labz)\n",
    "attn=True\n",
    "ponder=False\n",
    "rnn.eval()\n",
    "rnn.zero_grad()\n",
    "\n",
    "if attn:\n",
    "    #grammar_contexts = torch.zeros(grammar_len, batch_size, n_hidden)\n",
    "    i = 0\n",
    "    output, ht, hidden, vis_attn = rnn(inp[:,:20], hidden, batch_size)\n",
    "#         for j in range(ht.size(1)):\n",
    "#             if j not in [3,7,11,15,19]:\n",
    "#                 grammar_contexts[i] = ht[:,j,:].transpose(0,1)\n",
    "#                 i += 1\n",
    "    grammar_contexts = ht\n",
    "    #print(grammar_contexts)\n",
    "    ht = rnn.init_prev_ht(batch_size, 1)\n",
    "    for c in range(len_example - 20):\n",
    "        #print(ht)\n",
    "        if ponder:\n",
    "            output, ht, hidden, vis_attn = rnn(inp[:,20+c].unsqueeze(1), hidden, batch_size, attn=True, \n",
    "                                 context=grammar_contexts, prev_ht=ht, ponder=True)\n",
    "        else:\n",
    "            output, ht, hidden, vis_attn = rnn(inp[:,20+c].unsqueeze(1), hidden, batch_size, attn=True, \n",
    "                                 context=grammar_contexts, prev_ht=ht, ponder=False)\n",
    "        #print(ht)\n",
    "    cls = output\n",
    "    cls = F.softmax(cls, dim=1)\n",
    "else:\n",
    "    output, ht, hidden = rnn(inp, hidden, batch_size)\n",
    "    cls = output[:,-1,:].contiguous()\n",
    "    cls = F.softmax(cls, dim=1)\n",
    "\n",
    "max_idx = cls.max(1)[1]\n",
    "for i in range(batch_size):\n",
    "    print(inpz[start_index+i], max_idx.data[i], lab.squeeze().data[i])\n",
    "accuracy = (lab.squeeze() == max_idx).long().sum().float()"
   ]
  },
  {
   "cell_type": "code",
   "execution_count": 172,
   "metadata": {},
   "outputs": [
    {
     "name": "stdout",
     "output_type": "stream",
     "text": [
      "[0.04685701057314873, 0.9531430602073669]\n"
     ]
    }
   ],
   "source": [
    "# picking examples #\n",
    "ts = \"aaa#abe#ace#bbe#cdd$afbdeeabefbfcdadadbd\" # label = 0\n",
    "ex = convert_string(ts)\n",
    "batch_size = 1\n",
    "hidden = rnn.init_hidden(batch_size)\n",
    "attn_vals = []\n",
    "prediction_at_step = []\n",
    "ponder=False\n",
    "rnn.eval()\n",
    "if attn:\n",
    "    #grammar_contexts = torch.zeros(grammar_len, batch_size, n_hidden)\n",
    "    i = 0\n",
    "    output, ht, hidden, vis_attn = rnn(ex[:,:20], hidden, batch_size)\n",
    "#         for j in range(ht.size(1)):\n",
    "#             if j not in [3,7,11,15,19]:\n",
    "#                 grammar_contexts[i] = ht[:,j,:].transpose(0,1)\n",
    "#                 i += 1\n",
    "    grammar_contexts = ht\n",
    "    #print(grammar_contexts)\n",
    "    ht = rnn.init_prev_ht(batch_size, 1)\n",
    "    for c in range(len_example - 20):\n",
    "        attn_val = []\n",
    "        #print(ht)\n",
    "        if ponder:\n",
    "            output, ht, hidden, vis_attn = rnn(ex[:,20+c].unsqueeze(1), hidden, batch_size, attn=True, \n",
    "                                 context=grammar_contexts, prev_ht=ht, ponder=True)\n",
    "            for i, elem in enumerate(vis_attn[0].squeeze().data):\n",
    "                attn_val.append(elem)\n",
    "        else:\n",
    "            output, ht, hidden, vis_attn = rnn(ex[:,20+c].unsqueeze(1), hidden, batch_size, attn=True, \n",
    "                                 context=grammar_contexts, prev_ht=ht, ponder=False)\n",
    "            for i, elem in enumerate(vis_attn[0].squeeze().data):\n",
    "                attn_val.append(elem)\n",
    "        attn_vals.append(attn_val)\n",
    "        prediction_at_step.append(list(F.softmax(rnn.output(ht.squeeze(1)),dim=1).data[0]))\n",
    "    cls = output\n",
    "    cls = F.softmax(cls, dim=1)\n",
    "    print(list(cls.data[0]))\n",
    "else:\n",
    "    output, ht, hidden = rnn(inp, hidden, batch_size)\n",
    "    cls = output[:,-1,:].contiguous()\n",
    "    cls = F.softmax(cls, dim=1)"
   ]
  },
  {
   "cell_type": "code",
   "execution_count": 173,
   "metadata": {},
   "outputs": [
    {
     "data": {
      "image/png": "[encoded data removed]",
      "text/plain": [
       "<matplotlib.figure.Figure at 0x7f33de4adb00>"
      ]
     },
     "metadata": {},
     "output_type": "display_data"
    }
   ],
   "source": [
    "av = np.transpose(attn_vals)\n",
    "idx = Index(list(ts[:20]))\n",
    "df = DataFrame(av, index=idx, columns=list(ts[20:]))\n",
    "vals = np.around(df.values,4)\n",
    "normal = plt.Normalize(vals.min()-1, vals.max()+1)\n",
    "\n",
    "fig = plt.figure(figsize=(15,8))\n",
    "ax = fig.add_subplot(111, frameon=True, xticks=[], yticks=[])\n",
    "\n",
    "tab1=plt.table(cellText=vals, rowLabels=df.index, colLabels=df.columns, \n",
    "                    colWidths = [0.05]*vals.shape[1], loc='center', \n",
    "                    cellColours=plt.cm.hot(normal(vals)))\n",
    "\n",
    "savefig(\"plots/examples_attn_pond.png\")\n",
    "\n",
    "# idx = Index([\"0\", \"1\"])\n",
    "# df = DataFrame(np.transpose(prediction_at_step), index=idx, columns=list(ts[20:]))\n",
    "# vals = np.around(df.values,4)\n",
    "# normal = plt.Normalize(vals.min(), vals.max())\n",
    "\n",
    "# fig = plt.figure(figsize=(15,8))\n",
    "# ax = fig.add_subplot(111, frameon=True, xticks=[], yticks=[])\n",
    "\n",
    "# tab2=plt.table(cellText=vals, rowLabels=df.index, colLabels=df.columns, \n",
    "#                     colWidths = [0.05]*vals.shape[1], loc='top', \n",
    "#                     cellColours=plt.cm.hot(normal(vals)))"
   ]
  },
  {
   "cell_type": "markdown",
   "metadata": {
    "collapsed": true
   },
   "source": [
    "## Analysis and Diagnostic Classifier"
   ]
  },
  {
   "cell_type": "code",
   "execution_count": 28,
   "metadata": {
    "collapsed": true
   },
   "outputs": [],
   "source": [
    "from sklearn import metrics\n",
    "from scipy import stats\n",
    "import scipy as sp\n",
    "\n",
    "from sklearn.linear_model import LinearRegression\n",
    "from sklearn.linear_model import LogisticRegression\n",
    "from sklearn.linear_model import Ridge\n",
    "\n",
    "from scipy.stats import pearsonr\n",
    "\n",
    "import seaborn as sns"
   ]
  },
  {
   "cell_type": "code",
   "execution_count": 29,
   "metadata": {
    "collapsed": true
   },
   "outputs": [],
   "source": [
    "def hypothesis_k_factors(text):\n",
    "    return np.array([-1 if x == '#' or x == '$' else 1 for x in text])\n",
    "\n",
    "def hypothesis_detect_k_factors(text):\n",
    "    hyp = np.full(len(text), -1)\n",
    "    texts = text.split(\"$\")\n",
    "    kfs = texts[0].split(\"#\")\n",
    "    for kf in kfs:\n",
    "        if kf in texts[1]:\n",
    "            ind = [m.start() for m in re.finditer(kf, text)]\n",
    "            for el in ind:\n",
    "                hyp[el:el+3] = 1\n",
    "    return hyp\n",
    "\n",
    "def hypothesis_match_grammar(text):\n",
    "    hyp = np.full(len(text), -1)\n",
    "    texts = text.split(\"$\")\n",
    "    kfs = texts[0].split(\"#\")\n",
    "    for kf in kfs:\n",
    "        if kf in texts[1]:\n",
    "            ind = [m.start() for m in re.finditer(kf, text)]\n",
    "            for el in ind:\n",
    "                hyp[el:el+3] = 1\n",
    "            for i, j in zip(range(len(kf)), reversed(range(len(kf)))):\n",
    "                if j != 0:\n",
    "                    ind = [m.start() for m in re.finditer(kf[:-j], text)]\n",
    "                    print(ind, kf[:-j], i)\n",
    "                    for el in ind:\n",
    "                        hyp[el:el+i] = 1\n",
    "    return hyp"
   ]
  },
  {
   "cell_type": "code",
   "execution_count": 67,
   "metadata": {},
   "outputs": [
    {
     "name": "stdout",
     "output_type": "stream",
     "text": [
      "[8, 9, 12, 24, 28] c 0\n",
      "[12, 28] cd 1\n"
     ]
    },
    {
     "data": {
      "text/plain": [
       "array([-1, -1, -1, -1, -1, -1, -1, -1, -1, -1, -1, -1,  1,  1,  1, -1, -1,\n",
       "       -1, -1, -1, -1, -1, -1, -1, -1, -1, -1, -1,  1,  1,  1, -1, -1, -1,\n",
       "       -1, -1, -1, -1, -1, -1])"
      ]
     },
     "execution_count": 67,
     "metadata": {},
     "output_type": "execute_result"
    }
   ],
   "source": [
    "hypothesis_match_grammar(\"bbb#bdd#cce#cdd#ddf$fdddcbfacddabaadfdeb\")"
   ]
  },
  {
   "cell_type": "code",
   "execution_count": 30,
   "metadata": {
    "collapsed": true
   },
   "outputs": [],
   "source": [
    "def validate_hypothesis(model, diag_classifier, hypothesis, train_len=50,\n",
    "                        test_len=1, tt=None, save_hyp=None, save_diag=None, save_resp=None):\n",
    "    # Generate hypothesis data\n",
    "    def gen_hyp_data(model, N, hypothesis, start_index):\n",
    "        texts, hiddens, hiddens_2, hyps = [], [], [], []\n",
    "        inp, target = generate_random_batch(len_example, N, inps, labels)\n",
    "        for i in range(N):\n",
    "            hidden, cell = rnn.init_hidden(1)\n",
    "            hid = []\n",
    "            hid_2 = []\n",
    "            for j in range(len(inp[i])):\n",
    "                _, hidden, cell = rnn(inp[i][j], hidden, cell, 1)\n",
    "                hidden_temp = hidden.squeeze()\n",
    "                hid.append(np.array(hidden_temp.data[0]))\n",
    "                hid_2.append(np.array(hidden_temp.data[1]))\n",
    "            hyp = hypothesis(inps[i])\n",
    "            hiddens.append(hid)\n",
    "            hiddens_2.append(hid_2)\n",
    "            hyps.append(hyp)\n",
    "            texts.append(inps[i])\n",
    "        return ''.join(texts), np.concatenate(hyps), np.concatenate(hiddens), np.concatenate(hiddens_2)\n",
    "    \n",
    "    def gen_hyp_data_test(model, N, hypothesis, tt):\n",
    "        texts, hiddens, hiddens_2, hyps = [], [], [], []\n",
    "        tensor_tt = convert_string(tt)\n",
    "        for i in range(N):\n",
    "            hidden, cell = rnn.init_hidden(1)\n",
    "            hid = []\n",
    "            hid_2 = []\n",
    "            for j in range(len(tensor_tt[i])):\n",
    "                _, hidden, cell = rnn(tensor_tt[i][j], hidden, cell, 1)\n",
    "                hidden_temp = hidden.squeeze()\n",
    "                hid.append(np.array(hidden_temp.data[0]))\n",
    "                hid_2.append(np.array(hidden_temp.data[1]))\n",
    "            hyp = hypothesis(tt)\n",
    "            hiddens.append(hid)\n",
    "            hiddens_2.append(hid_2)\n",
    "            hyps.append(hyp)\n",
    "            texts.append(tt)\n",
    "        return ''.join(texts), np.concatenate(hyps), np.concatenate(hiddens), np.concatenate(hiddens_2)\n",
    "\n",
    "    # Generate train and test data\n",
    "    _, train_hyps, train_hiddens, train_hiddens_2 = gen_hyp_data(model, train_len, hypothesis, 0)\n",
    "    test_texts, test_hyps, test_hiddens, test_hiddens_2 = gen_hyp_data_test(model, test_len, hypothesis, tt)\n",
    "    #print(pearsonr(train_hiddens, train_hyps))\n",
    "    #print(pearsonr(test_hiddens, test_hyps))\n",
    "\n",
    "    # Train Diagnostic Classifier\n",
    "    diag_classifier.fit(train_hiddens, train_hyps)\n",
    "    \n",
    "    # Predict with Diagnostic Classifier\n",
    "    pred_hyps = diag_classifier.predict(test_hiddens)\n",
    "    \n",
    "    # Find responsible neuron\n",
    "    resp_neuron = np.argmax(np.abs(diag_classifier.coef_))\n",
    "    print(resp_neuron)\n",
    "    \n",
    "    # Plot results\n",
    "    if save_hyp:\n",
    "        plot_colored_text(test_texts[:len_example], test_hyps[:len_example],\n",
    "                          title='Formed Hypothesis',\n",
    "                          save_file=save_hyp)\n",
    "    if save_diag:\n",
    "        plot_colored_text(test_texts[:len_example], pred_hyps[:len_example],\n",
    "                          title='Diagnostic Classifier Prediction',\n",
    "                          save_file=save_diag)\n",
    "    if save_resp:\n",
    "        plot_colored_text(test_texts[:len_example], test_hiddens[:len_example, resp_neuron],\n",
    "                          title='Most Responsible Neuron {}'.format(resp_neuron),\n",
    "                          save_file=save_resp)\n",
    "        \n",
    "    del(train_hyps)\n",
    "    del(train_hiddens)\n",
    "    del(test_texts)\n",
    "    del(test_hiddens)\n",
    "    gc.collect()\n",
    "    \n",
    "    return test_hyps, pred_hyps"
   ]
  },
  {
   "cell_type": "code",
   "execution_count": 31,
   "metadata": {
    "collapsed": true
   },
   "outputs": [],
   "source": [
    "### PLOTTING HELPERS ###\n",
    "def wrap_colored_text(text, colors, W, tabsize=4):\n",
    "    ''' Wrap text with hidden units to certain width '''\n",
    "    new_text, new_colors = [], []\n",
    "\n",
    "    # Wrap lines to width\n",
    "    for char, color in zip(text, colors):\n",
    "        if char == '\\t':\n",
    "            for i in range(tabsize):\n",
    "                new_text.append(' ')\n",
    "                new_colors.append(color)\n",
    "        else:\n",
    "            new_text.append(char)\n",
    "            new_colors.append(color)\n",
    "            if char == '\\n':\n",
    "                for i in range(W - len(new_text) % W):\n",
    "                    new_text.append(' ')\n",
    "                    new_colors.append(np.zeros_like(colors[0]))\n",
    "\n",
    "    # Add final space to obtain (rectangular) matrix\n",
    "    for i in range(W - len(new_text) % W):\n",
    "        new_text.append(' ')\n",
    "        new_colors.append(np.zeros_like(colors[0]))\n",
    "\n",
    "    return np.array(new_text).reshape(-1, W), np.array(new_colors).reshape(-1, W)\n",
    "\n",
    "def plot_colored_text(text, colors, W=80, title=None, save_file=None):\n",
    "    wrapped_text, wrapped_colors = wrap_colored_text(text, colors, W, tabsize=4)\n",
    "\n",
    "    H = len(wrapped_text)\n",
    "    plt.figure(figsize=(W/5, H/3))\n",
    "\n",
    "    color_palette = sns.color_palette(\"RdBu_r\", 255, desat=.9)\n",
    "    color_palette[127] = (1.,1.,1.) # set zero to white color\n",
    "    sns.heatmap(wrapped_colors, annot=wrapped_text,\n",
    "                annot_kws={'color':'black',\n",
    "                           'family':'monospace',\n",
    "                           'horizontalalignment':'center',\n",
    "                           'fontweight':'light'},\n",
    "                fmt='s', cbar=False, vmin=-2, vmax=2)\n",
    "    plt.xticks([])\n",
    "    plt.yticks([])\n",
    "    plt.title(title)\n",
    "    if save_file:\n",
    "        plt.savefig(save_file)\n",
    "    plt.show()"
   ]
  },
  {
   "cell_type": "code",
   "execution_count": 32,
   "metadata": {},
   "outputs": [
    {
     "ename": "ValueError",
     "evalue": "not enough values to unpack (expected 2, got 0)",
     "output_type": "error",
     "traceback": [
      "\u001b[0;31m---------------------------------------------------------------------------\u001b[0m",
      "\u001b[0;31mValueError\u001b[0m                                Traceback (most recent call last)",
      "\u001b[0;32m<ipython-input-32-6bf9f36f196a>\u001b[0m in \u001b[0;36m<module>\u001b[0;34m()\u001b[0m\n\u001b[1;32m      5\u001b[0m                                          \u001b[0msave_hyp\u001b[0m\u001b[0;34m=\u001b[0m\u001b[0;34m'plots/{}_hyp_{}.png'\u001b[0m\u001b[0;34m.\u001b[0m\u001b[0mformat\u001b[0m\u001b[0;34m(\u001b[0m\u001b[0mmodel_name\u001b[0m\u001b[0;34m,\u001b[0m \u001b[0mhyp_name\u001b[0m\u001b[0;34m)\u001b[0m\u001b[0;34m,\u001b[0m\u001b[0;34m\u001b[0m\u001b[0m\n\u001b[1;32m      6\u001b[0m                                          \u001b[0msave_diag\u001b[0m\u001b[0;34m=\u001b[0m\u001b[0;34m'plots/{}_diag_{}.png'\u001b[0m\u001b[0;34m.\u001b[0m\u001b[0mformat\u001b[0m\u001b[0;34m(\u001b[0m\u001b[0mmodel_name\u001b[0m\u001b[0;34m,\u001b[0m \u001b[0mhyp_name\u001b[0m\u001b[0;34m)\u001b[0m\u001b[0;34m,\u001b[0m\u001b[0;34m\u001b[0m\u001b[0m\n\u001b[0;32m----> 7\u001b[0;31m                                          save_resp='plots/{}_resp_{}.png'.format(model_name, hyp_name))\n\u001b[0m",
      "\u001b[0;32m<ipython-input-30-ee0efbfc39f1>\u001b[0m in \u001b[0;36mvalidate_hypothesis\u001b[0;34m(model, diag_classifier, hypothesis, train_len, test_len, tt, save_hyp, save_diag, save_resp)\u001b[0m\n\u001b[1;32m     41\u001b[0m \u001b[0;34m\u001b[0m\u001b[0m\n\u001b[1;32m     42\u001b[0m     \u001b[0;31m# Generate train and test data\u001b[0m\u001b[0;34m\u001b[0m\u001b[0;34m\u001b[0m\u001b[0m\n\u001b[0;32m---> 43\u001b[0;31m     \u001b[0m_\u001b[0m\u001b[0;34m,\u001b[0m \u001b[0mtrain_hyps\u001b[0m\u001b[0;34m,\u001b[0m \u001b[0mtrain_hiddens\u001b[0m\u001b[0;34m,\u001b[0m \u001b[0mtrain_hiddens_2\u001b[0m \u001b[0;34m=\u001b[0m \u001b[0mgen_hyp_data\u001b[0m\u001b[0;34m(\u001b[0m\u001b[0mmodel\u001b[0m\u001b[0;34m,\u001b[0m \u001b[0mtrain_len\u001b[0m\u001b[0;34m,\u001b[0m \u001b[0mhypothesis\u001b[0m\u001b[0;34m,\u001b[0m \u001b[0;36m0\u001b[0m\u001b[0;34m)\u001b[0m\u001b[0;34m\u001b[0m\u001b[0m\n\u001b[0m\u001b[1;32m     44\u001b[0m     \u001b[0mtest_texts\u001b[0m\u001b[0;34m,\u001b[0m \u001b[0mtest_hyps\u001b[0m\u001b[0;34m,\u001b[0m \u001b[0mtest_hiddens\u001b[0m\u001b[0;34m,\u001b[0m \u001b[0mtest_hiddens_2\u001b[0m \u001b[0;34m=\u001b[0m \u001b[0mgen_hyp_data_test\u001b[0m\u001b[0;34m(\u001b[0m\u001b[0mmodel\u001b[0m\u001b[0;34m,\u001b[0m \u001b[0mtest_len\u001b[0m\u001b[0;34m,\u001b[0m \u001b[0mhypothesis\u001b[0m\u001b[0;34m,\u001b[0m \u001b[0mtt\u001b[0m\u001b[0;34m)\u001b[0m\u001b[0;34m\u001b[0m\u001b[0m\n\u001b[1;32m     45\u001b[0m     \u001b[0;31m#print(pearsonr(train_hiddens, train_hyps))\u001b[0m\u001b[0;34m\u001b[0m\u001b[0;34m\u001b[0m\u001b[0m\n",
      "\u001b[0;32m<ipython-input-30-ee0efbfc39f1>\u001b[0m in \u001b[0;36mgen_hyp_data\u001b[0;34m(model, N, hypothesis, start_index)\u001b[0m\n\u001b[1;32m     10\u001b[0m             \u001b[0mhid_2\u001b[0m \u001b[0;34m=\u001b[0m \u001b[0;34m[\u001b[0m\u001b[0;34m]\u001b[0m\u001b[0;34m\u001b[0m\u001b[0m\n\u001b[1;32m     11\u001b[0m             \u001b[0;32mfor\u001b[0m \u001b[0mj\u001b[0m \u001b[0;32min\u001b[0m \u001b[0mrange\u001b[0m\u001b[0;34m(\u001b[0m\u001b[0mlen\u001b[0m\u001b[0;34m(\u001b[0m\u001b[0minp\u001b[0m\u001b[0;34m[\u001b[0m\u001b[0mi\u001b[0m\u001b[0;34m]\u001b[0m\u001b[0;34m)\u001b[0m\u001b[0;34m)\u001b[0m\u001b[0;34m:\u001b[0m\u001b[0;34m\u001b[0m\u001b[0m\n\u001b[0;32m---> 12\u001b[0;31m                 \u001b[0m_\u001b[0m\u001b[0;34m,\u001b[0m \u001b[0mhidden\u001b[0m\u001b[0;34m,\u001b[0m \u001b[0mcell\u001b[0m \u001b[0;34m=\u001b[0m \u001b[0mrnn\u001b[0m\u001b[0;34m(\u001b[0m\u001b[0minp\u001b[0m\u001b[0;34m[\u001b[0m\u001b[0mi\u001b[0m\u001b[0;34m]\u001b[0m\u001b[0;34m[\u001b[0m\u001b[0mj\u001b[0m\u001b[0;34m]\u001b[0m\u001b[0;34m,\u001b[0m \u001b[0mhidden\u001b[0m\u001b[0;34m,\u001b[0m \u001b[0mcell\u001b[0m\u001b[0;34m,\u001b[0m \u001b[0;36m1\u001b[0m\u001b[0;34m)\u001b[0m\u001b[0;34m\u001b[0m\u001b[0m\n\u001b[0m\u001b[1;32m     13\u001b[0m                 \u001b[0mhidden_temp\u001b[0m \u001b[0;34m=\u001b[0m \u001b[0mhidden\u001b[0m\u001b[0;34m.\u001b[0m\u001b[0msqueeze\u001b[0m\u001b[0;34m(\u001b[0m\u001b[0;34m)\u001b[0m\u001b[0;34m\u001b[0m\u001b[0m\n\u001b[1;32m     14\u001b[0m                 \u001b[0mhid\u001b[0m\u001b[0;34m.\u001b[0m\u001b[0mappend\u001b[0m\u001b[0;34m(\u001b[0m\u001b[0mnp\u001b[0m\u001b[0;34m.\u001b[0m\u001b[0marray\u001b[0m\u001b[0;34m(\u001b[0m\u001b[0mhidden_temp\u001b[0m\u001b[0;34m.\u001b[0m\u001b[0mdata\u001b[0m\u001b[0;34m[\u001b[0m\u001b[0;36m0\u001b[0m\u001b[0;34m]\u001b[0m\u001b[0;34m)\u001b[0m\u001b[0;34m)\u001b[0m\u001b[0;34m\u001b[0m\u001b[0m\n",
      "\u001b[0;32m/home/rezka/anaconda3/lib/python3.6/site-packages/torch/nn/modules/module.py\u001b[0m in \u001b[0;36m__call__\u001b[0;34m(self, *input, **kwargs)\u001b[0m\n\u001b[1;32m    323\u001b[0m         \u001b[0;32mfor\u001b[0m \u001b[0mhook\u001b[0m \u001b[0;32min\u001b[0m \u001b[0mself\u001b[0m\u001b[0;34m.\u001b[0m\u001b[0m_forward_pre_hooks\u001b[0m\u001b[0;34m.\u001b[0m\u001b[0mvalues\u001b[0m\u001b[0;34m(\u001b[0m\u001b[0;34m)\u001b[0m\u001b[0;34m:\u001b[0m\u001b[0;34m\u001b[0m\u001b[0m\n\u001b[1;32m    324\u001b[0m             \u001b[0mhook\u001b[0m\u001b[0;34m(\u001b[0m\u001b[0mself\u001b[0m\u001b[0;34m,\u001b[0m \u001b[0minput\u001b[0m\u001b[0;34m)\u001b[0m\u001b[0;34m\u001b[0m\u001b[0m\n\u001b[0;32m--> 325\u001b[0;31m         \u001b[0mresult\u001b[0m \u001b[0;34m=\u001b[0m \u001b[0mself\u001b[0m\u001b[0;34m.\u001b[0m\u001b[0mforward\u001b[0m\u001b[0;34m(\u001b[0m\u001b[0;34m*\u001b[0m\u001b[0minput\u001b[0m\u001b[0;34m,\u001b[0m \u001b[0;34m**\u001b[0m\u001b[0mkwargs\u001b[0m\u001b[0;34m)\u001b[0m\u001b[0;34m\u001b[0m\u001b[0m\n\u001b[0m\u001b[1;32m    326\u001b[0m         \u001b[0;32mfor\u001b[0m \u001b[0mhook\u001b[0m \u001b[0;32min\u001b[0m \u001b[0mself\u001b[0m\u001b[0;34m.\u001b[0m\u001b[0m_forward_hooks\u001b[0m\u001b[0;34m.\u001b[0m\u001b[0mvalues\u001b[0m\u001b[0;34m(\u001b[0m\u001b[0;34m)\u001b[0m\u001b[0;34m:\u001b[0m\u001b[0;34m\u001b[0m\u001b[0m\n\u001b[1;32m    327\u001b[0m             \u001b[0mhook_result\u001b[0m \u001b[0;34m=\u001b[0m \u001b[0mhook\u001b[0m\u001b[0;34m(\u001b[0m\u001b[0mself\u001b[0m\u001b[0;34m,\u001b[0m \u001b[0minput\u001b[0m\u001b[0;34m,\u001b[0m \u001b[0mresult\u001b[0m\u001b[0;34m)\u001b[0m\u001b[0;34m\u001b[0m\u001b[0m\n",
      "\u001b[0;32m<ipython-input-9-e13396923977>\u001b[0m in \u001b[0;36mforward\u001b[0;34m(self, input, hidden, batch_size, attn, context, combine, prev_ht)\u001b[0m\n\u001b[1;32m     29\u001b[0m             \u001b[0;32mif\u001b[0m \u001b[0mcombine\u001b[0m\u001b[0;34m:\u001b[0m\u001b[0;34m\u001b[0m\u001b[0m\n\u001b[1;32m     30\u001b[0m                 \u001b[0membedded\u001b[0m \u001b[0;34m=\u001b[0m \u001b[0mtorch\u001b[0m\u001b[0;34m.\u001b[0m\u001b[0mcat\u001b[0m\u001b[0;34m(\u001b[0m\u001b[0;34m(\u001b[0m\u001b[0membedded\u001b[0m\u001b[0;34m,\u001b[0m \u001b[0mprev_ht\u001b[0m\u001b[0;34m)\u001b[0m\u001b[0;34m,\u001b[0m \u001b[0mdim\u001b[0m\u001b[0;34m=\u001b[0m\u001b[0;36m2\u001b[0m\u001b[0;34m)\u001b[0m\u001b[0;34m\u001b[0m\u001b[0m\n\u001b[0;32m---> 31\u001b[0;31m             \u001b[0mht\u001b[0m\u001b[0;34m,\u001b[0m \u001b[0mhidden\u001b[0m \u001b[0;34m=\u001b[0m \u001b[0mself\u001b[0m\u001b[0;34m.\u001b[0m\u001b[0mlstm\u001b[0m\u001b[0;34m(\u001b[0m\u001b[0membedded\u001b[0m\u001b[0;34m,\u001b[0m \u001b[0mhidden\u001b[0m\u001b[0;34m)\u001b[0m \u001b[0;31m# [batch_size, 1, hidden_size]\u001b[0m\u001b[0;34m\u001b[0m\u001b[0m\n\u001b[0m\u001b[1;32m     32\u001b[0m             \u001b[0;31m#print(ht)\u001b[0m\u001b[0;34m\u001b[0m\u001b[0;34m\u001b[0m\u001b[0m\n\u001b[1;32m     33\u001b[0m             \u001b[0;31m# (batch, out_len, dim) * (batch, in_len, dim) -> (batch, out_len, in_len)\u001b[0m\u001b[0;34m\u001b[0m\u001b[0;34m\u001b[0m\u001b[0m\n",
      "\u001b[0;32m/home/rezka/anaconda3/lib/python3.6/site-packages/torch/nn/modules/module.py\u001b[0m in \u001b[0;36m__call__\u001b[0;34m(self, *input, **kwargs)\u001b[0m\n\u001b[1;32m    323\u001b[0m         \u001b[0;32mfor\u001b[0m \u001b[0mhook\u001b[0m \u001b[0;32min\u001b[0m \u001b[0mself\u001b[0m\u001b[0;34m.\u001b[0m\u001b[0m_forward_pre_hooks\u001b[0m\u001b[0;34m.\u001b[0m\u001b[0mvalues\u001b[0m\u001b[0;34m(\u001b[0m\u001b[0;34m)\u001b[0m\u001b[0;34m:\u001b[0m\u001b[0;34m\u001b[0m\u001b[0m\n\u001b[1;32m    324\u001b[0m             \u001b[0mhook\u001b[0m\u001b[0;34m(\u001b[0m\u001b[0mself\u001b[0m\u001b[0;34m,\u001b[0m \u001b[0minput\u001b[0m\u001b[0;34m)\u001b[0m\u001b[0;34m\u001b[0m\u001b[0m\n\u001b[0;32m--> 325\u001b[0;31m         \u001b[0mresult\u001b[0m \u001b[0;34m=\u001b[0m \u001b[0mself\u001b[0m\u001b[0;34m.\u001b[0m\u001b[0mforward\u001b[0m\u001b[0;34m(\u001b[0m\u001b[0;34m*\u001b[0m\u001b[0minput\u001b[0m\u001b[0;34m,\u001b[0m \u001b[0;34m**\u001b[0m\u001b[0mkwargs\u001b[0m\u001b[0;34m)\u001b[0m\u001b[0;34m\u001b[0m\u001b[0m\n\u001b[0m\u001b[1;32m    326\u001b[0m         \u001b[0;32mfor\u001b[0m \u001b[0mhook\u001b[0m \u001b[0;32min\u001b[0m \u001b[0mself\u001b[0m\u001b[0;34m.\u001b[0m\u001b[0m_forward_hooks\u001b[0m\u001b[0;34m.\u001b[0m\u001b[0mvalues\u001b[0m\u001b[0;34m(\u001b[0m\u001b[0;34m)\u001b[0m\u001b[0;34m:\u001b[0m\u001b[0;34m\u001b[0m\u001b[0m\n\u001b[1;32m    327\u001b[0m             \u001b[0mhook_result\u001b[0m \u001b[0;34m=\u001b[0m \u001b[0mhook\u001b[0m\u001b[0;34m(\u001b[0m\u001b[0mself\u001b[0m\u001b[0;34m,\u001b[0m \u001b[0minput\u001b[0m\u001b[0;34m,\u001b[0m \u001b[0mresult\u001b[0m\u001b[0;34m)\u001b[0m\u001b[0;34m\u001b[0m\u001b[0m\n",
      "\u001b[0;32m/home/rezka/anaconda3/lib/python3.6/site-packages/torch/nn/modules/rnn.py\u001b[0m in \u001b[0;36mforward\u001b[0;34m(self, input, hx)\u001b[0m\n\u001b[1;32m    167\u001b[0m             \u001b[0mflat_weight\u001b[0m\u001b[0;34m=\u001b[0m\u001b[0mflat_weight\u001b[0m\u001b[0;34m\u001b[0m\u001b[0m\n\u001b[1;32m    168\u001b[0m         )\n\u001b[0;32m--> 169\u001b[0;31m         \u001b[0moutput\u001b[0m\u001b[0;34m,\u001b[0m \u001b[0mhidden\u001b[0m \u001b[0;34m=\u001b[0m \u001b[0mfunc\u001b[0m\u001b[0;34m(\u001b[0m\u001b[0minput\u001b[0m\u001b[0;34m,\u001b[0m \u001b[0mself\u001b[0m\u001b[0;34m.\u001b[0m\u001b[0mall_weights\u001b[0m\u001b[0;34m,\u001b[0m \u001b[0mhx\u001b[0m\u001b[0;34m)\u001b[0m\u001b[0;34m\u001b[0m\u001b[0m\n\u001b[0m\u001b[1;32m    170\u001b[0m         \u001b[0;32mif\u001b[0m \u001b[0mis_packed\u001b[0m\u001b[0;34m:\u001b[0m\u001b[0;34m\u001b[0m\u001b[0m\n\u001b[1;32m    171\u001b[0m             \u001b[0moutput\u001b[0m \u001b[0;34m=\u001b[0m \u001b[0mPackedSequence\u001b[0m\u001b[0;34m(\u001b[0m\u001b[0moutput\u001b[0m\u001b[0;34m,\u001b[0m \u001b[0mbatch_sizes\u001b[0m\u001b[0;34m)\u001b[0m\u001b[0;34m\u001b[0m\u001b[0m\n",
      "\u001b[0;32m/home/rezka/anaconda3/lib/python3.6/site-packages/torch/nn/_functions/rnn.py\u001b[0m in \u001b[0;36mforward\u001b[0;34m(input, *fargs, **fkwargs)\u001b[0m\n\u001b[1;32m    383\u001b[0m             \u001b[0;32mreturn\u001b[0m \u001b[0mhack_onnx_rnn\u001b[0m\u001b[0;34m(\u001b[0m\u001b[0;34m(\u001b[0m\u001b[0minput\u001b[0m\u001b[0;34m,\u001b[0m\u001b[0;34m)\u001b[0m \u001b[0;34m+\u001b[0m \u001b[0mfargs\u001b[0m\u001b[0;34m,\u001b[0m \u001b[0moutput\u001b[0m\u001b[0;34m,\u001b[0m \u001b[0margs\u001b[0m\u001b[0;34m,\u001b[0m \u001b[0mkwargs\u001b[0m\u001b[0;34m)\u001b[0m\u001b[0;34m\u001b[0m\u001b[0m\n\u001b[1;32m    384\u001b[0m         \u001b[0;32melse\u001b[0m\u001b[0;34m:\u001b[0m\u001b[0;34m\u001b[0m\u001b[0m\n\u001b[0;32m--> 385\u001b[0;31m             \u001b[0;32mreturn\u001b[0m \u001b[0mfunc\u001b[0m\u001b[0;34m(\u001b[0m\u001b[0minput\u001b[0m\u001b[0;34m,\u001b[0m \u001b[0;34m*\u001b[0m\u001b[0mfargs\u001b[0m\u001b[0;34m,\u001b[0m \u001b[0;34m**\u001b[0m\u001b[0mfkwargs\u001b[0m\u001b[0;34m)\u001b[0m\u001b[0;34m\u001b[0m\u001b[0m\n\u001b[0m\u001b[1;32m    386\u001b[0m \u001b[0;34m\u001b[0m\u001b[0m\n\u001b[1;32m    387\u001b[0m     \u001b[0;32mreturn\u001b[0m \u001b[0mforward\u001b[0m\u001b[0;34m\u001b[0m\u001b[0m\n",
      "\u001b[0;32m/home/rezka/anaconda3/lib/python3.6/site-packages/torch/autograd/function.py\u001b[0m in \u001b[0;36m_do_forward\u001b[0;34m(self, *input)\u001b[0m\n\u001b[1;32m    326\u001b[0m         \u001b[0mself\u001b[0m\u001b[0;34m.\u001b[0m\u001b[0m_nested_input\u001b[0m \u001b[0;34m=\u001b[0m \u001b[0minput\u001b[0m\u001b[0;34m\u001b[0m\u001b[0m\n\u001b[1;32m    327\u001b[0m         \u001b[0mflat_input\u001b[0m \u001b[0;34m=\u001b[0m \u001b[0mtuple\u001b[0m\u001b[0;34m(\u001b[0m\u001b[0m_iter_variables\u001b[0m\u001b[0;34m(\u001b[0m\u001b[0minput\u001b[0m\u001b[0;34m)\u001b[0m\u001b[0;34m)\u001b[0m\u001b[0;34m\u001b[0m\u001b[0m\n\u001b[0;32m--> 328\u001b[0;31m         \u001b[0mflat_output\u001b[0m \u001b[0;34m=\u001b[0m \u001b[0msuper\u001b[0m\u001b[0;34m(\u001b[0m\u001b[0mNestedIOFunction\u001b[0m\u001b[0;34m,\u001b[0m \u001b[0mself\u001b[0m\u001b[0;34m)\u001b[0m\u001b[0;34m.\u001b[0m\u001b[0m_do_forward\u001b[0m\u001b[0;34m(\u001b[0m\u001b[0;34m*\u001b[0m\u001b[0mflat_input\u001b[0m\u001b[0;34m)\u001b[0m\u001b[0;34m\u001b[0m\u001b[0m\n\u001b[0m\u001b[1;32m    329\u001b[0m         \u001b[0mnested_output\u001b[0m \u001b[0;34m=\u001b[0m \u001b[0mself\u001b[0m\u001b[0;34m.\u001b[0m\u001b[0m_nested_output\u001b[0m\u001b[0;34m\u001b[0m\u001b[0m\n\u001b[1;32m    330\u001b[0m         \u001b[0mnested_variables\u001b[0m \u001b[0;34m=\u001b[0m \u001b[0m_unflatten\u001b[0m\u001b[0;34m(\u001b[0m\u001b[0mflat_output\u001b[0m\u001b[0;34m,\u001b[0m \u001b[0mself\u001b[0m\u001b[0;34m.\u001b[0m\u001b[0m_nested_output\u001b[0m\u001b[0;34m)\u001b[0m\u001b[0;34m\u001b[0m\u001b[0m\n",
      "\u001b[0;32m/home/rezka/anaconda3/lib/python3.6/site-packages/torch/autograd/function.py\u001b[0m in \u001b[0;36mforward\u001b[0;34m(self, *args)\u001b[0m\n\u001b[1;32m    348\u001b[0m     \u001b[0;32mdef\u001b[0m \u001b[0mforward\u001b[0m\u001b[0;34m(\u001b[0m\u001b[0mself\u001b[0m\u001b[0;34m,\u001b[0m \u001b[0;34m*\u001b[0m\u001b[0margs\u001b[0m\u001b[0;34m)\u001b[0m\u001b[0;34m:\u001b[0m\u001b[0;34m\u001b[0m\u001b[0m\n\u001b[1;32m    349\u001b[0m         \u001b[0mnested_tensors\u001b[0m \u001b[0;34m=\u001b[0m \u001b[0m_map_variable_tensor\u001b[0m\u001b[0;34m(\u001b[0m\u001b[0mself\u001b[0m\u001b[0;34m.\u001b[0m\u001b[0m_nested_input\u001b[0m\u001b[0;34m)\u001b[0m\u001b[0;34m\u001b[0m\u001b[0m\n\u001b[0;32m--> 350\u001b[0;31m         \u001b[0mresult\u001b[0m \u001b[0;34m=\u001b[0m \u001b[0mself\u001b[0m\u001b[0;34m.\u001b[0m\u001b[0mforward_extended\u001b[0m\u001b[0;34m(\u001b[0m\u001b[0;34m*\u001b[0m\u001b[0mnested_tensors\u001b[0m\u001b[0;34m)\u001b[0m\u001b[0;34m\u001b[0m\u001b[0m\n\u001b[0m\u001b[1;32m    351\u001b[0m         \u001b[0;32mdel\u001b[0m \u001b[0mself\u001b[0m\u001b[0;34m.\u001b[0m\u001b[0m_nested_input\u001b[0m\u001b[0;34m\u001b[0m\u001b[0m\n\u001b[1;32m    352\u001b[0m         \u001b[0mself\u001b[0m\u001b[0;34m.\u001b[0m\u001b[0m_nested_output\u001b[0m \u001b[0;34m=\u001b[0m \u001b[0mresult\u001b[0m\u001b[0;34m\u001b[0m\u001b[0m\n",
      "\u001b[0;32m/home/rezka/anaconda3/lib/python3.6/site-packages/torch/nn/_functions/rnn.py\u001b[0m in \u001b[0;36mforward_extended\u001b[0;34m(self, input, weight, hx)\u001b[0m\n\u001b[1;32m    292\u001b[0m             \u001b[0mhy\u001b[0m \u001b[0;34m=\u001b[0m \u001b[0mtuple\u001b[0m\u001b[0;34m(\u001b[0m\u001b[0mh\u001b[0m\u001b[0;34m.\u001b[0m\u001b[0mnew\u001b[0m\u001b[0;34m(\u001b[0m\u001b[0;34m)\u001b[0m \u001b[0;32mfor\u001b[0m \u001b[0mh\u001b[0m \u001b[0;32min\u001b[0m \u001b[0mhx\u001b[0m\u001b[0;34m)\u001b[0m\u001b[0;34m\u001b[0m\u001b[0m\n\u001b[1;32m    293\u001b[0m \u001b[0;34m\u001b[0m\u001b[0m\n\u001b[0;32m--> 294\u001b[0;31m         \u001b[0mcudnn\u001b[0m\u001b[0;34m.\u001b[0m\u001b[0mrnn\u001b[0m\u001b[0;34m.\u001b[0m\u001b[0mforward\u001b[0m\u001b[0;34m(\u001b[0m\u001b[0mself\u001b[0m\u001b[0;34m,\u001b[0m \u001b[0minput\u001b[0m\u001b[0;34m,\u001b[0m \u001b[0mhx\u001b[0m\u001b[0;34m,\u001b[0m \u001b[0mweight\u001b[0m\u001b[0;34m,\u001b[0m \u001b[0moutput\u001b[0m\u001b[0;34m,\u001b[0m \u001b[0mhy\u001b[0m\u001b[0;34m)\u001b[0m\u001b[0;34m\u001b[0m\u001b[0m\n\u001b[0m\u001b[1;32m    295\u001b[0m \u001b[0;34m\u001b[0m\u001b[0m\n\u001b[1;32m    296\u001b[0m         \u001b[0mself\u001b[0m\u001b[0;34m.\u001b[0m\u001b[0msave_for_backward\u001b[0m\u001b[0;34m(\u001b[0m\u001b[0minput\u001b[0m\u001b[0;34m,\u001b[0m \u001b[0mhx\u001b[0m\u001b[0;34m,\u001b[0m \u001b[0mweight\u001b[0m\u001b[0;34m,\u001b[0m \u001b[0moutput\u001b[0m\u001b[0;34m)\u001b[0m\u001b[0;34m\u001b[0m\u001b[0m\n",
      "\u001b[0;32m/home/rezka/anaconda3/lib/python3.6/site-packages/torch/backends/cudnn/rnn.py\u001b[0m in \u001b[0;36mforward\u001b[0;34m(fn, input, hx, weight, output, hy)\u001b[0m\n\u001b[1;32m    197\u001b[0m         \u001b[0;32mif\u001b[0m \u001b[0mfn\u001b[0m\u001b[0;34m.\u001b[0m\u001b[0mmode\u001b[0m \u001b[0;34m==\u001b[0m \u001b[0mcudnn\u001b[0m\u001b[0;34m.\u001b[0m\u001b[0mCUDNN_LSTM\u001b[0m\u001b[0;34m:\u001b[0m\u001b[0;34m\u001b[0m\u001b[0m\n\u001b[1;32m    198\u001b[0m             \u001b[0mhx\u001b[0m\u001b[0;34m,\u001b[0m \u001b[0mcx\u001b[0m \u001b[0;34m=\u001b[0m \u001b[0mhx\u001b[0m\u001b[0;34m\u001b[0m\u001b[0m\n\u001b[0;32m--> 199\u001b[0;31m             \u001b[0mhy\u001b[0m\u001b[0;34m,\u001b[0m \u001b[0mcy\u001b[0m \u001b[0;34m=\u001b[0m \u001b[0mhy\u001b[0m\u001b[0;34m\u001b[0m\u001b[0m\n\u001b[0m\u001b[1;32m    200\u001b[0m         \u001b[0;32melse\u001b[0m\u001b[0;34m:\u001b[0m\u001b[0;34m\u001b[0m\u001b[0m\n\u001b[1;32m    201\u001b[0m             \u001b[0mcx\u001b[0m\u001b[0;34m,\u001b[0m \u001b[0mcy\u001b[0m \u001b[0;34m=\u001b[0m \u001b[0;32mNone\u001b[0m\u001b[0;34m,\u001b[0m \u001b[0;32mNone\u001b[0m\u001b[0;34m\u001b[0m\u001b[0m\n",
      "\u001b[0;31mValueError\u001b[0m: not enough values to unpack (expected 2, got 0)"
     ]
    }
   ],
   "source": [
    "model_name = \"lstm_2000example_20000c_attn\"\n",
    "hyp_name = \"detect_k_factors\"\n",
    "y_true, y_pred = validate_hypothesis(rnn, LogisticRegression(), hypothesis_detect_k_factors,\n",
    "                                         train_len=1000, test_len=1, tt=\"bbb#bdd#cce#cdd#ddf$fdddcbfacddabaadfdeb\",\n",
    "                                         save_hyp='plots/{}_hyp_{}.png'.format(model_name, hyp_name),\n",
    "                                         save_diag='plots/{}_diag_{}.png'.format(model_name, hyp_name),\n",
    "                                         save_resp='plots/{}_resp_{}.png'.format(model_name, hyp_name))"
   ]
  },
  {
   "cell_type": "code",
   "execution_count": 114,
   "metadata": {},
   "outputs": [
    {
     "data": {
      "image/png": "[encoded data removed]",
      "text/plain": [
       "<matplotlib.figure.Figure at 0x7f04e66a27f0>"
      ]
     },
     "metadata": {},
     "output_type": "display_data"
    }
   ],
   "source": [
    "acc_test = [0.98, 0.96, 0.69, 0.59, 0.58, 0.59, 0.57]\n",
    "experiment = [5, 10, 20, 50, 500, 1000, 2000]\n",
    "x = np.arange(len(acc_test))\n",
    "plt.bar(x, acc_test)\n",
    "plt.xticks(x, experiment)\n",
    "plt.xlabel('Number of Grammar')\n",
    "plt.ylabel('Test Accuracy')\n",
    "plt.title('Test Accuracy on Different Number of Grammar')\n",
    "plt.savefig(\"plots/lstm_test_acc_bar.png\")\n",
    "plt.show()"
   ]
  },
  {
   "cell_type": "code",
   "execution_count": null,
   "metadata": {
    "collapsed": true
   },
   "outputs": [],
   "source": []
  }
 ],
 "metadata": {
  "kernelspec": {
   "display_name": "Python 3",
   "language": "python",
   "name": "python3"
  },
  "language_info": {
   "codemirror_mode": {
    "name": "ipython",
    "version": 3
   },
   "file_extension": ".py",
   "mimetype": "text/x-python",
   "name": "python",
   "nbconvert_exporter": "python",
   "pygments_lexer": "ipython3",
   "version": "3.6.1"
  }
 },
 "nbformat": 4,
 "nbformat_minor": 2
}
