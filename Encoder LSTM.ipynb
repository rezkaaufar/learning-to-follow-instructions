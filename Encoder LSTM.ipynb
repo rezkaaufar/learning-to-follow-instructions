{
 "cells": [
  {
   "cell_type": "markdown",
   "metadata": {},
   "source": [
    "## Code "
   ]
  },
  {
   "cell_type": "code",
   "execution_count": 272,
   "metadata": {},
   "outputs": [
    {
     "name": "stdout",
     "output_type": "stream",
     "text": [
      "Populating the interactive namespace from numpy and matplotlib\n"
     ]
    },
    {
     "name": "stderr",
     "output_type": "stream",
     "text": [
      "/home/rezka/anaconda3/lib/python3.6/site-packages/IPython/core/magics/pylab.py:161: UserWarning: pylab import has clobbered these variables: ['f', 'random', 'clip']\n",
      "`%matplotlib` prevents importing * from pylab and numpy\n",
      "  \"\\n`%matplotlib` prevents importing * from pylab and numpy\"\n"
     ]
    }
   ],
   "source": [
    "import torch\n",
    "import torch.nn as nn\n",
    "import torch.nn.functional as F\n",
    "from torch.autograd import Variable\n",
    "import time\n",
    "import math\n",
    "import re\n",
    "import gc\n",
    "import random\n",
    "%pylab inline"
   ]
  },
  {
   "cell_type": "code",
   "execution_count": 273,
   "metadata": {
    "collapsed": true
   },
   "outputs": [],
   "source": [
    "inps = []\n",
    "labels = []\n",
    "with open(\"dataset/subreg_train_5.txt\", \"r\") as f:\n",
    "    for line in f:\n",
    "        ar = line.split(\"\\t\")\n",
    "        g_str = ar[0].replace(\" \",\"#\")\n",
    "        inp = g_str + \"$\" + ar[1] \n",
    "        lab = ar[2].replace(\"\\n\",\"\")\n",
    "        inps.append(inp)\n",
    "        labels.append(lab)"
   ]
  },
  {
   "cell_type": "code",
   "execution_count": 274,
   "metadata": {
    "collapsed": true
   },
   "outputs": [],
   "source": [
    "# in this case it is only six\n",
    "all_characters = ['a','b','c','d','e','f','#','$']\n",
    "n_letters = 8\n",
    "categ = ['0', '1']\n",
    "n_categories = 2\n",
    "len_example = 40 # length of the grammars and example\n",
    "\n",
    "# turn string into list of longs\n",
    "def char_tensor(string):\n",
    "    tensor = torch.zeros(n_letters).long()\n",
    "    char_index = all_characters.index(string)\n",
    "    tensor[char_index] = 1\n",
    "    return tensor\n",
    "\n",
    "def categories_tensor(string):\n",
    "    tensor = torch.zeros(len(string)).long()\n",
    "    for li, letter in enumerate(string):\n",
    "        letter_index = categ.index(letter)\n",
    "        tensor[li] = letter_index\n",
    "    return tensor\n",
    "\n",
    "def seq_tensor(string):\n",
    "    tensor = torch.zeros(len(string)).long()\n",
    "    for li, letter in enumerate(string):\n",
    "        letter_index = all_characters.index(letter)\n",
    "        tensor[li] = letter_index\n",
    "    return tensor"
   ]
  },
  {
   "cell_type": "code",
   "execution_count": 275,
   "metadata": {
    "collapsed": true
   },
   "outputs": [],
   "source": [
    "def generate_batch(start_index, len_example, batch_size, inps, labels):\n",
    "    inp_tensor = torch.zeros(batch_size, len_example).long()\n",
    "    lab_tensor = torch.zeros(batch_size, 1).long()\n",
    "    for i in range(batch_size):\n",
    "        inp = seq_tensor(inps[start_index+i])\n",
    "        lab = categories_tensor(labels[start_index+i])\n",
    "        inp_tensor[i,:] = inp\n",
    "        lab_tensor[i,:] = lab\n",
    "    # uncomment to do this with CPU\n",
    "    #return Variable(inp_tensor), Variable(lab_tensor)\n",
    "    return Variable(inp_tensor.cuda(), requires_grad=False), Variable(lab_tensor.cuda(), requires_grad=False)"
   ]
  },
  {
   "cell_type": "code",
   "execution_count": 276,
   "metadata": {},
   "outputs": [],
   "source": [
    "def generate_random_batch(len_example, batch_size, inps, labels):\n",
    "    even_ind = np.arange(0,len(inps),2)\n",
    "    odd_ind = np.arange(1,len(inps),2)\n",
    "    a = random.choice(even_ind, batch_size // 2)\n",
    "    b = random.choice(odd_ind, batch_size // 2)\n",
    "    random_index = np.concatenate([a,b])\n",
    "    inp_tensor = torch.zeros(batch_size, len_example).long()\n",
    "    lab_tensor = torch.zeros(batch_size, 1).long()\n",
    "    for i, ind in enumerate(random_index):\n",
    "        inp = seq_tensor(inps[ind])\n",
    "        lab = categories_tensor(labels[ind])\n",
    "        inp_tensor[i,:] = inp\n",
    "        lab_tensor[i,:] = lab\n",
    "    # uncomment to do this with CPU\n",
    "    #return Variable(inp_tensor), Variable(lab_tensor)\n",
    "    return Variable(inp_tensor.cuda(), requires_grad=False), Variable(lab_tensor.cuda(), requires_grad=False)"
   ]
  },
  {
   "cell_type": "code",
   "execution_count": 277,
   "metadata": {},
   "outputs": [],
   "source": [
    "def convert_string(texts):\n",
    "    inp_tensor = torch.zeros(1, len_example).long()\n",
    "    inp = seq_tensor(texts)\n",
    "    inp_tensor[0,:] = inp\n",
    "    # uncomment to do this with CPU\n",
    "    #return Variable(inp_tensor), Variable(lab_tensor)\n",
    "    return Variable(inp_tensor.cuda(), requires_grad=False)"
   ]
  },
  {
   "cell_type": "code",
   "execution_count": 278,
   "metadata": {
    "collapsed": true
   },
   "outputs": [],
   "source": [
    "n_epochs = 10\n",
    "n_hidden = 128\n",
    "n_layers = 2\n",
    "lr = 1e-3\n",
    "clip = 0.25\n",
    "batch_size = 200\n",
    "dropout = 0.0\n",
    "\n",
    "print_every = 200"
   ]
  },
  {
   "cell_type": "code",
   "execution_count": 279,
   "metadata": {
    "collapsed": true
   },
   "outputs": [],
   "source": [
    "class RNN(nn.Module):\n",
    "    def __init__(self, input_size, hidden_size, output_size, n_layers=2, dropout=0.2):\n",
    "        super(RNN, self).__init__()\n",
    "        self.input_size = input_size\n",
    "        self.hidden_size = hidden_size\n",
    "        self.output_size = output_size\n",
    "        self.n_layers = n_layers\n",
    "        self.dropout = dropout\n",
    "        \n",
    "        self.encoder = nn.Embedding(input_size, hidden_size)\n",
    "        self.lstm = nn.LSTM(hidden_size, hidden_size, n_layers, dropout=dropout)\n",
    "        self.decoder = nn.Linear(hidden_size, output_size)\n",
    "    \n",
    "    def forward(self, input, hidden, cell, batch_size):\n",
    "        embeds = self.encoder(input)\n",
    "        output, (hidden, cell) = self.lstm(embeds.view(1, batch_size, -1), (hidden, cell))\n",
    "        output = self.decoder(output.view(batch_size, -1))\n",
    "        return output, hidden, cell\n",
    "\n",
    "    def init_hidden(self, batch_size):\n",
    "        h0 = Variable(torch.zeros(self.n_layers, batch_size, self.hidden_size).cuda())\n",
    "        c0 = Variable(torch.zeros(self.n_layers, batch_size, self.hidden_size).cuda())\n",
    "        return h0, c0"
   ]
  },
  {
   "cell_type": "code",
   "execution_count": 280,
   "metadata": {
    "collapsed": true
   },
   "outputs": [],
   "source": [
    "rnn = RNN(n_letters, n_hidden, n_categories, dropout=dropout)\n",
    "rnn_optimizer = torch.optim.Adam(rnn.parameters(), lr=lr)\n",
    "criterion = nn.CrossEntropyLoss()"
   ]
  },
  {
   "cell_type": "code",
   "execution_count": 281,
   "metadata": {},
   "outputs": [
    {
     "data": {
      "text/plain": [
       "RNN(\n",
       "  (encoder): Embedding(8, 128)\n",
       "  (lstm): LSTM(128, 128, num_layers=2)\n",
       "  (decoder): Linear(in_features=128, out_features=2)\n",
       ")"
      ]
     },
     "execution_count": 281,
     "metadata": {},
     "output_type": "execute_result"
    }
   ],
   "source": [
    "rnn.cuda()"
   ]
  },
  {
   "cell_type": "code",
   "execution_count": 282,
   "metadata": {
    "collapsed": true
   },
   "outputs": [],
   "source": [
    "# training\n",
    "def train(inp, target, hidden, cell):\n",
    "    loss = 0\n",
    "    hidden, cell = rnn.init_hidden(batch_size)\n",
    "    rnn.zero_grad()\n",
    "    for c in range(len_example):\n",
    "        output, hidden, cell = rnn(inp[:,c], hidden, cell, batch_size)\n",
    "    loss = criterion(output.view(batch_size, -1), target[:,0])\n",
    "    loss.backward()\n",
    "    rnn_optimizer.step()\n",
    "\n",
    "    return loss.data[0], hidden, cell"
   ]
  },
  {
   "cell_type": "code",
   "execution_count": 283,
   "metadata": {
    "collapsed": true
   },
   "outputs": [],
   "source": [
    "def repackage_hidden(h, c):\n",
    "    \"\"\"Wraps hidden states in new Variables, to detach them from their history.\"\"\"\n",
    "    if type(h) == Variable:\n",
    "        return Variable(h.data), Variable(c.data)\n",
    "    else:\n",
    "        return tuple(repackage_hidden(v) for v in h), tuple(repackage_hidden(u) for u in c)"
   ]
  },
  {
   "cell_type": "code",
   "execution_count": 284,
   "metadata": {
    "collapsed": true
   },
   "outputs": [],
   "source": [
    "def time_since(since):\n",
    "    now = time.time()\n",
    "    s = now - since\n",
    "    m = math.floor(s / 60)\n",
    "    s -= m * 60\n",
    "    return '%dm %ds' % (m, s)"
   ]
  },
  {
   "cell_type": "code",
   "execution_count": 292,
   "metadata": {
    "collapsed": true
   },
   "outputs": [],
   "source": [
    "inps_t = []\n",
    "labels_t = []\n",
    "with open(\"dataset/subreg_test_5.txt\", \"r\") as f:\n",
    "    for line in f:\n",
    "        ar = line.split(\"\\t\")\n",
    "        g_str = ar[0].replace(\" \",\"#\")\n",
    "        inp = g_str + \"$\" + ar[1] \n",
    "        lab = ar[2].replace(\"\\n\",\"\")\n",
    "        inps_t.append(inp)\n",
    "        labels_t.append(lab)"
   ]
  },
  {
   "cell_type": "code",
   "execution_count": 297,
   "metadata": {},
   "outputs": [],
   "source": [
    "def accuracy_test_data():\n",
    "    bst = 400\n",
    "    it = len(inps_t) / bst\n",
    "    acc_tot = 0\n",
    "    for i in range(int(it)):\n",
    "        hidden, cell = rnn.init_hidden(bst)\n",
    "        start_index = i * bst\n",
    "        inp_t, lab_t = generate_batch(start_index, len_example, bst, inps_t, labels_t)\n",
    "        rnn.zero_grad()\n",
    "        for c in range(len_example):\n",
    "            output, hidden, cell = rnn(inp_t[:,c], hidden, cell, bst)\n",
    "        max_idx = output.max(1)[1]\n",
    "        accuracy = (lab_t.squeeze() == max_idx).long().sum().float() / bst\n",
    "        acc_tot += accuracy.data[0] #, max_idx.sum().data[0]\n",
    "    return acc_tot / it"
   ]
  },
  {
   "cell_type": "code",
   "execution_count": 298,
   "metadata": {},
   "outputs": [],
   "source": [
    "def accuracy_train_data():\n",
    "    bst = 2000\n",
    "    it = len(inps) / bst\n",
    "    acc_tot = 0\n",
    "    for i in range(int(it)):\n",
    "        hidden, cell = rnn.init_hidden(bst)\n",
    "        start_index = i * bst\n",
    "        inp_t, lab_t = generate_batch(start_index, len_example, bst, inps, labels)\n",
    "        #rnn.zero_grad()\n",
    "        for c in range(len_example):\n",
    "            output, hidden, cell = rnn(inp_t[:,c], hidden, cell, bst)\n",
    "        max_idx = output.max(1)[1]\n",
    "        accuracy = (lab_t.squeeze() == max_idx).long().sum().float()\n",
    "        acc_tot += accuracy.data[0] #, max_idx.sum().data[0]\n",
    "    return acc_tot / len(inps)"
   ]
  },
  {
   "cell_type": "code",
   "execution_count": 299,
   "metadata": {},
   "outputs": [
    {
     "name": "stdout",
     "output_type": "stream",
     "text": [
      "Loss 0.684780478477478, Test Accuracy 0.5457499891519546, Train Accuracy 0.518325\n",
      "Loss 1.0990490913391113, Test Accuracy 0.479499988257885, Train Accuracy 0.559275\n",
      "Loss 1.0540295839309692, Test Accuracy 0.4801249846816063, Train Accuracy 0.576075\n",
      "Loss 0.9462663531303406, Test Accuracy 0.4838749870657921, Train Accuracy 0.5689\n",
      "Loss 1.06520414352417, Test Accuracy 0.48624999076128006, Train Accuracy 0.5889\n",
      "Loss 1.083767294883728, Test Accuracy 0.47412498891353605, Train Accuracy 0.5998\n",
      "Loss 1.3138540983200073, Test Accuracy 0.471499989926815, Train Accuracy 0.597925\n",
      "Loss 1.038565754890442, Test Accuracy 0.4733749911189079, Train Accuracy 0.6067\n",
      "Loss 1.0218406915664673, Test Accuracy 0.482124987244606, Train Accuracy 0.63205\n",
      "Loss 0.737062931060791, Test Accuracy 0.4883749887347221, Train Accuracy 0.594175\n"
     ]
    }
   ],
   "source": [
    "start = time.time()\n",
    "iters = 0\n",
    "rnn.train()\n",
    "losses, accs, accs_tr = [], [], []\n",
    "for epoch in range(1, n_epochs + 1):\n",
    "    start_index = 0\n",
    "    hidden, cell = rnn.init_hidden(batch_size)\n",
    "    steps = len(inps) / batch_size\n",
    "    for i in range(int(steps)):\n",
    "        start_index = i * batch_size\n",
    "        inp, target = generate_batch(start_index, len_example, batch_size, inps, labels)\n",
    "        hidden, cell = repackage_hidden(hidden, cell)\n",
    "        loss, hidden, cell = train(inp, target, hidden, cell)\n",
    "        losses.append(loss)\n",
    "        if iters % print_every == 0:\n",
    "            acc = accuracy_test_data()\n",
    "            acc_tr = accuracy_train_data()\n",
    "            accs.append(acc)\n",
    "            accs_tr.append(acc_tr)\n",
    "            print(\"Loss {}, Test Accuracy {}, Train Accuracy {}\".format(loss, acc, acc_tr))\n",
    "            \n",
    "        iters += 1"
   ]
  },
  {
   "cell_type": "code",
   "execution_count": 300,
   "metadata": {},
   "outputs": [
    {
     "data": {
      "image/png": "[encoded data removed]",
      "text/plain": [
       "<matplotlib.figure.Figure at 0x7f99f71869e8>"
      ]
     },
     "metadata": {},
     "output_type": "display_data"
    },
    {
     "data": {
      "image/png": "[encoded data removed]",
      "text/plain": [
       "<matplotlib.figure.Figure at 0x7f99c46f1278>"
      ]
     },
     "metadata": {},
     "output_type": "display_data"
    },
    {
     "data": {
      "image/png": "[encoded data removed]",
      "text/plain": [
       "<matplotlib.figure.Figure at 0x7f99f7127630>"
      ]
     },
     "metadata": {},
     "output_type": "display_data"
    }
   ],
   "source": [
    "## plots\n",
    "plt.plot(np.arange(len(losses)), losses)\n",
    "plt.title('LSTM 5 Example 20000 Losses')\n",
    "plt.savefig(\"plots/lstm_5example_20000c_losses.png\")\n",
    "plt.show()\n",
    "\n",
    "plt.plot(np.arange(len(accs)), accs)\n",
    "plt.title('LSTM 5 Example 20000 Test Accuracy')\n",
    "plt.savefig(\"plots/lstm_5example_20000c_test_acc.png\")\n",
    "plt.show()\n",
    "\n",
    "plt.plot(np.arange(len(accs_tr)), accs_tr)\n",
    "plt.title('LSTM 5 Example 20000 Train Accuracy')\n",
    "plt.savefig(\"plots/lstm_5example_20000c_train_acc.png\")\n",
    "plt.show()"
   ]
  },
  {
   "cell_type": "code",
   "execution_count": 301,
   "metadata": {},
   "outputs": [
    {
     "name": "stderr",
     "output_type": "stream",
     "text": [
      "/home/rezka/anaconda3/lib/python3.6/site-packages/torch/serialization.py:158: UserWarning: Couldn't retrieve source code for container of type RNN. It won't be checked for correctness upon loading.\n",
      "  \"type \" + obj.__name__ + \". It won't be checked \"\n"
     ]
    }
   ],
   "source": [
    "with open('models/lstm_5example_20000c.tar','wb') as ckpt:\n",
    "     torch.save(rnn, ckpt)"
   ]
  },
  {
   "cell_type": "markdown",
   "metadata": {
    "collapsed": true
   },
   "source": [
    "## Analysis and Diagnostic Classifier"
   ]
  },
  {
   "cell_type": "code",
   "execution_count": 302,
   "metadata": {},
   "outputs": [],
   "source": [
    "from sklearn import metrics\n",
    "from scipy import stats\n",
    "import scipy as sp\n",
    "\n",
    "from sklearn.linear_model import LinearRegression\n",
    "from sklearn.linear_model import LogisticRegression\n",
    "from sklearn.linear_model import Ridge\n",
    "\n",
    "from scipy.stats import pearsonr"
   ]
  },
  {
   "cell_type": "code",
   "execution_count": 303,
   "metadata": {},
   "outputs": [],
   "source": [
    "rnn = torch.load('models/lstm_5example_20000c.tar').cuda()"
   ]
  },
  {
   "cell_type": "code",
   "execution_count": 304,
   "metadata": {
    "collapsed": true
   },
   "outputs": [],
   "source": [
    "def hypothesis_k_factors(text):\n",
    "    return np.array([-1 if x == '#' or x == '$' else 1 for x in text])\n",
    "\n",
    "def hypothesis_detect_k_factors(text):\n",
    "    hyp = np.full(len(text), -1)\n",
    "    texts = text.split(\"$\")\n",
    "    kfs = texts[0].split(\"#\")\n",
    "    for kf in kfs:\n",
    "        if kf in texts[1]:\n",
    "            ind = [m.start() for m in re.finditer(kf, text)]\n",
    "            for el in ind:\n",
    "                hyp[el:el+3] = 1\n",
    "    return hyp"
   ]
  },
  {
   "cell_type": "code",
   "execution_count": 305,
   "metadata": {
    "collapsed": true
   },
   "outputs": [],
   "source": [
    "def validate_hypothesis(model, diag_classifier, hypothesis, train_len=50,\n",
    "                        test_len=1, tt=None, save_hyp=None, save_diag=None, save_resp=None):\n",
    "    # Generate hypothesis data\n",
    "    def gen_hyp_data(model, N, hypothesis, start_index):\n",
    "        texts, hiddens, hiddens_2, hyps = [], [], [], []\n",
    "        inp, target = generate_random_batch(len_example, N, inps, labels)\n",
    "        for i in range(N):\n",
    "            hidden, cell = rnn.init_hidden(1)\n",
    "            hid = []\n",
    "            hid_2 = []\n",
    "            for j in range(len(inp[i])):\n",
    "                _, hidden, cell = rnn(inp[i][j], hidden, cell, 1)\n",
    "                hidden_temp = hidden.squeeze()\n",
    "                hid.append(np.array(hidden_temp.data[0]))\n",
    "                hid_2.append(np.array(hidden_temp.data[1]))\n",
    "            hyp = hypothesis(inps[i])\n",
    "            hiddens.append(hid)\n",
    "            hiddens_2.append(hid_2)\n",
    "            hyps.append(hyp)\n",
    "            texts.append(inps[i])\n",
    "        return ''.join(texts), np.concatenate(hyps), np.concatenate(hiddens), np.concatenate(hiddens_2)\n",
    "    \n",
    "    def gen_hyp_data_test(model, N, hypothesis, tt):\n",
    "        texts, hiddens, hiddens_2, hyps = [], [], [], []\n",
    "        tensor_tt = convert_string(tt)\n",
    "        for i in range(N):\n",
    "            hidden, cell = rnn.init_hidden(1)\n",
    "            hid = []\n",
    "            hid_2 = []\n",
    "            for j in range(len(tensor_tt[i])):\n",
    "                _, hidden, cell = rnn(tensor_tt[i][j], hidden, cell, 1)\n",
    "                hidden_temp = hidden.squeeze()\n",
    "                hid.append(np.array(hidden_temp.data[0]))\n",
    "                hid_2.append(np.array(hidden_temp.data[1]))\n",
    "            hyp = hypothesis(tt)\n",
    "            hiddens.append(hid)\n",
    "            hiddens_2.append(hid_2)\n",
    "            hyps.append(hyp)\n",
    "            texts.append(tt)\n",
    "        return ''.join(texts), np.concatenate(hyps), np.concatenate(hiddens), np.concatenate(hiddens_2)\n",
    "\n",
    "    # Generate train and test data\n",
    "    _, train_hyps, train_hiddens, train_hiddens_2 = gen_hyp_data(model, train_len, hypothesis, 0)\n",
    "    test_texts, test_hyps, test_hiddens, test_hiddens_2 = gen_hyp_data_test(model, test_len, hypothesis, tt)\n",
    "    #print(pearsonr(train_hiddens, train_hyps))\n",
    "    #print(pearsonr(test_hiddens, test_hyps))\n",
    "\n",
    "    # Train Diagnostic Classifier\n",
    "    diag_classifier.fit(train_hiddens, train_hyps)\n",
    "    \n",
    "    # Predict with Diagnostic Classifier\n",
    "    pred_hyps = diag_classifier.predict(test_hiddens)\n",
    "    \n",
    "    # Find responsible neuron\n",
    "    resp_neuron = np.argmax(np.abs(diag_classifier.coef_))\n",
    "    print(resp_neuron)\n",
    "    \n",
    "    # Plot results\n",
    "    if save_hyp:\n",
    "        plot_colored_text(test_texts[:len_example], test_hyps[:len_example],\n",
    "                          title='Formed Hypothesis',\n",
    "                          save_file=save_hyp)\n",
    "    if save_diag:\n",
    "        plot_colored_text(test_texts[:len_example], pred_hyps[:len_example],\n",
    "                          title='Diagnostic Classifier Prediction',\n",
    "                          save_file=save_diag)\n",
    "    if save_resp:\n",
    "        plot_colored_text(test_texts[:len_example], test_hiddens[:len_example, resp_neuron],\n",
    "                          title='Most Responsible Neuron {}'.format(resp_neuron),\n",
    "                          save_file=save_resp)\n",
    "        \n",
    "    del(train_hyps)\n",
    "    del(train_hiddens)\n",
    "    del(test_texts)\n",
    "    del(test_hiddens)\n",
    "    gc.collect()\n",
    "    \n",
    "    return test_hyps, pred_hyps"
   ]
  },
  {
   "cell_type": "code",
   "execution_count": 306,
   "metadata": {
    "collapsed": true
   },
   "outputs": [],
   "source": [
    "### PLOTTING HELPERS ###\n",
    "def wrap_colored_text(text, colors, W, tabsize=4):\n",
    "    ''' Wrap text with hidden units to certain width '''\n",
    "    new_text, new_colors = [], []\n",
    "\n",
    "    # Wrap lines to width\n",
    "    for char, color in zip(text, colors):\n",
    "        if char == '\\t':\n",
    "            for i in range(tabsize):\n",
    "                new_text.append(' ')\n",
    "                new_colors.append(color)\n",
    "        else:\n",
    "            new_text.append(char)\n",
    "            new_colors.append(color)\n",
    "            if char == '\\n':\n",
    "                for i in range(W - len(new_text) % W):\n",
    "                    new_text.append(' ')\n",
    "                    new_colors.append(np.zeros_like(colors[0]))\n",
    "\n",
    "    # Add final space to obtain (rectangular) matrix\n",
    "    for i in range(W - len(new_text) % W):\n",
    "        new_text.append(' ')\n",
    "        new_colors.append(np.zeros_like(colors[0]))\n",
    "\n",
    "    return np.array(new_text).reshape(-1, W), np.array(new_colors).reshape(-1, W)\n",
    "\n",
    "def plot_colored_text(text, colors, W=80, title=None, save_file=None):\n",
    "    wrapped_text, wrapped_colors = wrap_colored_text(text, colors, W, tabsize=4)\n",
    "\n",
    "    H = len(wrapped_text)\n",
    "    plt.figure(figsize=(W/5, H/3))\n",
    "\n",
    "    color_palette = sns.color_palette(\"RdBu_r\", 255, desat=.9)\n",
    "    color_palette[127] = (1.,1.,1.) # set zero to white color\n",
    "    sns.heatmap(wrapped_colors, annot=wrapped_text,\n",
    "                annot_kws={'color':'black',\n",
    "                           'family':'monospace',\n",
    "                           'horizontalalignment':'center',\n",
    "                           'fontweight':'light'},\n",
    "                fmt='s', cbar=False, vmin=-2, vmax=2)\n",
    "    plt.xticks([])\n",
    "    plt.yticks([])\n",
    "    plt.title(title)\n",
    "    if save_file:\n",
    "        plt.savefig(save_file)\n",
    "    plt.show()"
   ]
  },
  {
   "cell_type": "code",
   "execution_count": 308,
   "metadata": {},
   "outputs": [
    {
     "name": "stdout",
     "output_type": "stream",
     "text": [
      "69\n"
     ]
    },
    {
     "data": {
      "image/png": "[encoded data removed]",
      "text/plain": [
       "<matplotlib.figure.Figure at 0x7f99c46f1320>"
      ]
     },
     "metadata": {},
     "output_type": "display_data"
    },
    {
     "data": {
      "image/png": "[encoded data removed]",
      "text/plain": [
       "<matplotlib.figure.Figure at 0x7f99c4269240>"
      ]
     },
     "metadata": {},
     "output_type": "display_data"
    },
    {
     "data": {
      "image/png": "[encoded data removed]",
      "text/plain": [
       "<matplotlib.figure.Figure at 0x7f99c41b6f28>"
      ]
     },
     "metadata": {},
     "output_type": "display_data"
    }
   ],
   "source": [
    "model_name = \"lstm_5example_20000c\"\n",
    "hyp_name = \"detect_k_factors\"\n",
    "y_true, y_pred = validate_hypothesis(rnn, LogisticRegression(), hypothesis_detect_k_factors,\n",
    "                                         train_len=1000, test_len=1, tt=\"bbb#bdd#cce#cdd#ddf$fdddcbfacddabaadfdeb\",\n",
    "                                         save_hyp='plots/{}_hyp_{}.png'.format(model_name, hyp_name),\n",
    "                                         save_diag='plots/{}_diag_{}.png'.format(model_name, hyp_name),\n",
    "                                         save_resp='plots/{}_resp_{}.png'.format(model_name, hyp_name))"
   ]
  },
  {
   "cell_type": "code",
   "execution_count": null,
   "metadata": {
    "collapsed": true
   },
   "outputs": [],
   "source": []
  }
 ],
 "metadata": {
  "kernelspec": {
   "display_name": "Python 3",
   "language": "python",
   "name": "python3"
  },
  "language_info": {
   "codemirror_mode": {
    "name": "ipython",
    "version": 3
   },
   "file_extension": ".py",
   "mimetype": "text/x-python",
   "name": "python",
   "nbconvert_exporter": "python",
   "pygments_lexer": "ipython3",
   "version": "3.6.1"
  }
 },
 "nbformat": 4,
 "nbformat_minor": 2
}
