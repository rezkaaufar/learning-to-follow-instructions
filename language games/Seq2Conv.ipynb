{
 "cells": [
  {
   "cell_type": "markdown",
   "metadata": {},
   "source": [
    "## Code "
   ]
  },
  {
   "cell_type": "code",
   "execution_count": 1,
   "metadata": {},
   "outputs": [
    {
     "name": "stdout",
     "output_type": "stream",
     "text": [
      "Populating the interactive namespace from numpy and matplotlib\n"
     ]
    },
    {
     "name": "stderr",
     "output_type": "stream",
     "text": [
      "/home/rezka/anaconda3/lib/python3.6/site-packages/IPython/core/magics/pylab.py:161: UserWarning: pylab import has clobbered these variables: ['datetime', 'plotting', 'test', 'random', 'unique']\n",
      "`%matplotlib` prevents importing * from pylab and numpy\n",
      "  \"\\n`%matplotlib` prevents importing * from pylab and numpy\"\n"
     ]
    }
   ],
   "source": [
    "import torch\n",
    "import torch.nn as nn\n",
    "import torch.nn.functional as F\n",
    "from torch.autograd import Variable\n",
    "import time\n",
    "import math\n",
    "import re\n",
    "import gc\n",
    "import random\n",
    "from tensorboardX import SummaryWriter\n",
    "from matplotlib import pyplot as plt\n",
    "import numpy as np\n",
    "randn = np.random.randn\n",
    "from pandas import *\n",
    "import seaborn as sns\n",
    "%pylab inline"
   ]
  },
  {
   "cell_type": "code",
   "execution_count": 2,
   "metadata": {
    "collapsed": true
   },
   "outputs": [],
   "source": [
    "def randomize_data(inps, instr, labels):\n",
    "    remove_ind = np.arange(0, int(0.5 * len(inps)),1)\n",
    "    add_ind = np.arange(int(0.5 * len(inps)) ,len(inps),1)\n",
    "    assert len(remove_ind) == len(add_ind)\n",
    "    random.shuffle(remove_ind)\n",
    "    random.shuffle(add_ind)\n",
    "    shuffled_index = np.array([val for pair in zip(remove_ind, add_ind) for val in pair])\n",
    "    return np.array(inps)[shuffled_index].tolist(), np.array(instr)[shuffled_index].tolist(), np.array(labels)[shuffled_index].tolist()\n",
    "\n",
    "def randomize_data_add(inps, instr, labels):\n",
    "    #remove_ind = np.arange(0, 0.5 * len(inps),1)\n",
    "    add_ind = np.arange(int(0.5 * len(inps)) ,len(inps),1)\n",
    "    #assert len(remove_ind) == len(add_ind)\n",
    "    #random.shuffle(remove_ind)\n",
    "    random.shuffle(add_ind)\n",
    "    shuffled_index = np.array([val for val in add_ind])\n",
    "    return np.array(inps)[shuffled_index].tolist(), np.array(instr)[shuffled_index].tolist(), np.array(labels)[shuffled_index].tolist()\n",
    "\n",
    "def randomize_data_remove(inps, instr, labels):\n",
    "    remove_ind = np.arange(0, int(0.5 * len(inps)),1)\n",
    "    #add_ind = np.arange(0.5 * len(inps) ,len(inps),1)\n",
    "    #assert len(remove_ind) == len(add_ind)\n",
    "    random.shuffle(remove_ind)\n",
    "    #random.shuffle(add_ind)\n",
    "    shuffled_index = np.array([val for val in remove_ind])\n",
    "    return np.array(inps)[shuffled_index].tolist(), np.array(instr)[shuffled_index].tolist(), np.array(labels)[shuffled_index].tolist()"
   ]
  },
  {
   "cell_type": "code",
   "execution_count": 17,
   "metadata": {
    "collapsed": true
   },
   "outputs": [],
   "source": [
    "# generate data\n",
    "inps_t = []\n",
    "targets_t = []\n",
    "instrs_t = []\n",
    "dist_ins = set()\n",
    "with open(\"./dataset/lang_games_data_artificial_test_nvl_utter_blocks_50000.txt\", \"r\") as f:\n",
    "    for line in f:\n",
    "        ar = line.split(\"\\t\")\n",
    "        inp = ar[0]\n",
    "        ins = ar[1]\n",
    "        lab = ar[2].replace(\"\\n\",\"\")\n",
    "        inps_t.append(inp)\n",
    "        targets_t.append(lab)\n",
    "        instrs_t.append(ins)\n",
    "        dist_ins.add(ins)\n",
    "        \n",
    "inps_ta, instrs_ta, targets_ta = randomize_data_add(inps_t, instrs_t, targets_t)\n",
    "inps_tr, instrs_tr, targets_tr = randomize_data_remove(inps_t, instrs_t, targets_t)\n",
    "inps_t, instrs_t, targets_t = randomize_data(inps_t, instrs_t, targets_t)\n",
    "\n",
    "inps_v = []\n",
    "targets_v = []\n",
    "instrs_v = []\n",
    "with open(\"./dataset/lang_games_data_artificial_valid_nvl_utter_blocks_50000.txt\", \"r\") as f:\n",
    "    for line in f:\n",
    "        ar = line.split(\"\\t\")\n",
    "        inp = ar[0] \n",
    "        ins = ar[1]\n",
    "        lab = ar[2].replace(\"\\n\",\"\")\n",
    "        inps_v.append(inp)\n",
    "        targets_v.append(lab)\n",
    "        instrs_v.append(ins)\n",
    "        dist_ins.add(ins)\n",
    "inps_v, instrs_v, targets_v = randomize_data(inps_v, instrs_v, targets_v)\n",
    "\n",
    "inps = []\n",
    "targets = []\n",
    "instrs = []\n",
    "with open(\"./dataset/lang_games_data_artificial_train_nvl_utter_blocks_50000.txt\", \"r\") as f:\n",
    "    for line in f:\n",
    "        ar = line.split(\"\\t\")\n",
    "        inp = ar[0] \n",
    "        ins = ar[1]\n",
    "        lab = ar[2].replace(\"\\n\",\"\")\n",
    "        inps.append(inp)\n",
    "        targets.append(lab)\n",
    "        instrs.append(ins)\n",
    "inps, instrs, targets = randomize_data(inps, instrs, targets)"
   ]
  },
  {
   "cell_type": "code",
   "execution_count": 18,
   "metadata": {},
   "outputs": [
    {
     "name": "stdout",
     "output_type": "stream",
     "text": [
      "{'add red to 6th tile', 'remove cyan at every tile', 'add red to leftmost tile', 'remove orange at every tile', 'add red to even tile', 'remove cyan at 3rd tile', 'remove cyan at 2nd tile', 'add brown to 3rd tile', 'add cyan to 6th tile', 'remove brown at every tile', 'remove red at leftmost tile', 'remove brown at 5th tile', 'remove orange at 6th tile', 'add orange to leftmost tile', 'remove brown at 2nd tile', 'add red to 3rd tile', 'add cyan to 1st tile', 'remove cyan at 4th tile', 'add brown to 4th tile', 'add cyan to 4th tile'}\n"
     ]
    }
   ],
   "source": [
    "print(dist_ins)"
   ]
  },
  {
   "cell_type": "code",
   "execution_count": 48,
   "metadata": {},
   "outputs": [
    {
     "name": "stdout",
     "output_type": "stream",
     "text": [
      "15\n"
     ]
    }
   ],
   "source": [
    "dist=set()\n",
    "for el in dist_ins:\n",
    "    for w in wss:\n",
    "        if w in el:\n",
    "            dist.add(el)\n",
    "print(len(list(dist)))"
   ]
  },
  {
   "cell_type": "code",
   "execution_count": null,
   "metadata": {
    "collapsed": true
   },
   "outputs": [],
   "source": [
    "#[remove, add, red, cyan, orange, brown, 1st, 2nd, 3rd, 4th, 5th, 6th, every, leftmost, even]"
   ]
  },
  {
   "cell_type": "code",
   "execution_count": 19,
   "metadata": {
    "collapsed": true
   },
   "outputs": [],
   "source": [
    "## get total character ##\n",
    "block_characters = set()\n",
    "for el in inps:\n",
    "    els = el.split(\" \")\n",
    "    for e in els:\n",
    "        block_characters.add(e)\n",
    "#block_characters.add(\"SOS\")\n",
    "        \n",
    "block_characters = sorted(list(block_characters))\n",
    "n_block_letters = len(block_characters)\n",
    "\n",
    "## get total word in utterance ##\n",
    "all_words = set()\n",
    "for el in instrs:\n",
    "    els = el.split(\" \")\n",
    "    for e in els:\n",
    "        all_words.add(e)\n",
    "        \n",
    "all_words = sorted(list(all_words))\n",
    "n_words_utterance = len(all_words)\n",
    "\n",
    "# length of the blocks configuration and utterance\n",
    "len_example = len(inps[0].split(\" \"))\n",
    "len_labels = len(targets[0].split(\" \"))\n",
    "len_instr = len(instrs[0].split(\" \"))\n",
    "assert len_example == len_labels"
   ]
  },
  {
   "cell_type": "code",
   "execution_count": 20,
   "metadata": {
    "collapsed": true
   },
   "outputs": [],
   "source": [
    "# turn string into list of longs\n",
    "def char_tensor(string):\n",
    "    string = string.split(\" \")[:-1]\n",
    "    tensor = torch.zeros(n_letters).long()\n",
    "    char_index = block_characters.index(string)\n",
    "    tensor[char_index] = 1\n",
    "    return tensor\n",
    "\n",
    "def categories_tensor(string):\n",
    "    string = string.split(\" \")\n",
    "    tensor = torch.zeros(len(string)).long()\n",
    "    for li, letter in enumerate(string):\n",
    "        letter_index = block_characters.index(letter)\n",
    "        tensor[li] = letter_index\n",
    "    return tensor\n",
    "\n",
    "def seq_tensor(string):\n",
    "    string = string.split(\" \")\n",
    "    tensor = torch.zeros(len(string)).long()\n",
    "    for li, letter in enumerate(string):\n",
    "        letter_index = block_characters.index(letter)\n",
    "        tensor[li] = letter_index\n",
    "    return tensor\n",
    "\n",
    "def instr_tensor(string):\n",
    "    string = string.split(\" \")\n",
    "    tensor = torch.zeros(len(string)).long()\n",
    "    for li, letter in enumerate(string):\n",
    "        letter_index = all_words.index(letter)\n",
    "        tensor[li] = letter_index\n",
    "    return tensor"
   ]
  },
  {
   "cell_type": "code",
   "execution_count": 21,
   "metadata": {
    "collapsed": true
   },
   "outputs": [],
   "source": [
    "def generate_batch(start_index, len_example, len_labels, len_instr, batch_size, inps, instrs, labels):\n",
    "    inp_tensor = torch.zeros(batch_size, len_example).long()\n",
    "    lab_tensor = torch.zeros(batch_size, len_labels).long()\n",
    "    ins_tensor = torch.zeros(batch_size, len_instr).long()\n",
    "    for i in range(batch_size):\n",
    "        inp = seq_tensor(inps[start_index+i])\n",
    "        lab = categories_tensor(labels[start_index+i])\n",
    "        ins = instr_tensor(instrs[start_index+i])\n",
    "        inp_tensor[i,:] = inp\n",
    "        lab_tensor[i,:] = lab\n",
    "        ins_tensor[i,:] = ins\n",
    "    # uncomment to do this with CPU\n",
    "    #return Variable(inp_tensor), Variable(lab_tensor)\n",
    "    return Variable(inp_tensor).cuda(), Variable(ins_tensor).cuda(), Variable(lab_tensor).cuda()"
   ]
  },
  {
   "cell_type": "code",
   "execution_count": 22,
   "metadata": {
    "collapsed": true
   },
   "outputs": [],
   "source": [
    "def generate_random_batch(len_example, len_labels, len_instr, batch_size, inps, instrs, labels):\n",
    "    even_ind = np.arange(0,len(inps),2)\n",
    "    odd_ind = np.arange(1,len(inps),2)\n",
    "    a = random.choice(even_ind, batch_size // 2)\n",
    "    b = random.choice(odd_ind, batch_size // 2)\n",
    "    random_index = np.concatenate([a,b])\n",
    "    inp_tensor = torch.zeros(batch_size, len_example).long()\n",
    "    lab_tensor = torch.zeros(batch_size, len_labels).long()\n",
    "    ins_tensor = torch.zeros(batch_size, len_instr).long()\n",
    "    for i, ind in enumerate(random_index):\n",
    "        inp = seq_tensor(inps[ind])\n",
    "        lab = categories_tensor(labels[ind])\n",
    "        ins = instr_tensor(instrs[start_index+i])\n",
    "        inp_tensor[i,:] = inp\n",
    "        lab_tensor[i,:] = lab\n",
    "        ins_tensor[i,:] = ins\n",
    "    # uncomment to do this with CPU\n",
    "    #return Variable(inp_tensor), Variable(lab_tensor)\n",
    "    return Variable(inp_tensor).cuda(), Variable(ins_tensor).cuda(), Variable(lab_tensor).cuda()"
   ]
  },
  {
   "cell_type": "code",
   "execution_count": 23,
   "metadata": {
    "collapsed": true
   },
   "outputs": [],
   "source": [
    "def convert_string(texts):\n",
    "    inp_tensor = torch.zeros(1, len_example).long()\n",
    "    inp = seq_tensor(texts)\n",
    "    inp_tensor[0,:] = inp\n",
    "    # uncomment to do this with CPU\n",
    "    #return Variable(inp_tensor), Variable(lab_tensor)\n",
    "    return Variable(inp_tensor).cuda()"
   ]
  },
  {
   "cell_type": "code",
   "execution_count": 24,
   "metadata": {
    "collapsed": true
   },
   "outputs": [],
   "source": [
    "def generate_position_ids(batch_size):\n",
    "    pos_tensor = torch.zeros(batch_size, len_example).long()\n",
    "    for i in range(batch_size):\n",
    "        pos_tensor[i] = torch.LongTensor(range(0, len_example))\n",
    "    return Variable(pos_tensor).cuda()"
   ]
  },
  {
   "cell_type": "code",
   "execution_count": 25,
   "metadata": {
    "collapsed": true
   },
   "outputs": [],
   "source": [
    "# hyperparameters\n",
    "n_epochs = 40\n",
    "n_hidden = 64\n",
    "n_layers = 1\n",
    "layers_conv = 5\n",
    "lr = 1e-3\n",
    "clip = 5\n",
    "batch_size = 100\n",
    "dropout = 0.5\n",
    "instr_len = 5\n",
    "concat = False\n",
    "\n",
    "print_every = 200"
   ]
  },
  {
   "cell_type": "code",
   "execution_count": 26,
   "metadata": {
    "collapsed": true
   },
   "outputs": [],
   "source": [
    "class EncoderWord(nn.Module):\n",
    "    def __init__(self, input_size, hidden_size, n_layers=2):\n",
    "        super(EncoderWord, self).__init__()\n",
    "        \n",
    "        self.input_size = input_size\n",
    "        self.hidden_size = hidden_size\n",
    "        self.n_layers = n_layers\n",
    "        \n",
    "        self.embedding = nn.Embedding(input_size, hidden_size)\n",
    "        self.lstm = nn.LSTM(hidden_size, hidden_size, n_layers, batch_first=True)\n",
    "        \n",
    "    def forward(self, inputs, hidden, batch_size):\n",
    "        # Note: we run this all at once (over the whole input sequence)\n",
    "        embedded = self.embedding(inputs)\n",
    "        seq_len = embedded.size(1)\n",
    "        ht, hidden = self.lstm(embedded, hidden) # [batch_size, seq_len, hidden_size]\n",
    "        return ht, hidden\n",
    "\n",
    "    def init_hidden(self, batch_size):\n",
    "        h0 = Variable(torch.zeros(self.n_layers, batch_size, self.hidden_size)).cuda()\n",
    "        c0 = Variable(torch.zeros(self.n_layers, batch_size, self.hidden_size)).cuda()\n",
    "        return h0, c0"
   ]
  },
  {
   "cell_type": "code",
   "execution_count": 27,
   "metadata": {},
   "outputs": [
    {
     "data": {
      "text/plain": [
       "EncoderWord(\n",
       "  (embedding): Embedding(20, 64)\n",
       "  (lstm): LSTM(64, 64, batch_first=True)\n",
       ")"
      ]
     },
     "execution_count": 27,
     "metadata": {},
     "output_type": "execute_result"
    }
   ],
   "source": [
    "encoder = EncoderWord(n_words_utterance, n_hidden, n_layers=n_layers)\n",
    "enc_optimizer = torch.optim.Adam(encoder.parameters(), lr=lr)\n",
    "encoder.cuda()"
   ]
  },
  {
   "cell_type": "code",
   "execution_count": 28,
   "metadata": {
    "collapsed": true
   },
   "outputs": [],
   "source": [
    "# inp, instr, target = generate_batch(0, len_example, len_labels, len_instr, 10, inps, instrs, targets)\n",
    "# hid = encoder.init_hidden(10)\n",
    "# ht, hidden = encoder(instr, hid, 10)\n",
    "# print(hidden[0][0].size())"
   ]
  },
  {
   "cell_type": "code",
   "execution_count": 29,
   "metadata": {
    "collapsed": true
   },
   "outputs": [],
   "source": [
    "class ConvDecoder(nn.Module):\n",
    "    def __init__(self, input_size, hidden_size, num_channels, output_size, max_len, kernel_size=3, n_layers=2, \n",
    "                 dropout_p=0.2, example_len=15):\n",
    "        super(ConvDecoder, self).__init__()\n",
    "        \n",
    "        self.input_size = input_size\n",
    "        self.hidden_size = hidden_size\n",
    "        self.output_size = output_size\n",
    "        self.n_layers = n_layers\n",
    "        self.dropout_p = dropout\n",
    "        self.input_dropout = nn.Dropout(p=dropout_p)\n",
    "        self.embed = nn.Embedding(input_size, hidden_size)\n",
    "        self.position_embedding = nn.Embedding(max_len, hidden_size)\n",
    "        self.output = nn.Linear(hidden_size, output_size)\n",
    "        self.len_instr = example_len\n",
    "        self.len_block = max_len\n",
    "        \n",
    "        self.conv = nn.ModuleList([nn.Conv1d(num_channels, num_channels, kernel_size,\n",
    "                                      padding=kernel_size // 2) for _ in range(n_layers)])\n",
    "        # for context-attended output\n",
    "        self.linear_out = nn.Linear(hidden_size*2, hidden_size)\n",
    "    \n",
    "    def forward(self, inputs, position_inp, batch_size, attn=False, context=None):\n",
    "        # Retrieving position and word embeddings \n",
    "        position_embedding = self.position_embedding(position_inp)\n",
    "        word_embedding = self.embed(inputs)\n",
    "        output = None\n",
    "        # for visualization #\n",
    "        vis_attn = Variable(torch.zeros(self.len_block, batch_size, 1, self.len_instr)).cuda()\n",
    "        \n",
    "        # Applying dropout to the sum of position + word embeddings\n",
    "        embedded = self.input_dropout(position_embedding + word_embedding) # [batch_size, seq_len, embed_size]\n",
    "        # Transform the input to be compatible for Conv1d as follows\n",
    "        # Num Batches * Length * Channel ==> Num Batches * Channel * Length\n",
    "        embedded = embedded.transpose(1, 2)\n",
    "        \n",
    "        # Successive application of convolution layers followed by residual connection\n",
    "        # and non-linearity\n",
    "        cnn = embedded\n",
    "        for i, layer in enumerate(self.conv):\n",
    "            # layer(cnn) is the convolution operation on the input cnn after which\n",
    "            # we add the original input creating a residual connection\n",
    "            #if attn:\n",
    "            # Applying attention to the hidden states produced by the deep convolution\n",
    "            ht = cnn.transpose(1,2) # batch_size, seq_len, hidden_size\n",
    "            attn = torch.bmm(ht, context.transpose(1, 2))\n",
    "            #print(attn.size())\n",
    "            attn = F.softmax(attn.view(-1, self.len_instr), dim=1).view(batch_size, -1, self.len_instr)\n",
    "\n",
    "            # (batch, out_len, in_len) * (batch, in_len, dim) -> (batch, out_len, dim)\n",
    "            mix = torch.bmm(attn, context)\n",
    "\n",
    "            # concat -> (batch, out_len, 2*dim)\n",
    "            combined = torch.cat((mix, ht), dim=2)\n",
    "            # output -> (batch, out_len, dim)\n",
    "            ht = F.tanh(self.linear_out(combined.view(-1, 2 * self.hidden_size))).view(\n",
    "                batch_size, -1, self.hidden_size)\n",
    "            #print(ht.size())\n",
    "            vis_attn = attn\n",
    "            cnn = ht.transpose(1,2)\n",
    "            cnn = F.tanh(layer(cnn)+cnn)        \n",
    "        out_ht = cnn.transpose(1,2)\n",
    "        #print(out_ht.size())\n",
    "        output = F.log_softmax(self.output(out_ht),dim=2)\n",
    "        return output, vis_attn\n",
    "    \n",
    "#     def forward(self, inputs, hidden, batch_size, attn=False, context=None):\n",
    "#         embedded = self.embed(inputs) # [batch_size, seq_len, embed_size]\n",
    "#         embedded = self.input_dropout(embedded)\n",
    "#         inp_embedded = embedded\n",
    "#         output = None\n",
    "#         # for visualization #\n",
    "#         vis_attn = Variable(torch.zeros(1, batch_size, 1, self.example_len)).cuda()\n",
    "        \n",
    "#         if not attn:\n",
    "#             ht, hidden = self.lstm(embedded, hidden) # [batch_size, seq_len, hidden_size]\n",
    "#             output = F.log_softmax(self.output(ht.squeeze(1)), dim=1)\n",
    "#             out_ht = ht\n",
    "#         else:   \n",
    "#             ### attention with mlp concat bahdanau ###\n",
    "#             ht, hidden = self.lstm(embedded, hidden) # [batch_size, 1, hidden_size]\n",
    "#             # (batch, out_len, dim) * (batch, in_len, dim) -> (batch, out_len, in_len)\n",
    "#             # in_len is the number of blocks in initial block configuration\n",
    "#             # out_len is the number of step which is 1\n",
    "#             if self.concat:\n",
    "#                 ht_exp = ht.expand(batch_size, self.example_len, self.hidden_size)\n",
    "#                 ht_tr = ht_exp.contiguous().view(-1, self.hidden_size)\n",
    "\n",
    "#                 # reshape encoder states to allow batchwise computation\n",
    "#                 context_tr = context.contiguous().view(-1, self.hidden_size)\n",
    "\n",
    "#                 mlp_input = torch.cat((ht_tr, context_tr), dim=1)\n",
    "\n",
    "#                 # apply mlp and respape to get in correct form\n",
    "#                 mlp_output = self.mlp(mlp_input)\n",
    "#                 attn = mlp_output.view(batch_size, 1, self.example_len)\n",
    "#                 attn = F.softmax(attn.view(-1, self.example_len), dim=1).view(batch_size, -1, self.example_len)\n",
    "\n",
    "#                 # (batch, out_len, in_len) * (batch, in_len, dim) -> (batch, out_len, dim)\n",
    "#                 mix = torch.bmm(attn, context)\n",
    "#                 out_ht = torch.cat((mix, ht), dim=2)\n",
    "\n",
    "#                 vis_attn[0] = attn\n",
    "#             else:\n",
    "#                 attn = torch.bmm(ht, context.transpose(1, 2))\n",
    "#                 attn = F.softmax(attn.view(-1, self.example_len), dim=1).view(batch_size, -1, self.example_len)\n",
    "\n",
    "#                 # (batch, out_len, in_len) * (batch, in_len, dim) -> (batch, out_len, dim)\n",
    "#                 mix = torch.bmm(attn, context)\n",
    "\n",
    "#                 # concat -> (batch, out_len, 2*dim)\n",
    "#                 combined = torch.cat((mix, ht), dim=2)\n",
    "#                 # output -> (batch, out_len, dim)\n",
    "#                 ht = F.tanh(self.linear_out(combined.view(-1, 2 * self.hidden_size))).view(\n",
    "#                 batch_size, -1, self.hidden_size)\n",
    "#                 vis_attn[0] = attn\n",
    "#                 out_ht = ht\n",
    "                \n",
    "#             output = F.log_softmax(self.output(out_ht.squeeze(1)),dim=1)\n",
    "            \n",
    "#         return output, ht, hidden, vis_attn\n",
    "\n",
    "#     def init_hidden(self, batch_size):\n",
    "#         h0 = Variable(torch.zeros(self.n_layers, batch_size, self.hidden_size)).cuda()\n",
    "#         c0 = Variable(torch.zeros(self.n_layers, batch_size, self.hidden_size)).cuda()\n",
    "#         return h0, c0\n",
    "    \n",
    "#     def init_prev_ht(self, batch_size, seq_len):\n",
    "#         ht = Variable(torch.zeros(batch_size, seq_len, self.hidden_size)).cuda()\n",
    "#         return ht"
   ]
  },
  {
   "cell_type": "code",
   "execution_count": 30,
   "metadata": {
    "collapsed": true
   },
   "outputs": [],
   "source": [
    "# input_size, hidden_size, num_channels, output_size, max_len, kernel_size=3, n_layers=2, \n",
    "#                  dropout_p=0.2, example_len=15\n",
    "decoder = ConvDecoder(n_block_letters, n_hidden, n_hidden, n_block_letters, len_example, kernel_size=3, \n",
    "                  n_layers=layers_conv, dropout_p=dropout, example_len=instr_len)\n",
    "optimizer = torch.optim.Adam(decoder.parameters(), lr=lr)\n",
    "criterion = nn.NLLLoss()"
   ]
  },
  {
   "cell_type": "code",
   "execution_count": 31,
   "metadata": {},
   "outputs": [
    {
     "data": {
      "text/plain": [
       "ConvDecoder(\n",
       "  (input_dropout): Dropout(p=0.5)\n",
       "  (embed): Embedding(6, 64)\n",
       "  (position_embedding): Embedding(23, 64)\n",
       "  (output): Linear(in_features=64, out_features=6)\n",
       "  (conv): ModuleList(\n",
       "    (0): Conv1d (64, 64, kernel_size=(3,), stride=(1,), padding=(1,))\n",
       "    (1): Conv1d (64, 64, kernel_size=(3,), stride=(1,), padding=(1,))\n",
       "    (2): Conv1d (64, 64, kernel_size=(3,), stride=(1,), padding=(1,))\n",
       "    (3): Conv1d (64, 64, kernel_size=(3,), stride=(1,), padding=(1,))\n",
       "    (4): Conv1d (64, 64, kernel_size=(3,), stride=(1,), padding=(1,))\n",
       "  )\n",
       "  (linear_out): Linear(in_features=128, out_features=64)\n",
       ")"
      ]
     },
     "execution_count": 31,
     "metadata": {},
     "output_type": "execute_result"
    }
   ],
   "source": [
    "decoder.cuda()"
   ]
  },
  {
   "cell_type": "code",
   "execution_count": 32,
   "metadata": {
    "collapsed": true
   },
   "outputs": [],
   "source": [
    "# training\n",
    "def train(inp, instr, target, attn=False):\n",
    "    loss = 0\n",
    "    optimizer.zero_grad()\n",
    "    enc_optimizer.zero_grad()\n",
    "    teacher_forcing_ratio = 0.5\n",
    "    encoder_hidden = encoder.init_hidden(batch_size)\n",
    "    encoder_ht, encoder_hidden = encoder(instr, encoder_hidden, batch_size)\n",
    "    context = encoder_ht\n",
    "    hidden = encoder_hidden\n",
    "    position_ids = generate_position_ids(batch_size)\n",
    "    if attn:\n",
    "        output, vis_attn = decoder(inp, position_ids, batch_size, attn=True, \n",
    "                             context=context)\n",
    "        op = output.transpose(0,1) # seq_len, bs, class\n",
    "        for c in range(len_example):\n",
    "            loss += criterion(op[c], target[:,c])\n",
    "        #loss += criterion(output.view(batch_size, -1), target[:,c])\n",
    "    else:\n",
    "        output, _ = decoder(inp, position_ids, batch_size)\n",
    "        op = output.transpose(0,1) # seq_len, bs, class\n",
    "        for c in range(len_example):\n",
    "            loss += criterion(op[c], target[:,c])\n",
    "    loss.backward()\n",
    "    optimizer.step()\n",
    "    enc_optimizer.step()\n",
    "\n",
    "    return loss.data[0]  / len_labels"
   ]
  },
  {
   "cell_type": "code",
   "execution_count": 33,
   "metadata": {
    "collapsed": true
   },
   "outputs": [],
   "source": [
    "# batch_size = 100\n",
    "# start_index = 0\n",
    "# inp, instr, target = generate_batch(start_index, len_example, len_labels, len_instr, \n",
    "#                                     batch_size, inps, instrs, targets)\n",
    "# print(inp.size(1))\n",
    "# train(inp, instr, target, attn=True)"
   ]
  },
  {
   "cell_type": "code",
   "execution_count": 34,
   "metadata": {
    "collapsed": true
   },
   "outputs": [],
   "source": [
    "def time_since(since):\n",
    "    now = time.time()\n",
    "    s = now - since\n",
    "    m = math.floor(s / 60)\n",
    "    s -= m * 60\n",
    "    return '%dm %ds' % (m, s)"
   ]
  },
  {
   "cell_type": "code",
   "execution_count": 35,
   "metadata": {
    "collapsed": true
   },
   "outputs": [],
   "source": [
    "def accuracy_test_data(inps_t, instrs_t, targets_t, batch_size, attn=False):\n",
    "    it = len(inps_t) / batch_size\n",
    "    acc_tot = 0\n",
    "    acc_tot_seq = 0\n",
    "    for i in range(int(it)):\n",
    "        decoder.eval()\n",
    "        encoder.eval()\n",
    "        start_index = i * batch_size\n",
    "        inp, instr, target = generate_batch(start_index, len_example, len_labels, len_instr,\n",
    "                                            batch_size, inps_t, instrs_t, targets_t)\n",
    "        encoder_hidden = encoder.init_hidden(batch_size)\n",
    "        encoder_ht , encoder_hidden = encoder(instr, encoder_hidden, batch_size)\n",
    "        context = encoder_ht\n",
    "        hidden = encoder_hidden\n",
    "        position_ids = generate_position_ids(batch_size)\n",
    "        if attn:\n",
    "            pred_seq = Variable(torch.zeros(len_labels, batch_size)).cuda()\n",
    "            tgt_seq = Variable(torch.zeros(len_labels, batch_size)).cuda()\n",
    "            output, vis_attn = decoder(inp, position_ids, batch_size, attn=True, \n",
    "                                 context=context)\n",
    "            op = output.transpose(0,1) # seq_len, bs, class\n",
    "            for c in range(len_labels):\n",
    "                tgt_seq[c] = target[:,c]\n",
    "                pred_seq[c] = op[c].max(1)[1]\n",
    "                accuracy = (op[c].max(1)[1] == target[:,c]).float().sum().float() / batch_size\n",
    "                acc_tot += accuracy.data[0]\n",
    "            truth = Variable(torch.ones(batch_size)).cuda() * 23\n",
    "            acc_tot_seq += ((pred_seq == tgt_seq).float().sum(dim=0) == truth).float().sum().data[0] / batch_size\n",
    "            #print((pred_seq == tgt_seq).float().sum(dim=0))\n",
    "        else:\n",
    "            pred_seq = Variable(torch.zeros(len_labels, batch_size)).cuda()\n",
    "            tgt_seq = Variable(torch.zeros(len_labels, batch_size)).cuda()\n",
    "            output, _ = decoder(inp, position_ids, batch_size)\n",
    "            op = output.transpose(0,1) # seq_len, bs, class\n",
    "            for c in range(len_labels):\n",
    "                tgt_seq[c] = target[:,c]\n",
    "                pred_seq[c] = op[c].max(1)[1]\n",
    "                accuracy = (op[c].max(1)[1] == target[:,c]).float().sum().float() / batch_size\n",
    "                acc_tot += accuracy.data[0]\n",
    "            truth = Variable(torch.ones(batch_size)).cuda() * 23\n",
    "            acc_tot_seq += ((pred_seq == tgt_seq).float().sum(dim=0) == truth).float().sum().data[0] / batch_size\n",
    "            #print((pred_seq == tgt_seq).float().sum(dim=0))\n",
    "    return acc_tot / (it * len_labels), acc_tot_seq / it"
   ]
  },
  {
   "cell_type": "code",
   "execution_count": 21,
   "metadata": {},
   "outputs": [
    {
     "data": {
      "text/plain": [
       "(0.13443477959574565, 0.0)"
      ]
     },
     "execution_count": 21,
     "metadata": {},
     "output_type": "execute_result"
    }
   ],
   "source": [
    "accuracy_test_data(inps_t, instrs_t, targets_t, 200, attn=True)"
   ]
  },
  {
   "cell_type": "code",
   "execution_count": 36,
   "metadata": {
    "collapsed": true
   },
   "outputs": [],
   "source": [
    "def convert_to_characters(arr):\n",
    "    res = \"\"\n",
    "    for ar in arr:\n",
    "        res += block_characters[int(ar)] + \" \"\n",
    "    return res\n",
    "\n",
    "def infer(inps_t, instrs_t, targets_t):\n",
    "    batch_size = 20\n",
    "    start_index = 100\n",
    "    acc_tot = 0\n",
    "    acc_tot_seq = 0\n",
    "    decoder.eval()\n",
    "    encoder.eval()\n",
    "    attn=True\n",
    "    inp, instr, target = generate_batch(start_index, len_example, len_labels, len_instr,\n",
    "                                        batch_size, inps_t, instrs_t, targets_t)\n",
    "    encoder_hidden = encoder.init_hidden(batch_size)\n",
    "    encoder_ht , encoder_hidden = encoder(instr, encoder_hidden, batch_size)\n",
    "    context = encoder_ht\n",
    "    hidden = encoder_hidden\n",
    "    position_ids = generate_position_ids(batch_size)\n",
    "    if attn:\n",
    "        pred_seq = Variable(torch.zeros(len_labels, batch_size)).cuda()\n",
    "        tgt_seq = Variable(torch.zeros(len_labels, batch_size)).cuda()\n",
    "        output, vis_attn = decoder(inp, position_ids, batch_size, attn=True, \n",
    "                             context=context)\n",
    "        op = output.transpose(0,1) # seq_len, bs, class\n",
    "        for c in range(len_labels):\n",
    "            tgt_seq[c] = target[:,c]\n",
    "            pred_seq[c] = op[c].max(1)[1]\n",
    "            accuracy = (op[c].max(1)[1] == target[:,c]).float().sum().float() / batch_size\n",
    "            acc_tot += accuracy.data[0]\n",
    "        truth = Variable(torch.ones(batch_size)).cuda() * 23\n",
    "        #print(pred_seq, tgt_seq)\n",
    "        for c in range(batch_size):\n",
    "            print(inps_t[start_index+c], instrs_t[start_index+c])\n",
    "            print(convert_to_characters(tgt_seq[:,c].data))\n",
    "            print(convert_to_characters(pred_seq[:,c].data))\n",
    "        acc_tot_seq += ((pred_seq == tgt_seq).float().sum(dim=0) == truth).float().sum().data[0] / batch_size"
   ]
  },
  {
   "cell_type": "code",
   "execution_count": 23,
   "metadata": {},
   "outputs": [
    {
     "name": "stdout",
     "output_type": "stream",
     "text": [
      "3 1 3 # 2 0 0 # 3 3 3 # 2 0 3 # 3 2 X # 3 X X remove cyan at every tile\n",
      "3 1 3 # 2 0 X # 3 3 3 # 2 0 3 # 3 2 X # 3 X X \n",
      "2 2 2 2 2 2 2 # 2 2 2 2 2 2 2 2 2 2 # 2 2 2 2 \n",
      "3 2 X # 3 X X # 1 1 X # 1 1 2 # 3 3 3 # 2 0 3 add brown to 3rd tile\n",
      "3 2 X # 3 X X # 1 1 1 # 1 1 2 # 3 3 3 # 2 0 3 \n",
      "2 2 2 2 2 2 2 2 2 2 2 2 2 2 2 2 2 2 2 2 2 2 2 \n",
      "1 1 X # 2 0 0 # 3 2 X # 3 3 3 # 2 0 3 # 3 1 3 remove orange at 6th tile\n",
      "1 1 X # 2 0 0 # 3 2 X # 3 3 3 # 2 0 3 # 3 1 X \n",
      "2 2 2 2 2 2 2 2 2 2 2 2 2 2 2 2 2 2 2 2 2 2 2 \n",
      "3 2 X # 2 0 3 # 1 1 2 # 3 X X # 2 0 0 # 1 1 X add orange to leftmost tile\n",
      "3 2 3 # 2 0 3 # 1 1 2 # 3 X X # 2 0 0 # 1 1 X \n",
      "2 2 2 2 2 2 2 2 2 2 2 2 2 2 2 2 2 2 2 2 2 2 2 \n",
      "3 2 X # 1 1 2 # 3 3 3 # 3 X X # 2 0 0 # 3 1 3 remove red at leftmost tile\n",
      "3 X X # 1 1 2 # 3 3 3 # 3 X X # 2 0 0 # 3 1 3 \n",
      "2 2 2 2 2 2 2 2 2 2 2 2 2 2 2 2 2 2 2 2 2 2 2 \n",
      "3 X X # 3 2 X # 2 0 3 # 3 1 3 # 2 0 0 # 1 1 2 add orange to leftmost tile\n",
      "3 3 X # 3 2 X # 2 0 3 # 3 1 3 # 2 0 0 # 1 1 2 \n",
      "2 2 2 2 2 2 2 2 2 2 2 2 2 2 2 2 2 2 2 2 2 2 2 \n",
      "1 1 2 # 3 3 3 # 2 0 3 # 2 0 0 # 1 1 X # 3 1 3 remove cyan at every tile\n",
      "1 1 2 # 3 3 3 # 2 0 3 # 2 0 X # 1 1 X # 3 1 3 \n",
      "2 2 2 2 2 2 2 2 2 2 2 2 2 2 2 2 2 2 # 2 2 2 2 \n",
      "2 0 0 # 3 X X # 3 3 3 # 3 1 3 # 2 0 3 # 1 1 X add cyan to 6th tile\n",
      "2 0 0 # 3 X X # 3 3 3 # 3 1 3 # 2 0 3 # 1 1 0 \n",
      "2 2 2 2 2 2 2 2 2 2 2 2 2 2 2 2 2 2 2 2 2 2 2 \n",
      "2 0 0 # 1 1 X # 3 X X # 3 2 X # 3 1 3 # 3 3 3 remove orange at 6th tile\n",
      "2 0 0 # 1 1 X # 3 X X # 3 2 X # 3 1 3 # 3 3 X \n",
      "2 2 2 2 2 2 2 2 2 2 2 2 2 2 2 2 2 2 2 2 2 2 2 \n",
      "1 1 X # 1 1 2 # 3 1 3 # 3 2 X # 2 0 3 # 3 X X add red to 6th tile\n",
      "1 1 X # 1 1 2 # 3 1 3 # 3 2 X # 2 0 3 # 3 2 X \n",
      "2 2 2 2 2 2 2 2 2 2 2 2 2 2 2 2 2 2 2 2 2 2 2 \n",
      "2 0 0 # 3 2 X # 1 1 2 # 3 3 3 # 1 1 X # 3 1 3 remove cyan at every tile\n",
      "2 0 X # 3 2 X # 1 1 2 # 3 3 3 # 1 1 X # 3 1 3 \n",
      "2 # 2 2 2 2 2 2 2 2 2 2 2 2 2 2 2 2 # 2 2 2 2 \n",
      "1 1 X # 3 1 3 # 3 2 X # 1 1 2 # 2 0 0 # 3 X X add brown to 3rd tile\n",
      "1 1 X # 3 1 3 # 3 2 1 # 1 1 2 # 2 0 0 # 3 X X \n",
      "2 2 2 2 2 2 2 2 2 2 2 2 2 2 2 2 2 2 2 2 2 2 2 \n",
      "3 1 3 # 3 2 X # 3 X X # 2 0 0 # 1 1 X # 3 3 3 remove brown at 5th tile\n",
      "3 1 3 # 3 2 X # 3 X X # 2 0 0 # 1 X X # 3 3 3 \n",
      "2 2 2 2 2 2 2 2 2 2 2 2 2 2 2 2 2 2 # 2 2 2 2 \n",
      "3 2 X # 2 0 0 # 1 1 X # 1 1 2 # 3 1 3 # 3 X X add cyan to 6th tile\n",
      "3 2 X # 2 0 0 # 1 1 X # 1 1 2 # 3 1 3 # 3 0 X \n",
      "2 2 2 2 2 2 2 2 2 2 2 2 2 2 2 2 2 2 2 2 2 2 2 \n",
      "2 0 0 # 2 0 3 # 1 1 2 # 1 1 X # 3 2 X # 3 X X remove cyan at every tile\n",
      "2 0 X # 2 0 3 # 1 1 2 # 1 1 X # 3 2 X # 3 X X \n",
      "2 # 2 2 2 2 2 2 2 2 2 2 2 2 2 2 2 2 # 2 2 2 2 \n",
      "1 1 X # 1 1 2 # 3 1 3 # 2 0 3 # 3 X X # 2 0 0 add cyan to 1st tile\n",
      "1 1 0 # 1 1 2 # 3 1 3 # 2 0 3 # 3 X X # 2 0 0 \n",
      "2 2 2 2 2 2 2 2 2 2 2 2 2 2 2 2 2 2 2 2 2 2 2 \n",
      "1 1 X # 2 0 0 # 1 1 2 # 3 1 3 # 3 X X # 2 0 3 remove orange at 6th tile\n",
      "1 1 X # 2 0 0 # 1 1 2 # 3 1 3 # 3 X X # 2 0 X \n",
      "2 2 2 2 2 2 2 2 2 2 2 2 2 2 2 2 2 2 2 2 2 2 2 \n",
      "3 2 X # 1 1 X # 1 1 2 # 3 1 3 # 2 0 3 # 2 0 0 add cyan to 1st tile\n",
      "3 2 0 # 1 1 X # 1 1 2 # 3 1 3 # 2 0 3 # 2 0 0 \n",
      "2 2 2 2 2 2 2 2 2 2 2 2 2 2 2 2 2 2 2 2 2 2 2 \n",
      "3 X X # 2 0 3 # 3 2 X # 1 1 X # 2 0 0 # 3 1 3 remove cyan at every tile\n",
      "3 X X # 2 0 3 # 3 2 X # 1 1 X # 2 0 X # 3 1 3 \n",
      "2 # 2 2 2 2 2 2 2 2 2 2 2 2 2 2 2 2 2 2 2 2 2 \n",
      "3 3 3 # 2 0 3 # 3 1 3 # 2 0 0 # 1 1 2 # 3 2 X add red to 6th tile\n",
      "3 3 3 # 2 0 3 # 3 1 3 # 2 0 0 # 1 1 2 # 3 2 2 \n",
      "2 2 2 2 2 2 2 2 2 2 2 2 2 2 2 2 2 2 2 2 2 2 2 \n"
     ]
    }
   ],
   "source": [
    "infer(inps_t, instrs_t, targets_t)"
   ]
  },
  {
   "cell_type": "code",
   "execution_count": 37,
   "metadata": {
    "collapsed": true
   },
   "outputs": [],
   "source": [
    "def accuracy_train_data(inps, instrs, targets, batch_size, attn=False):\n",
    "    it = len(inps) / batch_size\n",
    "    acc_tot = 0\n",
    "    acc_tot_seq = 0\n",
    "    for i in range(int(it)):\n",
    "        decoder.eval()\n",
    "        encoder.eval()\n",
    "        start_index = i * batch_size\n",
    "        inp, instr, target = generate_batch(start_index, len_example, len_labels, len_instr,\n",
    "                                            batch_size, inps, instrs, targets)\n",
    "        encoder_hidden = encoder.init_hidden(batch_size)\n",
    "        encoder_ht , encoder_hidden = encoder(instr, encoder_hidden, batch_size)\n",
    "        context = encoder_ht\n",
    "        hidden = encoder_hidden\n",
    "        position_ids = generate_position_ids(batch_size)\n",
    "        if attn:\n",
    "            pred_seq = Variable(torch.zeros(len_labels, batch_size)).cuda()\n",
    "            tgt_seq = Variable(torch.zeros(len_labels, batch_size)).cuda()\n",
    "            output, vis_attn = decoder(inp, position_ids, batch_size, attn=True, \n",
    "                                 context=context)\n",
    "            op = output.transpose(0,1) # seq_len, bs, class\n",
    "            for c in range(len_labels):\n",
    "                tgt_seq[c] = target[:,c]\n",
    "                pred_seq[c] = op[c].max(1)[1]\n",
    "                accuracy = (op[c].max(1)[1] == target[:,c]).float().sum().float() / batch_size\n",
    "                acc_tot += accuracy.data[0]\n",
    "            truth = Variable(torch.ones(batch_size)).cuda() * 23\n",
    "            acc_tot_seq += ((pred_seq == tgt_seq).float().sum(dim=0) == truth).float().sum().data[0] / batch_size\n",
    "            #print((pred_seq == tgt_seq).float().sum(dim=0))\n",
    "        else:\n",
    "            pred_seq = Variable(torch.zeros(len_labels, batch_size)).cuda()\n",
    "            tgt_seq = Variable(torch.zeros(len_labels, batch_size)).cuda()\n",
    "            output, vis_attn = decoder(inp, position_ids, batch_size, attn=True, \n",
    "                                 context=context)\n",
    "            op = output.transpose(0,1) # seq_len, bs, class\n",
    "            for c in range(len_labels):\n",
    "                tgt_seq[c] = target[:,c]\n",
    "                pred_seq[c] = op[c].max(1)[1]\n",
    "                accuracy = (op[c].max(1)[1] == target[:,c]).float().sum().float() / batch_size\n",
    "                acc_tot += accuracy.data[0]\n",
    "            truth = Variable(torch.ones(batch_size)).cuda() * 23\n",
    "            acc_tot_seq += ((pred_seq == tgt_seq).float().sum(dim=0) == truth).float().sum().data[0] / batch_size\n",
    "            #print((pred_seq == tgt_seq).float().sum(dim=0))\n",
    "    return acc_tot / (it * len_labels), acc_tot_seq / it"
   ]
  },
  {
   "cell_type": "code",
   "execution_count": 72,
   "metadata": {},
   "outputs": [
    {
     "data": {
      "text/plain": [
       "\n",
       " 0.2030\n",
       "[torch.FloatTensor of size 1]"
      ]
     },
     "execution_count": 72,
     "metadata": {},
     "output_type": "execute_result"
    }
   ],
   "source": [
    "torch.rand(1)"
   ]
  },
  {
   "cell_type": "code",
   "execution_count": 25,
   "metadata": {},
   "outputs": [
    {
     "data": {
      "text/plain": [
       "(0.24047307896121226, 0.0)"
      ]
     },
     "execution_count": 25,
     "metadata": {},
     "output_type": "execute_result"
    }
   ],
   "source": [
    "accuracy_train_data(inps, instrs, targets, 200, attn=True)"
   ]
  },
  {
   "cell_type": "code",
   "execution_count": 26,
   "metadata": {},
   "outputs": [
    {
     "name": "stderr",
     "output_type": "stream",
     "text": [
      "/home/rezka/anaconda3/lib/python3.6/site-packages/torch/serialization.py:158: UserWarning: Couldn't retrieve source code for container of type EncoderWord. It won't be checked for correctness upon loading.\n",
      "  \"type \" + obj.__name__ + \". It won't be checked \"\n",
      "/home/rezka/anaconda3/lib/python3.6/site-packages/torch/serialization.py:158: UserWarning: Couldn't retrieve source code for container of type ConvDecoder. It won't be checked for correctness upon loading.\n",
      "  \"type \" + obj.__name__ + \". It won't be checked \"\n"
     ]
    },
    {
     "name": "stdout",
     "output_type": "stream",
     "text": [
      "Loss 0.015053877364034239, Test Accuracy 0.9937826044533564, Train Accuracy 0.9970569313189505, Val Accuracy 0.9858043411503667, Test Seq Accuracy 0.8600000000000001, Train Seq Accuracy 0.9354761904761946, Val Seq Accuracy 0.6919999999999998\n",
      "Loss 0.0017033590246801791, Test Accuracy 0.9919239075287528, Train Accuracy 0.999700827578827, Val Accuracy 0.9758695538925088, Test Seq Accuracy 0.8260000000000005, Train Seq Accuracy 0.9931190476190502, Val Seq Accuracy 0.5932499999999999\n",
      "Loss 0.007395785139954608, Test Accuracy 0.9940760832765828, Train Accuracy 0.9990134557797795, Val Accuracy 0.9826630348420662, Test Seq Accuracy 0.8637499999999999, Train Seq Accuracy 0.9773333333333404, Val Seq Accuracy 0.6394999999999998\n",
      "Loss 1.7581193748375643e-05, Test Accuracy 0.9926195604645688, Train Accuracy 0.9999906832109327, Val Accuracy 0.9875543422349121, Test Seq Accuracy 0.8302500000000004, Train Seq Accuracy 0.9997857142857144, Val Seq Accuracy 0.7225\n",
      "Loss 3.5543027637607376e-06, Test Accuracy 0.9923260821272497, Train Accuracy 1.0, Val Accuracy 0.989684777220954, Test Seq Accuracy 0.8235000000000005, Train Seq Accuracy 1.0, Val Seq Accuracy 0.7700000000000004\n",
      "Loss 2.0060329204526446e-06, Test Accuracy 0.9923260821272497, Train Accuracy 1.0, Val Accuracy 0.9897826031822226, Test Seq Accuracy 0.8235000000000005, Train Seq Accuracy 1.0, Val Seq Accuracy 0.7707500000000003\n",
      "Loss 1.2182154023321345e-06, Test Accuracy 0.9923260821272497, Train Accuracy 1.0, Val Accuracy 0.9895978205553864, Test Seq Accuracy 0.8235000000000005, Train Seq Accuracy 1.0, Val Seq Accuracy 0.7652499999999999\n",
      "Loss 7.571344094290196e-07, Test Accuracy 0.9923260821272497, Train Accuracy 1.0, Val Accuracy 0.9900217336481032, Test Seq Accuracy 0.8235000000000005, Train Seq Accuracy 1.0, Val Seq Accuracy 0.775\n",
      "Loss 4.79324982101705e-07, Test Accuracy 0.9918912989613803, Train Accuracy 1.0, Val Accuracy 0.9901847772300243, Test Seq Accuracy 0.8135, Train Seq Accuracy 1.0, Val Seq Accuracy 0.7775000000000001\n",
      "Loss 3.084929116796601e-07, Test Accuracy 0.9917717336312585, Train Accuracy 1.0, Val Accuracy 0.9910760815052883, Test Seq Accuracy 0.81075, Train Seq Accuracy 1.0, Val Seq Accuracy 0.7980000000000003\n",
      "Loss 1.9653982789073463e-07, Test Accuracy 0.9917717336312585, Train Accuracy 1.0, Val Accuracy 0.989880428949128, Test Seq Accuracy 0.81075, Train Seq Accuracy 1.0, Val Seq Accuracy 0.7745000000000001\n",
      "Loss 1.2107516736052829e-07, Test Accuracy 0.9917717336312585, Train Accuracy 1.0, Val Accuracy 0.9897826026639213, Test Seq Accuracy 0.81075, Train Seq Accuracy 1.0, Val Seq Accuracy 0.77325\n",
      "Loss 7.62939368107017e-08, Test Accuracy 0.9913912987255532, Train Accuracy 1.0, Val Accuracy 0.9897826026639213, Test Seq Accuracy 0.8020000000000002, Train Seq Accuracy 1.0, Val Seq Accuracy 0.77325\n",
      "Loss 4.809836038633796e-08, Test Accuracy 0.9913912987255532, Train Accuracy 1.0, Val Accuracy 0.9899999941172807, Test Seq Accuracy 0.8020000000000002, Train Seq Accuracy 1.0, Val Seq Accuracy 0.7782500000000001\n",
      "Loss 2.736630755822736e-08, Test Accuracy 0.9910760812785314, Train Accuracy 1.0, Val Accuracy 0.9899999941172807, Test Seq Accuracy 0.7947500000000003, Train Seq Accuracy 1.0, Val Seq Accuracy 0.7782500000000001\n",
      "Loss 1.4097793155087857e-08, Test Accuracy 0.9909999942326028, Train Accuracy 1.0, Val Accuracy 0.9898804286575835, Test Seq Accuracy 0.7930000000000005, Train Seq Accuracy 1.0, Val Seq Accuracy 0.7754999999999999\n",
      "Loss 9.951383948764882e-09, Test Accuracy 0.9909999942326028, Train Accuracy 1.0, Val Accuracy 0.990119559155858, Test Seq Accuracy 0.7930000000000005, Train Seq Accuracy 1.0, Val Seq Accuracy 0.781\n",
      "Loss 6.634255347980006e-09, Test Accuracy 0.9909999942326028, Train Accuracy 1.0, Val Accuracy 0.9899021676701049, Test Seq Accuracy 0.7930000000000005, Train Seq Accuracy 1.0, Val Seq Accuracy 0.7762499999999997\n",
      "Loss 1.6585639914608139e-09, Test Accuracy 0.9909999942326028, Train Accuracy 1.0, Val Accuracy 0.9894239065115866, Test Seq Accuracy 0.7930000000000005, Train Seq Accuracy 1.0, Val Seq Accuracy 0.7654999999999998\n",
      "Loss 8.292819957304069e-10, Test Accuracy 0.9909999942326028, Train Accuracy 1.0, Val Accuracy 0.9894239065115866, Test Seq Accuracy 0.7930000000000005, Train Seq Accuracy 1.0, Val Seq Accuracy 0.7654999999999998\n",
      "Loss 0.0, Test Accuracy 0.9909999942326028, Train Accuracy 1.0, Val Accuracy 0.9894239065115866, Test Seq Accuracy 0.7930000000000005, Train Seq Accuracy 1.0, Val Seq Accuracy 0.7654999999999998\n",
      "Loss 0.0, Test Accuracy 0.9909999942326028, Train Accuracy 1.0, Val Accuracy 0.9895217326348242, Test Seq Accuracy 0.7930000000000005, Train Seq Accuracy 1.0, Val Seq Accuracy 0.7677499999999998\n",
      "Loss 0.0, Test Accuracy 0.9908478203027145, Train Accuracy 1.0, Val Accuracy 0.9896630369450735, Test Seq Accuracy 0.7895000000000003, Train Seq Accuracy 1.0, Val Seq Accuracy 0.7709999999999997\n",
      "Loss 0.0, Test Accuracy 0.9908478203027145, Train Accuracy 1.0, Val Accuracy 0.9893478193360826, Test Seq Accuracy 0.7895000000000003, Train Seq Accuracy 1.0, Val Seq Accuracy 0.7649999999999998\n",
      "Loss 0.0, Test Accuracy 0.9908478203027145, Train Accuracy 1.0, Val Accuracy 0.9889782541148041, Test Seq Accuracy 0.7895000000000003, Train Seq Accuracy 1.0, Val Seq Accuracy 0.7579999999999998\n",
      "Loss 0.0, Test Accuracy 0.9908478203027145, Train Accuracy 1.0, Val Accuracy 0.9889891237020493, Test Seq Accuracy 0.7895000000000003, Train Seq Accuracy 1.0, Val Seq Accuracy 0.7589999999999997\n",
      "Loss 0.0, Test Accuracy 0.9908478203027145, Train Accuracy 1.0, Val Accuracy 0.9882173841090306, Test Seq Accuracy 0.7895000000000003, Train Seq Accuracy 1.0, Val Seq Accuracy 0.7424999999999999\n",
      "Loss 0.0, Test Accuracy 0.9908478203027145, Train Accuracy 1.0, Val Accuracy 0.9876739055242227, Test Seq Accuracy 0.7895000000000003, Train Seq Accuracy 1.0, Val Seq Accuracy 0.7317499999999999\n",
      "Loss 0.0, Test Accuracy 0.9908478203027145, Train Accuracy 1.0, Val Accuracy 0.9873043399790059, Test Seq Accuracy 0.7895000000000003, Train Seq Accuracy 1.0, Val Seq Accuracy 0.7237499999999999\n",
      "Loss 0.0, Test Accuracy 0.9908478203027145, Train Accuracy 1.0, Val Accuracy 0.9867934702207213, Test Seq Accuracy 0.7895000000000003, Train Seq Accuracy 1.0, Val Seq Accuracy 0.7172499999999997\n",
      "Loss 0.0, Test Accuracy 0.9908478203027145, Train Accuracy 1.0, Val Accuracy 0.9866304267683755, Test Seq Accuracy 0.7895000000000003, Train Seq Accuracy 1.0, Val Seq Accuracy 0.7134999999999999\n",
      "Loss 0.0008491124633861625, Test Accuracy 0.9903478198077368, Train Accuracy 0.9997008275572311, Val Accuracy 0.9806956432435824, Test Seq Accuracy 0.7779999999999998, Train Seq Accuracy 0.9931190476190505, Val Seq Accuracy 0.6192499999999999\n",
      "Loss 1.4723500024284357e-05, Test Accuracy 0.9894347763255886, Train Accuracy 0.9999844720182212, Val Accuracy 0.9786412939105344, Test Seq Accuracy 0.7569999999999998, Train Seq Accuracy 0.9996428571428573, Val Seq Accuracy 0.5982499999999998\n",
      "Loss 8.384974891036425e-06, Test Accuracy 0.989923907265715, Train Accuracy 0.9999989648012148, Val Accuracy 0.9756630334841169, Test Seq Accuracy 0.7682499999999998, Train Seq Accuracy 0.9999761904761905, Val Seq Accuracy 0.5872499999999999\n",
      "Loss 0.002722873635914015, Test Accuracy 0.9844891208345475, Train Accuracy 0.9992173898201552, Val Accuracy 0.9781304235691609, Test Seq Accuracy 0.7169999999999997, Train Seq Accuracy 0.9821666666666727, Val Seq Accuracy 0.6239999999999999\n",
      "Loss 3.8579234134648805e-06, Test Accuracy 0.9870326006218143, Train Accuracy 1.0, Val Accuracy 0.9834999903388645, Test Seq Accuracy 0.7965000000000002, Train Seq Accuracy 1.0, Val Seq Accuracy 0.6899999999999997\n",
      "Loss 1.7185834028920077e-06, Test Accuracy 0.9866521658132905, Train Accuracy 1.0, Val Accuracy 0.9834891207840132, Test Seq Accuracy 0.7950000000000002, Train Seq Accuracy 1.0, Val Seq Accuracy 0.6897499999999998\n",
      "Loss 9.92650593220985e-07, Test Accuracy 0.9867608614913795, Train Accuracy 1.0, Val Accuracy 0.9834999903388645, Test Seq Accuracy 0.7950000000000002, Train Seq Accuracy 1.0, Val Seq Accuracy 0.6899999999999997\n",
      "Loss 6.168821409633181e-07, Test Accuracy 0.9869239050409068, Train Accuracy 1.0, Val Accuracy 0.9835108598937159, Test Seq Accuracy 0.7955000000000002, Train Seq Accuracy 1.0, Val Seq Accuracy 0.6902499999999997\n"
     ]
    },
    {
     "name": "stdout",
     "output_type": "stream",
     "text": [
      "Loss 3.943236468172551e-07, Test Accuracy 0.9872608615652375, Train Accuracy 1.0, Val Accuracy 0.9835325989710249, Test Seq Accuracy 0.7982500000000001, Train Seq Accuracy 1.0, Val Seq Accuracy 0.6907499999999996\n",
      "Loss 2.632970158036029e-07, Test Accuracy 0.9875434702505236, Train Accuracy 1.0, Val Accuracy 0.983510859861322, Test Seq Accuracy 0.7985, Train Seq Accuracy 1.0, Val Seq Accuracy 0.6902499999999996\n",
      "Loss 1.6461247113234687e-07, Test Accuracy 0.9875434702505236, Train Accuracy 1.0, Val Accuracy 0.983510859861322, Test Seq Accuracy 0.7985, Train Seq Accuracy 1.0, Val Seq Accuracy 0.6902499999999996\n",
      "Loss 1.0801397326323912e-07, Test Accuracy 0.9868260790148508, Train Accuracy 1.0, Val Accuracy 0.9836412946491138, Test Seq Accuracy 0.783, Train Seq Accuracy 1.0, Val Seq Accuracy 0.6932499999999997\n",
      "Loss 7.069628855274261e-08, Test Accuracy 0.9867717312082, Train Accuracy 1.0, Val Accuracy 0.9833369467569434, Test Seq Accuracy 0.781, Train Seq Accuracy 1.0, Val Seq Accuracy 0.6862499999999997\n",
      "Loss 4.5195866218621275e-08, Test Accuracy 0.9866630355625049, Train Accuracy 1.0, Val Accuracy 0.9832173815240031, Test Seq Accuracy 0.7775000000000001, Train Seq Accuracy 1.0, Val Seq Accuracy 0.6834999999999998\n",
      "Loss 2.6329706028975677e-08, Test Accuracy 0.9866086877558542, Train Accuracy 1.0, Val Accuracy 0.9830325989295607, Test Seq Accuracy 0.7762500000000002, Train Seq Accuracy 1.0, Val Seq Accuracy 0.67925\n",
      "Loss 1.7414921755872732e-08, Test Accuracy 0.9860760791146237, Train Accuracy 1.0, Val Accuracy 0.9829891205481861, Test Seq Accuracy 0.7695000000000001, Train Seq Accuracy 1.0, Val Seq Accuracy 0.6795000000000001\n",
      "Loss 1.00550447195533e-08, Test Accuracy 0.9858478181064129, Train Accuracy 1.0, Val Accuracy 0.982902163947406, Test Seq Accuracy 0.7612500000000002, Train Seq Accuracy 1.0, Val Seq Accuracy 0.67825\n",
      "Loss 7.774519501609851e-09, Test Accuracy 0.9856304266530534, Train Accuracy 1.0, Val Accuracy 0.9825108595516371, Test Seq Accuracy 0.7582500000000001, Train Seq Accuracy 1.0, Val Seq Accuracy 0.6705000000000001\n",
      "Loss 6.5305964307813356e-09, Test Accuracy 0.9853043396511804, Train Accuracy 1.0, Val Accuracy 0.9825217291064884, Test Seq Accuracy 0.75125, Train Seq Accuracy 1.0, Val Seq Accuracy 0.6707500000000002\n",
      "Loss 4.353730438968183e-09, Test Accuracy 0.9850543398248113, Train Accuracy 1.0, Val Accuracy 0.9824456421577412, Test Seq Accuracy 0.7455, Train Seq Accuracy 1.0, Val Seq Accuracy 0.6707500000000002\n",
      "Loss 3.0061472152144984e-09, Test Accuracy 0.984989122495703, Train Accuracy 1.0, Val Accuracy 0.9819782506836497, Test Seq Accuracy 0.7455, Train Seq Accuracy 1.0, Val Seq Accuracy 0.6617499999999998\n",
      "Loss 2.073204912093111e-09, Test Accuracy 0.9849239051018073, Train Accuracy 1.0, Val Accuracy 0.9814239026087782, Test Seq Accuracy 0.74425, Train Seq Accuracy 1.0, Val Seq Accuracy 0.6519999999999999\n",
      "Loss 1.969544759167943e-09, Test Accuracy 0.9847934700548648, Train Accuracy 1.0, Val Accuracy 0.9807717286698197, Test Seq Accuracy 0.7374999999999996, Train Seq Accuracy 1.0, Val Seq Accuracy 0.6384999999999998\n",
      "Loss 0.00019005358057177585, Test Accuracy 0.995293474326963, Train Accuracy 0.9998540369867045, Val Accuracy 0.9799347712941792, Test Seq Accuracy 0.8917499999999998, Train Seq Accuracy 0.9966428571428586, Val Seq Accuracy 0.6877499999999996\n",
      "Loss 7.456175491983152e-06, Test Accuracy 0.995391301130471, Train Accuracy 0.9999989648012148, Val Accuracy 0.9778478146895119, Test Seq Accuracy 0.8940000000000003, Train Seq Accuracy 0.9999761904761905, Val Seq Accuracy 0.60775\n",
      "Loss 3.0474038794636726e-06, Test Accuracy 0.9958369534948598, Train Accuracy 1.0, Val Accuracy 0.977956510335207, Test Seq Accuracy 0.90425, Train Seq Accuracy 1.0, Val Seq Accuracy 0.6047499999999999\n",
      "Loss 1.6654056431118236e-06, Test Accuracy 0.9957391273392283, Train Accuracy 1.0, Val Accuracy 0.9779673798900583, Test Seq Accuracy 0.9019999999999999, Train Seq Accuracy 1.0, Val Seq Accuracy 0.6039999999999999\n",
      "Loss 1.0047789027853666e-06, Test Accuracy 0.9957391273392283, Train Accuracy 1.0, Val Accuracy 0.9780217276643152, Test Seq Accuracy 0.9019999999999999, Train Seq Accuracy 1.0, Val Seq Accuracy 0.6039999999999999\n",
      "Loss 6.290103714412038e-07, Test Accuracy 0.9955217359830504, Train Accuracy 1.0, Val Accuracy 0.9780217276643152, Test Seq Accuracy 0.8969999999999999, Train Seq Accuracy 1.0, Val Seq Accuracy 0.6039999999999999\n",
      "Loss 4.0303107000553334e-07, Test Accuracy 0.9955217359830504, Train Accuracy 1.0, Val Accuracy 0.9781304233424042, Test Seq Accuracy 0.8969999999999999, Train Seq Accuracy 1.0, Val Seq Accuracy 0.6039999999999999\n",
      "Loss 2.5832136800644273e-07, Test Accuracy 0.9954891272861025, Train Accuracy 1.0, Val Accuracy 0.9781304233424042, Test Seq Accuracy 0.8962499999999999, Train Seq Accuracy 1.0, Val Seq Accuracy 0.6039999999999999\n",
      "Loss 1.6813692127470858e-07, Test Accuracy 0.9954565185891545, Train Accuracy 1.0, Val Accuracy 0.9781304233424042, Test Seq Accuracy 0.8955, Train Seq Accuracy 1.0, Val Seq Accuracy 0.6039999999999999\n",
      "Loss 1.0801397326323912e-07, Test Accuracy 0.9951521706969841, Train Accuracy 1.0, Val Accuracy 0.9781304233424042, Test Seq Accuracy 0.8885, Train Seq Accuracy 1.0, Val Seq Accuracy 0.6039999999999999\n",
      "Loss 7.111093410734927e-08, Test Accuracy 0.9951413011421328, Train Accuracy 1.0, Val Accuracy 0.9781086842327015, Test Seq Accuracy 0.88825, Train Seq Accuracy 1.0, Val Seq Accuracy 0.6035\n",
      "Loss 4.7476399468786956e-08, Test Accuracy 0.9950760836834492, Train Accuracy 1.0, Val Accuracy 0.9780760755357535, Test Seq Accuracy 0.8867500000000001, Train Seq Accuracy 1.0, Val Seq Accuracy 0.60275\n",
      "Loss 2.7573627864077698e-08, Test Accuracy 0.9950760836834492, Train Accuracy 1.0, Val Accuracy 0.9780760755357535, Test Seq Accuracy 0.8867500000000001, Train Seq Accuracy 1.0, Val Seq Accuracy 0.60275\n",
      "Loss 1.8762504979626417e-08, Test Accuracy 0.9949782574306364, Train Accuracy 1.0, Val Accuracy 0.9780760755357535, Test Seq Accuracy 0.8845000000000003, Train Seq Accuracy 1.0, Val Seq Accuracy 0.60275\n",
      "Loss 1.0366025178328804e-08, Test Accuracy 0.994880431242611, Train Accuracy 1.0, Val Accuracy 0.9780760755357535, Test Seq Accuracy 0.8822500000000003, Train Seq Accuracy 1.0, Val Seq Accuracy 0.60275\n",
      "Loss 5.597653818728324e-09, Test Accuracy 0.9947826050545858, Train Accuracy 1.0, Val Accuracy 0.9779565103676008, Test Seq Accuracy 0.8800000000000002, Train Seq Accuracy 1.0, Val Seq Accuracy 0.5999999999999999\n",
      "Loss 3.6281087506287567e-09, Test Accuracy 0.9947826050545858, Train Accuracy 1.0, Val Accuracy 0.9779565103676008, Test Seq Accuracy 0.8800000000000002, Train Seq Accuracy 1.0, Val Seq Accuracy 0.5999999999999999\n",
      "Loss 2.280525681340884e-09, Test Accuracy 0.994728257085966, Train Accuracy 1.0, Val Accuracy 0.9779130321158015, Test Seq Accuracy 0.8787500000000001, Train Seq Accuracy 1.0, Val Seq Accuracy 0.5989999999999998\n",
      "Loss 1.3475832237536847e-09, Test Accuracy 0.9944239090318265, Train Accuracy 1.0, Val Accuracy 0.9777608581535194, Test Seq Accuracy 0.8717500000000005, Train Seq Accuracy 1.0, Val Seq Accuracy 0.5954999999999997\n",
      "Loss 6.219614581813521e-10, Test Accuracy 0.993999995874322, Train Accuracy 1.0, Val Accuracy 0.9775434668297353, Test Seq Accuracy 0.8620000000000003, Train Seq Accuracy 1.0, Val Seq Accuracy 0.5905\n",
      "Loss 3.1098074839890256e-10, Test Accuracy 0.9936630389288715, Train Accuracy 1.0, Val Accuracy 0.977532597274884, Test Seq Accuracy 0.8542500000000002, Train Seq Accuracy 1.0, Val Seq Accuracy 0.5902499999999999\n",
      "Loss 3.1098074839890256e-10, Test Accuracy 0.9929782557746638, Train Accuracy 1.0, Val Accuracy 0.9769456406974274, Test Seq Accuracy 0.8385000000000004, Train Seq Accuracy 1.0, Val Seq Accuracy 0.5767500000000002\n",
      "Loss 5.183012280232778e-10, Test Accuracy 0.9912608633546726, Train Accuracy 1.0, Val Accuracy 0.9770978146597095, Test Seq Accuracy 0.7990000000000002, Train Seq Accuracy 1.0, Val Seq Accuracy 0.5802500000000002\n",
      "Loss 2.0732049893260174e-10, Test Accuracy 0.9897934717976529, Train Accuracy 1.0, Val Accuracy 0.976673901696568, Test Seq Accuracy 0.7652499999999998, Train Seq Accuracy 1.0, Val Seq Accuracy 0.571\n",
      "Loss 1.0934601406283353e-05, Test Accuracy 0.9924130373350952, Train Accuracy 0.9999824016206507, Val Accuracy 0.9751847711594208, Test Seq Accuracy 0.8530000000000004, Train Seq Accuracy 0.9995952380952382, Val Seq Accuracy 0.6167499999999998\n"
     ]
    },
    {
     "name": "stdout",
     "output_type": "stream",
     "text": [
      "Loss 3.7859831734196e-06, Test Accuracy 0.9927391246285128, Train Accuracy 1.0, Val Accuracy 0.9780978148074254, Test Seq Accuracy 0.8602500000000004, Train Seq Accuracy 1.0, Val Seq Accuracy 0.6334999999999997\n",
      "Loss 2.0045819996005814e-06, Test Accuracy 0.9925978203182635, Train Accuracy 1.0, Val Accuracy 0.9782065105179082, Test Seq Accuracy 0.8575000000000006, Train Seq Accuracy 1.0, Val Seq Accuracy 0.6332499999999996\n",
      "Loss 1.2152057657342241e-06, Test Accuracy 0.9927282550088737, Train Accuracy 1.0, Val Accuracy 0.9782717279441978, Test Seq Accuracy 0.8597500000000006, Train Seq Accuracy 1.0, Val Seq Accuracy 0.6334999999999996\n",
      "Loss 7.742383667905612e-07, Test Accuracy 0.9926847767570744, Train Accuracy 1.0, Val Accuracy 0.9783478148605512, Test Seq Accuracy 0.8585000000000005, Train Seq Accuracy 1.0, Val Seq Accuracy 0.6339999999999997\n",
      "Loss 5.042034583469934e-07, Test Accuracy 0.9927391245961189, Train Accuracy 1.0, Val Accuracy 0.9785869452292505, Test Seq Accuracy 0.8590000000000005, Train Seq Accuracy 1.0, Val Seq Accuracy 0.6334999999999997\n",
      "Loss 3.1823694134009595e-07, Test Accuracy 0.9927717332930669, Train Accuracy 1.0, Val Accuracy 0.9787173800818298, Test Seq Accuracy 0.8595000000000004, Train Seq Accuracy 1.0, Val Seq Accuracy 0.6334999999999997\n",
      "Loss 2.0752780904370846e-07, Test Accuracy 0.9927717332930669, Train Accuracy 1.0, Val Accuracy 0.9789021626762722, Test Seq Accuracy 0.8595000000000004, Train Seq Accuracy 1.0, Val Seq Accuracy 0.6337499999999998\n",
      "Loss 1.339290460948731e-07, Test Accuracy 0.9928043419576209, Train Accuracy 1.0, Val Accuracy 0.9789347713084324, Test Seq Accuracy 0.8595000000000004, Train Seq Accuracy 1.0, Val Seq Accuracy 0.6344999999999997\n",
      "Loss 9.142833890940022e-08, Test Accuracy 0.9926521678657635, Train Accuracy 1.0, Val Accuracy 0.9789347713084324, Test Seq Accuracy 0.8580000000000003, Train Seq Accuracy 1.0, Val Seq Accuracy 0.6344999999999997\n",
      "Loss 5.5354571091099744e-08, Test Accuracy 0.9927173852272656, Train Accuracy 1.0, Val Accuracy 0.9788912930566331, Test Seq Accuracy 0.8580000000000003, Train Seq Accuracy 1.0, Val Seq Accuracy 0.6337499999999998\n",
      "Loss 3.27566404532421e-08, Test Accuracy 0.9927934722084066, Train Accuracy 1.0, Val Accuracy 0.9791195539352686, Test Seq Accuracy 0.8587500000000003, Train Seq Accuracy 1.0, Val Seq Accuracy 0.6384999999999997\n",
      "Loss 2.0213749592031767e-08, Test Accuracy 0.9927065155428388, Train Accuracy 1.0, Val Accuracy 0.9792065104064734, Test Seq Accuracy 0.8575000000000003, Train Seq Accuracy 1.0, Val Seq Accuracy 0.6402499999999998\n",
      "Loss 1.0055044101690051e-08, Test Accuracy 0.992749993827032, Train Accuracy 1.0, Val Accuracy 0.9790652059990427, Test Seq Accuracy 0.8577500000000002, Train Seq Accuracy 1.0, Val Seq Accuracy 0.6399999999999997\n",
      "Loss 9.744063025051297e-09, Test Accuracy 0.9929673852156038, Train Accuracy 1.0, Val Accuracy 0.9790978147283844, Test Seq Accuracy 0.8592500000000003, Train Seq Accuracy 1.0, Val Seq Accuracy 0.6389999999999997\n",
      "Loss 5.701313971653492e-09, Test Accuracy 0.9930869509992393, Train Accuracy 1.0, Val Accuracy 0.979010858192392, Test Seq Accuracy 0.8592500000000003, Train Seq Accuracy 1.0, Val Seq Accuracy 0.6384999999999997\n",
      "Loss 2.0732049893260174e-10, Test Accuracy 0.9932717339500137, Train Accuracy 1.0, Val Accuracy 0.9789347712436448, Test Seq Accuracy 0.8615, Train Seq Accuracy 1.0, Val Seq Accuracy 0.6354999999999996\n",
      "Loss 0.0, Test Accuracy 0.9931956472604171, Train Accuracy 1.0, Val Accuracy 0.9789021625466968, Test Seq Accuracy 0.8590000000000002, Train Seq Accuracy 1.0, Val Seq Accuracy 0.6327499999999997\n",
      "Loss 0.0, Test Accuracy 0.9933152126877204, Train Accuracy 1.0, Val Accuracy 0.9789891191150831, Test Seq Accuracy 0.8600000000000003, Train Seq Accuracy 1.0, Val Seq Accuracy 0.6302499999999996\n",
      "Loss 4.975691974382441e-09, Test Accuracy 0.9930108643744303, Train Accuracy 1.0, Val Accuracy 0.9789130323606988, Test Seq Accuracy 0.8572500000000005, Train Seq Accuracy 1.0, Val Seq Accuracy 0.6272499999999998\n",
      "Loss 6.005940351473249e-05, Test Accuracy 0.9936739078034525, Train Accuracy 0.999927536085032, Val Accuracy 0.9777499888578187, Test Seq Accuracy 0.8545000000000004, Train Seq Accuracy 0.9983571428571437, Val Seq Accuracy 0.6217499999999999\n",
      "Loss 4.4415507506093256e-05, Test Accuracy 0.9920652116446391, Train Accuracy 0.9999886128133622, Val Accuracy 0.9816739026942979, Test Seq Accuracy 0.8175000000000001, Train Seq Accuracy 0.9997380952380954, Val Seq Accuracy 0.6742499999999997\n"
     ]
    }
   ],
   "source": [
    "n_epochs = 100\n",
    "batch_size = 50\n",
    "start = time.time()\n",
    "iters = 0\n",
    "decoder.train(True)\n",
    "encoder.train(True)\n",
    "losses, accs, accs_tr = [], [], []\n",
    "attn = True\n",
    "\n",
    "writer = SummaryWriter()\n",
    "\n",
    "cur_best = 0\n",
    "for epoch in range(1, n_epochs + 1):\n",
    "    start_index = 0\n",
    "    steps = len(inps) / batch_size\n",
    "    for i in range(int(steps)):\n",
    "        start_index = i * batch_size\n",
    "        inp, instr, target = generate_batch(start_index, len_example, len_labels, len_instr, \n",
    "                                     batch_size, inps, instrs, targets)\n",
    "        loss = train(inp, instr, target, attn=attn)\n",
    "        writer.add_scalar('data/loss', loss, iters)\n",
    "        losses.append(loss)\n",
    "#         if iters % print_every == 0:\n",
    "#             acc, acc_seq = accuracy_test_data(inps_t, instrs_t, targets_t, batch_size, attn=attn)\n",
    "#             acc_tr, acc_tr_seq = accuracy_train_data(inps, instrs, targets, batch_size, attn=attn)\n",
    "#             accs.append(acc)\n",
    "#             accs_tr.append(acc_tr)\n",
    "#             writer.add_scalar('data/test_accuracy', acc, iters)\n",
    "#             writer.add_scalar('data/train_accuracy', acc_tr, iters)\n",
    "#             writer.add_scalar('data/test_seq_accuracy', acc_seq, iters)\n",
    "#             writer.add_scalar('data/train_seq_accuracy', acc_tr_seq, iters)\n",
    "#             print(\"Loss {}, Test Accuracy {}, Train Accuracy {}, Test Seq Accuracy {}, Train Seq Accuracy {}\"\n",
    "#                   .format(loss, acc, acc_tr, acc_seq, acc_tr_seq))\n",
    "            #print(\"Loss {}\".format(loss))\n",
    "        iters += 1\n",
    "    acc, acc_seq = accuracy_test_data(inps_t, instrs_t, targets_t, batch_size, attn=attn)\n",
    "    acc_v, acc_v_seq = accuracy_test_data(inps_v, instrs_v, targets_v, batch_size, attn=attn)\n",
    "    acc_tr, acc_tr_seq = accuracy_train_data(inps, instrs, targets, batch_size, attn=attn)\n",
    "    if acc_v_seq > cur_best:\n",
    "        with open('models/encoder_seq2conv_50000_nvl_utter_blocks.tar','wb') as ckpt:\n",
    "             torch.save(encoder, ckpt)\n",
    "        with open('models/decoder_seq2conv_50000_nvl_utter_blocks.tar','wb') as ckpt:\n",
    "             torch.save(decoder, ckpt)\n",
    "        cur_best = acc_v_seq\n",
    "    writer.add_scalar('data/test_accuracy', acc, epoch)\n",
    "    writer.add_scalar('data/train_accuracy', acc_tr, epoch)    \n",
    "    writer.add_scalar('data/val_accuracy', acc_v, epoch)\n",
    "    writer.add_scalar('data/test_seq_accuracy', acc_seq, epoch)\n",
    "    writer.add_scalar('data/train_seq_accuracy', acc_tr_seq, epoch)\n",
    "    writer.add_scalar('data/val_seq_accuracy', acc_v_seq, epoch)\n",
    "    print(\"Loss {}, Test Accuracy {}, Train Accuracy {}, Val Accuracy {}, Test Seq Accuracy {}, Train Seq Accuracy {}, Val Seq Accuracy {}\"\n",
    "          .format(loss, acc, acc_tr, acc_v, acc_seq, acc_tr_seq, acc_v_seq))\n",
    "\n",
    "writer.export_scalars_to_json(\"./seq2conv_50000.json\")\n",
    "writer.close()"
   ]
  },
  {
   "cell_type": "code",
   "execution_count": 27,
   "metadata": {},
   "outputs": [
    {
     "name": "stderr",
     "output_type": "stream",
     "text": [
      "/home/rezka/anaconda3/lib/python3.6/site-packages/torch/serialization.py:158: UserWarning: Couldn't retrieve source code for container of type EncoderWord. It won't be checked for correctness upon loading.\n",
      "  \"type \" + obj.__name__ + \". It won't be checked \"\n",
      "/home/rezka/anaconda3/lib/python3.6/site-packages/torch/serialization.py:158: UserWarning: Couldn't retrieve source code for container of type ConvDecoder. It won't be checked for correctness upon loading.\n",
      "  \"type \" + obj.__name__ + \". It won't be checked \"\n"
     ]
    }
   ],
   "source": [
    "with open('models/Encoder_Seq2Conv_50000_nvl_utter_blocks_hid64_layer1_drop0.5_dot.tar','wb') as ckpt:\n",
    "     torch.save(encoder, ckpt)\n",
    "with open('models/Decoder_Seq2Conv_50000_nvl_utter_blocks_hid64_layer1_drop0.5_dot.tar','wb') as ckpt:\n",
    "     torch.save(decoder, ckpt)"
   ]
  },
  {
   "cell_type": "code",
   "execution_count": 38,
   "metadata": {},
   "outputs": [
    {
     "name": "stderr",
     "output_type": "stream",
     "text": [
      "/home/rezka/anaconda3/lib/python3.6/site-packages/torch/serialization.py:316: SourceChangeWarning: source code of class 'torch.nn.modules.sparse.Embedding' has changed. Saved a reverse patch to Embedding.patch. Run `patch -p0 < Embedding.patch` to revert your changes.\n",
      "  warnings.warn(msg, SourceChangeWarning)\n",
      "/home/rezka/anaconda3/lib/python3.6/site-packages/torch/serialization.py:316: SourceChangeWarning: source code of class 'torch.nn.modules.rnn.LSTM' has changed. Saved a reverse patch to LSTM.patch. Run `patch -p0 < LSTM.patch` to revert your changes.\n",
      "  warnings.warn(msg, SourceChangeWarning)\n",
      "/home/rezka/anaconda3/lib/python3.6/site-packages/torch/serialization.py:316: SourceChangeWarning: source code of class 'torch.nn.modules.sparse.Embedding' has changed. Saved a reverse patch to Embedding.patch. Run `patch -p0 < Embedding.patch` to revert your changes.\n",
      "  warnings.warn(msg, SourceChangeWarning)\n",
      "/home/rezka/anaconda3/lib/python3.6/site-packages/torch/serialization.py:316: SourceChangeWarning: source code of class 'torch.nn.modules.linear.Linear' has changed. Saved a reverse patch to Linear.patch. Run `patch -p0 < Linear.patch` to revert your changes.\n",
      "  warnings.warn(msg, SourceChangeWarning)\n",
      "/home/rezka/anaconda3/lib/python3.6/site-packages/torch/serialization.py:316: SourceChangeWarning: source code of class 'torch.nn.modules.conv.Conv1d' has changed. Saved a reverse patch to Conv1d.patch. Run `patch -p0 < Conv1d.patch` to revert your changes.\n",
      "  warnings.warn(msg, SourceChangeWarning)\n"
     ]
    }
   ],
   "source": [
    "torch.nn.Module.dump_patches = True\n",
    "encoder = torch.load('models/Decoder_Seq2Conv_50000_nvl_utter_blocks_hid64_layer1_drop0.5_dot.tar').cuda()\n",
    "decoder = torch.load('models/Encoder_Seq2Conv_50000_nvl_utter_blocks_hid64_layer1_drop0.5_dot.tar').cuda()"
   ]
  },
  {
   "cell_type": "code",
   "execution_count": 34,
   "metadata": {
    "collapsed": true
   },
   "outputs": [],
   "source": [
    "torch.save(decoder.state_dict(), 'models/Params_Decoder_Seq2Conv_50000_nvl_utter_blocks_hid64_layer1_drop0.5_dot.tar')\n",
    "torch.save(encoder.state_dict(), 'models/Params_Encoder_Seq2Conv_50000_nvl_utter_blocks_hid64_layer1_drop0.5_dot.tar')"
   ]
  },
  {
   "cell_type": "code",
   "execution_count": 73,
   "metadata": {
    "collapsed": true
   },
   "outputs": [],
   "source": [
    "decoder.load_state_dict(torch.load('models/Params_Decoder_Seq2Conv_50000_nvl_utter_blocks_hid64_layer1_drop0.5_dot.tar'))\n",
    "encoder.load_state_dict(torch.load('models/Params_Encoder_Seq2Conv_50000_nvl_utter_blocks_hid64_layer1_drop0.5_dot.tar'))"
   ]
  },
  {
   "cell_type": "code",
   "execution_count": 24,
   "metadata": {},
   "outputs": [
    {
     "data": {
      "text/plain": [
       "(0.9951630403166232, 0.8887500000000002)"
      ]
     },
     "execution_count": 24,
     "metadata": {},
     "output_type": "execute_result"
    }
   ],
   "source": [
    "accuracy_test_data(inps_t, instrs_t, targets_t, batch_size, attn=True)"
   ]
  },
  {
   "cell_type": "code",
   "execution_count": 28,
   "metadata": {},
   "outputs": [
    {
     "data": {
      "text/plain": [
       "(1.0, 1.0)"
      ]
     },
     "execution_count": 28,
     "metadata": {},
     "output_type": "execute_result"
    }
   ],
   "source": [
    "accuracy_test_data(inps_v, instrs_v, targets_v, batch_size, attn=True)"
   ]
  },
  {
   "cell_type": "markdown",
   "metadata": {},
   "source": [
    "## Part 2 Experiment"
   ]
  },
  {
   "cell_type": "code",
   "execution_count": 39,
   "metadata": {
    "collapsed": true
   },
   "outputs": [],
   "source": [
    "import copy"
   ]
  },
  {
   "cell_type": "code",
   "execution_count": 40,
   "metadata": {
    "collapsed": true
   },
   "outputs": [],
   "source": [
    "def get_mutated_data(inps, color):\n",
    "    res = []\n",
    "    for a in inps:\n",
    "        cnt = 0\n",
    "        for col in color:\n",
    "            if col in a:\n",
    "                cnt += 1\n",
    "        #if cnt == len(color):\n",
    "        if cnt > 0:\n",
    "            res.append(a)\n",
    "    return res"
   ]
  },
  {
   "cell_type": "code",
   "execution_count": 41,
   "metadata": {
    "collapsed": true
   },
   "outputs": [],
   "source": [
    "wss = [\"add\", \"red\", \"orange\", \"1st\", \"3rd\", \"5th\", \"even\"]\n",
    "wsr = [\"et\", \"roze\", \"oranje\", \"1\", \"3\", \"5\", \"ev\"]\n",
    "color = wss\n",
    "\n",
    "inpss = []\n",
    "with open(\"./dataset/lang_games_data_artificial_valid_nvl_utter_blocks_50000.txt\", \"r\") as f:\n",
    "    for line in f:\n",
    "        inpss.append(line)\n",
    "inpss = get_mutated_data(inpss, color)\n",
    "\n",
    "inps_m = []\n",
    "targets_m = []\n",
    "instrs_m = []\n",
    "\n",
    "inpsss = random.choice(inpss, 1)\n",
    "for elem in inpsss:\n",
    "    ar = elem.split(\"\\t\")\n",
    "    inp = ar[0]\n",
    "    ins = ar[1]\n",
    "    lab = ar[2].replace(\"\\n\",\"\")\n",
    "    inps_m.append(inp)\n",
    "    targets_m.append(lab)\n",
    "    instrs_m.append(ins)\n",
    "    \n",
    "inps_rst = []\n",
    "targets_rst = []\n",
    "instrs_rst = []\n",
    "\n",
    "inpsss_rest = [i for i in inpss if not i in inpsss]\n",
    "for elem in inpsss_rest:\n",
    "    ar = elem.split(\"\\t\")\n",
    "    inp = ar[0]\n",
    "    ins = ar[1]\n",
    "    lab = ar[2].replace(\"\\n\",\"\")\n",
    "    inps_rst.append(inp)\n",
    "    targets_rst.append(lab)\n",
    "    instrs_rst.append(ins)\n",
    "\n",
    "inpss = []\n",
    "with open(\"./dataset/lang_games_data_artificial_test_nvl_utter_blocks_50000.txt\", \"r\") as f:\n",
    "    for line in f:\n",
    "        inpss.append(line)\n",
    "inpss = get_mutated_data(inpss, color)\n",
    "\n",
    "inps_mt = []\n",
    "targets_mt = []\n",
    "instrs_mt = []\n",
    "for elem in inpss:\n",
    "    ar = elem.split(\"\\t\")\n",
    "    inp = ar[0]\n",
    "    ins = ar[1]\n",
    "    lab = ar[2].replace(\"\\n\",\"\")\n",
    "    inps_mt.append(inp)\n",
    "    targets_mt.append(lab)\n",
    "    instrs_mt.append(ins)"
   ]
  },
  {
   "cell_type": "code",
   "execution_count": 42,
   "metadata": {
    "collapsed": true
   },
   "outputs": [],
   "source": [
    "inps_new = inps_m + inps_rst\n",
    "instrs_new = instrs_m + instrs_rst\n",
    "targets_new = targets_m + targets_rst"
   ]
  },
  {
   "cell_type": "code",
   "execution_count": 44,
   "metadata": {},
   "outputs": [
    {
     "name": "stdout",
     "output_type": "stream",
     "text": [
      "5984\n"
     ]
    }
   ],
   "source": [
    "print(len(inps_new) + len(inps_mt))"
   ]
  },
  {
   "cell_type": "code",
   "execution_count": 57,
   "metadata": {},
   "outputs": [
    {
     "name": "stdout",
     "output_type": "stream",
     "text": [
      "['remove cyan at 4th tile', 'remove orange at every tile', 'remove brown at every tile', 'remove cyan at 2nd tile', 'remove cyan at 4th tile', 'remove orange at every tile', 'remove orange at every tile', 'remove brown at every tile', 'remove orange at every tile', 'remove brown at every tile']\n"
     ]
    }
   ],
   "source": [
    "print(instrs_new[:10])"
   ]
  },
  {
   "cell_type": "code",
   "execution_count": 58,
   "metadata": {},
   "outputs": [
    {
     "data": {
      "text/plain": [
       "(0.9918774869492206, 0.8131821998320738)"
      ]
     },
     "execution_count": 58,
     "metadata": {},
     "output_type": "execute_result"
    }
   ],
   "source": [
    "accuracy_test_data(inps_mt, instrs_mt, targets_mt, 1, attn=True)"
   ]
  },
  {
   "cell_type": "code",
   "execution_count": 59,
   "metadata": {},
   "outputs": [
    {
     "data": {
      "text/plain": [
       "(1.0, 1.0)"
      ]
     },
     "execution_count": 59,
     "metadata": {},
     "output_type": "execute_result"
    }
   ],
   "source": [
    "accuracy_test_data(inps_new, instrs_new, targets_new, 1, attn=True)"
   ]
  },
  {
   "cell_type": "code",
   "execution_count": 28,
   "metadata": {
    "collapsed": true
   },
   "outputs": [],
   "source": [
    "def mutate_instruction(sentences, words, words_to_replace):\n",
    "    sentences_mutate = []\n",
    "    for sentence in sentences:\n",
    "        sent = sentence\n",
    "        for word, word_to_replace in zip(words, words_to_replace):\n",
    "            sent = sent.replace(word, word_to_replace)\n",
    "        sentences_mutate.append(sent)\n",
    "    return sentences_mutate"
   ]
  },
  {
   "cell_type": "code",
   "execution_count": 30,
   "metadata": {
    "collapsed": true
   },
   "outputs": [],
   "source": [
    "all_words_ext = []\n",
    "all_words_ext.append(wsr)\n",
    "\n",
    "all_words_ext = sorted(list(all_words_ext))\n",
    "n_words_ext = len(all_words_ext)\n",
    "\n",
    "all_words_comb = copy.deepcopy(all_words)\n",
    "all_words_comb.append(wsr)\n",
    "\n",
    "n_words_comb = len(all_words_comb)"
   ]
  },
  {
   "cell_type": "code",
   "execution_count": 31,
   "metadata": {
    "collapsed": true
   },
   "outputs": [],
   "source": [
    "def instr_tensor_ext(string):\n",
    "    string = string.split(\" \")\n",
    "    tensor = torch.zeros(len(string)).long()\n",
    "    for li, letter in enumerate(string):\n",
    "        letter_index = all_words_comb.index(letter)\n",
    "        tensor[li] = letter_index\n",
    "    return tensor"
   ]
  },
  {
   "cell_type": "code",
   "execution_count": 32,
   "metadata": {
    "collapsed": true
   },
   "outputs": [],
   "source": [
    "def generate_batch_ext(start_index, len_example, len_labels, len_instr, batch_size, inps, instrs, labels):\n",
    "    inp_tensor = torch.zeros(batch_size, len_example).long()\n",
    "    lab_tensor = torch.zeros(batch_size, len_labels).long()\n",
    "    ins_tensor = torch.zeros(batch_size, len_instr).long()\n",
    "    for i in range(batch_size):\n",
    "        inp = seq_tensor(inps[start_index+i])\n",
    "        lab = categories_tensor(labels[start_index+i])\n",
    "        ins = instr_tensor_ext(instrs[start_index+i])\n",
    "        inp_tensor[i,:] = inp\n",
    "        lab_tensor[i,:] = lab\n",
    "        ins_tensor[i,:] = ins\n",
    "    # uncomment to do this with CPU\n",
    "    #return Variable(inp_tensor), Variable(lab_tensor)\n",
    "    return Variable(inp_tensor).cuda(), Variable(ins_tensor).cuda(), Variable(lab_tensor).cuda()"
   ]
  },
  {
   "cell_type": "code",
   "execution_count": 33,
   "metadata": {
    "collapsed": true
   },
   "outputs": [],
   "source": [
    "class EncoderExtended(nn.Module):\n",
    "    def __init__(self, input_size, ext_input_size, hidden_size, n_layers=2):\n",
    "        super(EncoderExtended, self).__init__()\n",
    "        \n",
    "        self.input_size = input_size\n",
    "        self.hidden_size = hidden_size\n",
    "        self.n_layers = n_layers\n",
    "        \n",
    "        self.embedding = nn.Embedding(input_size, hidden_size)\n",
    "        self.embedding_ext = nn.Embedding(ext_input_size, hidden_size)\n",
    "        self.lstm = nn.LSTM(hidden_size, hidden_size, n_layers, batch_first=True)\n",
    "        \n",
    "    def forward(self, inputs, hidden, batch_size, new_emb):\n",
    "        # Note: we run this all at once (over the whole input sequence)\n",
    "        if new_emb:\n",
    "            embedded = self.embedding_ext(inputs) # [1, 1, hidden_size]\n",
    "            alpha_w = F.softmax(torch.mm(embedded.squeeze(1), self.embedding.weight.transpose(0,1)),dim=1).contiguous() # [1, n_words_utterance]\n",
    "            embedded = 0.3 * embedded + 0.7 * torch.mm(alpha_w, self.embedding.weight).unsqueeze(0) # [1, hidden_size]\n",
    "        else:\n",
    "            embedded = self.embedding(inputs)\n",
    "        ht, hidden = self.lstm(embedded, hidden) # [batch_size, seq_len, hidden_size]\n",
    "        alph = 0\n",
    "        if new_emb:\n",
    "            alph = alpha_w\n",
    "        return ht, hidden, alph\n",
    "\n",
    "    def init_hidden(self, batch_size):\n",
    "        h0 = Variable(torch.zeros(self.n_layers, batch_size, self.hidden_size)).cuda()\n",
    "        c0 = Variable(torch.zeros(self.n_layers, batch_size, self.hidden_size)).cuda()\n",
    "        return h0, c0"
   ]
  },
  {
   "cell_type": "code",
   "execution_count": 34,
   "metadata": {},
   "outputs": [
    {
     "data": {
      "text/plain": [
       "EncoderExtended(\n",
       "  (embedding): Embedding(20, 64)\n",
       "  (embedding_ext): Embedding(1, 64)\n",
       "  (lstm): LSTM(64, 64, batch_first=True)\n",
       ")"
      ]
     },
     "execution_count": 34,
     "metadata": {},
     "output_type": "execute_result"
    }
   ],
   "source": [
    "enc_ext = EncoderExtended(n_words_utterance, n_words_ext, 64, n_layers=1)\n",
    "enc_ext.cuda()"
   ]
  },
  {
   "cell_type": "code",
   "execution_count": 35,
   "metadata": {
    "collapsed": true
   },
   "outputs": [],
   "source": [
    "# si = 0\n",
    "# inp_m, instr_m, target_m = generate_batch_ext(si, len_example, len_labels, len_instr, 1, inps_m, instrs_m, targets_m)\n",
    "# hid = enc_ext.init_hidden(1)\n",
    "# cntxt = Variable(torch.zeros(len_instr, 1, 1, n_hidden)).cuda()\n",
    "# for c in range(len_instr):\n",
    "#     if instr_m[:,c].data[0] < n_words_utterance:\n",
    "#         ht, hid = enc_ext(instr_m[:,c].unsqueeze(1), hid, 1, False)\n",
    "#     else:\n",
    "#         ht, hid = enc_ext(instr_m[:,c].unsqueeze(1) % 20, hid, 1, True)\n",
    "#     cntxt[c] = ht.contiguous()\n",
    "# cntxt = cntxt.squeeze(1).transpose(0,1)"
   ]
  },
  {
   "cell_type": "code",
   "execution_count": 36,
   "metadata": {
    "collapsed": true
   },
   "outputs": [],
   "source": [
    "# load parameters from trained model\n",
    "params1 = encoder.named_parameters()\n",
    "params2 = enc_ext.named_parameters()\n",
    "\n",
    "dict_params2 = dict(params2)\n",
    "\n",
    "for name1, param1 in params1:\n",
    "    if name1 in dict_params2:\n",
    "        dict_params2[name1].data.copy_(param1.data)\n",
    "        \n",
    "# freeze all weights except the connected one\n",
    "for name, params in enc_ext.named_parameters():\n",
    "    if name != \"embedding_ext.weight\":\n",
    "        params.requires_grad = False\n",
    "        \n",
    "enc_ext_optimizer = torch.optim.Adam(filter(lambda p: p.requires_grad, enc_ext.parameters()), lr=1e-3)"
   ]
  },
  {
   "cell_type": "code",
   "execution_count": 37,
   "metadata": {},
   "outputs": [
    {
     "name": "stdout",
     "output_type": "stream",
     "text": [
      "embedding_ext.weight Parameter containing:\n",
      "\n",
      "Columns 0 to 9 \n",
      " 0.4950 -0.0409 -2.7921  1.6280  1.8966  0.8831 -1.5419 -0.5645 -0.1274  0.7138\n",
      "\n",
      "Columns 10 to 19 \n",
      " 0.9740  1.3057 -1.4484  0.1319  0.1255 -0.7219 -0.7204 -1.5245 -0.3485 -1.9738\n",
      "\n",
      "Columns 20 to 29 \n",
      "-1.4126  0.3942 -0.4011  0.3479  0.3589 -0.4242  0.8558  1.2909  0.2071  2.3702\n",
      "\n",
      "Columns 30 to 39 \n",
      " 0.1726  0.3056  0.6090 -0.2362  0.7549 -0.0403 -0.1209  0.3639 -0.5272 -0.5664\n",
      "\n",
      "Columns 40 to 49 \n",
      "-0.3245  0.2536 -0.4154 -0.1279  2.0042 -0.0961 -0.8446 -1.4666  0.9302 -0.2920\n",
      "\n",
      "Columns 50 to 59 \n",
      " 2.3861 -0.3729  1.7409  0.1759 -0.0751 -0.6022  1.7686  0.2296 -1.9346  0.2579\n",
      "\n",
      "Columns 60 to 63 \n",
      " 0.4148  0.0434 -0.6911  0.0130\n",
      "[torch.cuda.FloatTensor of size 1x64 (GPU 0)]\n",
      "\n"
     ]
    }
   ],
   "source": [
    "for name, params in enc_ext.named_parameters():\n",
    "    if name == \"embedding_ext.weight\":\n",
    "        print(name, params)"
   ]
  },
  {
   "cell_type": "code",
   "execution_count": 264,
   "metadata": {
    "collapsed": true
   },
   "outputs": [],
   "source": [
    "instrs_m = mutate_instruction(instrs_m, wss, wsr)\n",
    "instrs_mt = mutate_instruction(instrs_mt, wss, wsr)\n",
    "instrs_rst = mutate_instruction(instrs_rst, wss, wsr)"
   ]
  },
  {
   "cell_type": "code",
   "execution_count": null,
   "metadata": {
    "collapsed": true
   },
   "outputs": [],
   "source": [
    "def random_search():\n",
    "    attn=True\n",
    "    batch_size=1\n",
    "    cur_best = 0\n",
    "    saved_params = dict_params2[\"embedding_ext.weight\"]\n",
    "    for i in range(1000):\n",
    "        c\n",
    "        acc, acc_seq = accuracy_test_data_ext(inps_mt, instrs_mt, targets_mt, batch_size, attn=attn)\n",
    "        acc_rst, acc_rst_seq = accuracy_test_data_ext(inps_rst, instrs_rst, targets_rst, batch_size, attn=attn)\n",
    "        if acc_seq > cur_best:\n",
    "            cur_best = acc_seq\n",
    "            saved_params = dict_params2[\"embedding_ext.weight\"]\n",
    "            print(i, acc_seq, acc_rst_seq)\n",
    "            if acc_seq == 1.0:\n",
    "                break\n",
    "        else:\n",
    "            print(i, acc_seq, acc_rst_seq)\n",
    "    return saved_params\n",
    "saved_params = random_search()"
   ]
  },
  {
   "cell_type": "code",
   "execution_count": 95,
   "metadata": {},
   "outputs": [
    {
     "name": "stdout",
     "output_type": "stream",
     "text": [
      "Variable containing:\n",
      "-0.1490\n",
      " 3.6359\n",
      " 0.2455\n",
      "-0.9514\n",
      " 0.5914\n",
      "-1.1509\n",
      "-1.2822\n",
      " 1.6259\n",
      " 1.5317\n",
      " 1.5286\n",
      "-0.7074\n",
      " 0.3230\n",
      "-0.4524\n",
      " 0.5571\n",
      " 0.4833\n",
      "-0.1936\n",
      " 0.8293\n",
      "-0.3979\n",
      "-0.7768\n",
      " 0.7105\n",
      " 0.8169\n",
      "-0.1841\n",
      " 1.3799\n",
      "-0.0886\n",
      " 0.8845\n",
      "-0.2790\n",
      "-0.6195\n",
      " 0.4044\n",
      " 1.0286\n",
      "-0.1663\n",
      " 0.7555\n",
      "-0.8804\n",
      "-0.8712\n",
      "-1.7720\n",
      " 0.8139\n",
      "-0.7373\n",
      " 1.2371\n",
      "-0.7260\n",
      "-1.1261\n",
      " 0.0416\n",
      " 0.2822\n",
      " 0.1862\n",
      "-0.7144\n",
      " 1.5880\n",
      "-0.9536\n",
      "-0.6163\n",
      " 1.0008\n",
      "-1.6744\n",
      "-0.9191\n",
      " 1.1671\n",
      " 0.7302\n",
      "-1.1990\n",
      "-0.4048\n",
      " 0.6357\n",
      "-0.0544\n",
      "-0.7590\n",
      "-0.2266\n",
      " 0.7096\n",
      "-0.0285\n",
      " 1.7030\n",
      " 0.7983\n",
      " 1.1275\n",
      " 0.0613\n",
      " 1.0947\n",
      "[torch.cuda.FloatTensor of size 64 (GPU 0)]\n",
      "\n"
     ]
    }
   ],
   "source": [
    "print(dict_params2[\"embedding.weight\"][15])"
   ]
  },
  {
   "cell_type": "code",
   "execution_count": 110,
   "metadata": {},
   "outputs": [
    {
     "name": "stdout",
     "output_type": "stream",
     "text": [
      "Variable containing:\n",
      " 1.2546\n",
      "-1.6789\n",
      "-0.9043\n",
      " 0.6247\n",
      " 1.9500\n",
      "-0.0688\n",
      "-2.0882\n",
      "-0.3522\n",
      "-1.4150\n",
      " 0.2225\n",
      "-0.4135\n",
      "-0.6879\n",
      " 0.1510\n",
      " 0.2397\n",
      " 2.0495\n",
      "-0.9066\n",
      " 0.6581\n",
      " 0.3126\n",
      " 0.9969\n",
      " 0.3044\n",
      " 1.2554\n",
      " 0.1249\n",
      "-0.2947\n",
      "-1.1226\n",
      " 0.3517\n",
      " 1.3698\n",
      "-0.6399\n",
      "-1.3569\n",
      " 0.5946\n",
      "-0.7505\n",
      "-1.0239\n",
      "-1.3207\n",
      " 1.5025\n",
      " 0.0004\n",
      "-1.0920\n",
      "-1.0694\n",
      "-0.3285\n",
      " 0.9867\n",
      " 0.8493\n",
      " 0.7228\n",
      "-1.5289\n",
      " 1.4087\n",
      " 0.6339\n",
      "-1.1798\n",
      " 2.1724\n",
      " 0.2657\n",
      "-0.9867\n",
      " 0.1668\n",
      "-0.8257\n",
      "-0.4330\n",
      "-1.0945\n",
      " 0.7771\n",
      "-0.2371\n",
      "-1.4405\n",
      " 1.5853\n",
      " 1.4464\n",
      " 1.0117\n",
      " 1.3034\n",
      "-2.4712\n",
      " 1.0102\n",
      "-1.0060\n",
      "-0.8578\n",
      " 0.4331\n",
      " 0.7396\n",
      "[torch.cuda.FloatTensor of size 64 (GPU 0)]\n",
      "\n"
     ]
    }
   ],
   "source": [
    "print(saved_params[0])"
   ]
  },
  {
   "cell_type": "code",
   "execution_count": 94,
   "metadata": {},
   "outputs": [
    {
     "name": "stdout",
     "output_type": "stream",
     "text": [
      "Variable containing:\n",
      " 0.2032\n",
      "[torch.cuda.FloatTensor of size 1 (GPU 0)]\n",
      "\n"
     ]
    }
   ],
   "source": [
    "print(F.cosine_similarity(dict_params2[\"embedding.weight\"][15].unsqueeze(0), saved_params))"
   ]
  },
  {
   "cell_type": "code",
   "execution_count": 38,
   "metadata": {
    "collapsed": true
   },
   "outputs": [],
   "source": [
    "# training\n",
    "def train_ext(inp, instr, target, attn=False):\n",
    "    loss = 0\n",
    "    enc_ext_optimizer.zero_grad()\n",
    "    hid = enc_ext.init_hidden(1)\n",
    "    cntxt = Variable(torch.zeros(len_instr, 1, 1, n_hidden)).cuda()\n",
    "    for c in range(len_instr):\n",
    "        if instr[:,c].data[0] < n_words_utterance:\n",
    "            ht, hid, _ = enc_ext(instr[:,c].unsqueeze(1), hid, 1, False)\n",
    "        else:\n",
    "            ht, hid, _ = enc_ext(instr[:,c].unsqueeze(1) % 20, hid, 1, True)\n",
    "        cntxt[c] = ht.contiguous()\n",
    "    cntxt = cntxt.squeeze(1).transpose(0,1)\n",
    "    context = cntxt\n",
    "    hidden = hid\n",
    "    position_ids = generate_position_ids(batch_size)\n",
    "    if attn:\n",
    "        output, vis_attn = decoder(inp, position_ids, batch_size, attn=True, \n",
    "                             context=context)\n",
    "        op = output.transpose(0,1) # seq_len, bs, class\n",
    "        for c in range(len_example):\n",
    "            loss += criterion(op[c], target[:,c])\n",
    "        #loss += criterion(output.view(batch_size, -1), target[:,c])\n",
    "    else:\n",
    "        output, _ = decoder(inp, position_ids, batch_size)\n",
    "        op = output.transpose(0,1) # seq_len, bs, class\n",
    "        for c in range(len_example):\n",
    "            loss += criterion(op[c], target[:,c])\n",
    "    loss.backward()\n",
    "    enc_ext_optimizer.step()\n",
    "\n",
    "    return loss.data[0]  / len_labels"
   ]
  },
  {
   "cell_type": "code",
   "execution_count": 39,
   "metadata": {
    "collapsed": true
   },
   "outputs": [],
   "source": [
    "# batch_size = 1\n",
    "# start_index = 7\n",
    "# inp, instr, target = generate_batch_ext(start_index, len_example, len_labels, len_instr, \n",
    "#                                     batch_size, inps, instrs, targets)\n",
    "# train_ext(inp, instr, target, attn=True)"
   ]
  },
  {
   "cell_type": "code",
   "execution_count": 40,
   "metadata": {
    "collapsed": true
   },
   "outputs": [],
   "source": [
    "def accuracy_test_data_ext(inps_mt, instrs_mt, targets_mt, batch_size, attn=False):\n",
    "    it = len(inps_mt) / batch_size\n",
    "    acc_tot = 0\n",
    "    acc_tot_seq = 0\n",
    "    for i in range(int(it)):\n",
    "        decoder.eval()\n",
    "        enc_ext.eval()\n",
    "        start_index = i * batch_size\n",
    "        inp, instr, target = generate_batch_ext(start_index, len_example, len_labels, len_instr,\n",
    "                                            batch_size, inps_mt, instrs_mt, targets_mt)\n",
    "        hid = enc_ext.init_hidden(batch_size)\n",
    "        cntxt = Variable(torch.zeros(len_instr, batch_size, 1, n_hidden)).cuda()\n",
    "        for c in range(len_instr):\n",
    "            if instr[:,c].data[0] < n_words_utterance:\n",
    "                ht, hid, _ = enc_ext(instr[:,c].unsqueeze(1), hid, batch_size, False)\n",
    "            else:\n",
    "                ht, hid, _ = enc_ext(instr[:,c].unsqueeze(1) % 20, hid, batch_size, True)\n",
    "            cntxt[c] = ht.contiguous()\n",
    "        cntxt = cntxt.squeeze(2).transpose(0,1).contiguous()\n",
    "        context = cntxt\n",
    "        #ht, hid = enc_ext(instr, hid, batch_size, False)\n",
    "        #context = ht\n",
    "        position_ids = generate_position_ids(batch_size)\n",
    "        if attn:\n",
    "            pred_seq = Variable(torch.zeros(len_labels, batch_size)).cuda()\n",
    "            tgt_seq = Variable(torch.zeros(len_labels, batch_size)).cuda()\n",
    "            output, vis_attn = decoder(inp, position_ids, batch_size, attn=True, \n",
    "                                 context=context)\n",
    "            op = output.transpose(0,1) # seq_len, bs, class\n",
    "            for c in range(len_labels):\n",
    "                tgt_seq[c] = target[:,c]\n",
    "                pred_seq[c] = op[c].max(1)[1]\n",
    "                accuracy = (op[c].max(1)[1] == target[:,c]).float().sum().float() / batch_size\n",
    "                acc_tot += accuracy.data[0]\n",
    "            truth = Variable(torch.ones(batch_size)).cuda() * 23\n",
    "            acc_tot_seq += ((pred_seq == tgt_seq).float().sum(dim=0) == truth).float().sum().data[0] / batch_size\n",
    "            #print((pred_seq == tgt_seq).float().sum(dim=0))\n",
    "        else:\n",
    "            pred_seq = Variable(torch.zeros(len_labels, batch_size)).cuda()\n",
    "            tgt_seq = Variable(torch.zeros(len_labels, batch_size)).cuda()\n",
    "            output, _ = decoder(inp, position_ids, batch_size)\n",
    "            op = output.transpose(0,1) # seq_len, bs, class\n",
    "            for c in range(len_labels):\n",
    "                tgt_seq[c] = target[:,c]\n",
    "                pred_seq[c] = op[c].max(1)[1]\n",
    "                accuracy = (op[c].max(1)[1] == target[:,c]).float().sum().float() / batch_size\n",
    "                acc_tot += accuracy.data[0]\n",
    "            truth = Variable(torch.ones(batch_size)).cuda() * 23\n",
    "            acc_tot_seq += ((pred_seq == tgt_seq).float().sum(dim=0) == truth).float().sum().data[0] / batch_size\n",
    "            #print((pred_seq == tgt_seq).float().sum(dim=0))\n",
    "    return acc_tot / (it * len_labels), acc_tot_seq / it"
   ]
  },
  {
   "cell_type": "code",
   "execution_count": 298,
   "metadata": {},
   "outputs": [
    {
     "data": {
      "text/plain": [
       "(1.0, 1.0)"
      ]
     },
     "execution_count": 298,
     "metadata": {},
     "output_type": "execute_result"
    }
   ],
   "source": [
    "accuracy_test_data_ext(inps_mt, instrs_mt, targets_mt, 2, attn=True)"
   ]
  },
  {
   "cell_type": "code",
   "execution_count": 319,
   "metadata": {
    "collapsed": true
   },
   "outputs": [],
   "source": [
    "instrs_m = mutate_instruction(instrs_m, wss, wsr)\n",
    "instrs_mt = mutate_instruction(instrs_mt, wss, wsr)\n",
    "instrs_rst = mutate_instruction(instrs_rst, wss, wsr)"
   ]
  },
  {
   "cell_type": "code",
   "execution_count": 320,
   "metadata": {},
   "outputs": [
    {
     "data": {
      "text/plain": [
       "(0.9578487670704049, 0.08712541620421754)"
      ]
     },
     "execution_count": 320,
     "metadata": {},
     "output_type": "execute_result"
    }
   ],
   "source": [
    "accuracy_test_data_ext(inps_mt, instrs_mt, targets_mt, 1, attn=True)"
   ]
  },
  {
   "cell_type": "code",
   "execution_count": 53,
   "metadata": {},
   "outputs": [
    {
     "data": {
      "text/plain": [
       "(1.0, 1.0)"
      ]
     },
     "execution_count": 53,
     "metadata": {},
     "output_type": "execute_result"
    }
   ],
   "source": [
    "accuracy_test_data_ext(inps_rst, instrs_rst, targets_rst, 1, attn=True)"
   ]
  },
  {
   "cell_type": "code",
   "execution_count": 321,
   "metadata": {},
   "outputs": [
    {
     "name": "stdout",
     "output_type": "stream",
     "text": [
      "Loss 0.6694634893666143, Test Accuracy 0.9578487670704049, Test Seq Accuracy 0.08712541620421754\n",
      "Loss 0.6692920353101648, Test Accuracy 0.9578487670704049, Test Seq Accuracy 0.08712541620421754\n",
      "Loss 0.6691209129665209, Test Accuracy 0.9578487670704049, Test Seq Accuracy 0.08712541620421754\n",
      "Loss 0.6689495418382727, Test Accuracy 0.9578487670704049, Test Seq Accuracy 0.08712541620421754\n",
      "Loss 0.6687781707100247, Test Accuracy 0.9578487670704049, Test Seq Accuracy 0.08712541620421754\n",
      "Loss 0.6686065507971722, Test Accuracy 0.9578487670704049, Test Seq Accuracy 0.08712541620421754\n",
      "Loss 0.6684352211330248, Test Accuracy 0.9578487670704049, Test Seq Accuracy 0.08712541620421754\n",
      "Loss 0.6682634768278702, Test Accuracy 0.9578487670704049, Test Seq Accuracy 0.08712541620421754\n",
      "Loss 0.6680917739868164, Test Accuracy 0.9578487670704049, Test Seq Accuracy 0.08712541620421754\n",
      "Loss 0.6679197808970576, Test Accuracy 0.9578487670704049, Test Seq Accuracy 0.08712541620421754\n",
      "Loss 0.6677479951278024, Test Accuracy 0.958283067123486, Test Seq Accuracy 0.09711431742508324\n",
      "Loss 0.6675759605739428, Test Accuracy 0.958283067123486, Test Seq Accuracy 0.09711431742508324\n",
      "Loss 0.6674037186995797, Test Accuracy 0.958283067123486, Test Seq Accuracy 0.09711431742508324\n",
      "Loss 0.6672316012175187, Test Accuracy 0.958283067123486, Test Seq Accuracy 0.09711431742508324\n",
      "Loss 0.6670591105585513, Test Accuracy 0.958283067123486, Test Seq Accuracy 0.09711431742508324\n",
      "Loss 0.6668867857559867, Test Accuracy 0.958283067123486, Test Seq Accuracy 0.09711431742508324\n",
      "Loss 0.666714046312415, Test Accuracy 0.958283067123486, Test Seq Accuracy 0.09711431742508324\n",
      "Loss 0.6665411410124406, Test Accuracy 0.958283067123486, Test Seq Accuracy 0.09711431742508324\n",
      "Loss 0.6663680698560632, Test Accuracy 0.958283067123486, Test Seq Accuracy 0.09711431742508324\n",
      "Loss 0.6661947499150815, Test Accuracy 0.958283067123486, Test Seq Accuracy 0.09711431742508324\n",
      "Loss 0.6660214299740999, Test Accuracy 0.958283067123486, Test Seq Accuracy 0.09711431742508324\n",
      "Loss 0.6658476953921111, Test Accuracy 0.958283067123486, Test Seq Accuracy 0.09711431742508324\n",
      "Loss 0.6656739193460216, Test Accuracy 0.958283067123486, Test Seq Accuracy 0.09711431742508324\n",
      "Loss 0.6654997701230256, Test Accuracy 0.958283067123486, Test Seq Accuracy 0.09711431742508324\n",
      "Loss 0.665325289187224, Test Accuracy 0.958283067123486, Test Seq Accuracy 0.09711431742508324\n",
      "Loss 0.6651506838591202, Test Accuracy 0.958283067123486, Test Seq Accuracy 0.09711431742508324\n",
      "Loss 0.6649757882823115, Test Accuracy 0.958283067123486, Test Seq Accuracy 0.09711431742508324\n",
      "Loss 0.6648005195285963, Test Accuracy 0.958283067123486, Test Seq Accuracy 0.09711431742508324\n",
      "Loss 0.6646249605261761, Test Accuracy 0.958283067123486, Test Seq Accuracy 0.09711431742508324\n",
      "Loss 0.6644492771314539, Test Accuracy 0.958283067123486, Test Seq Accuracy 0.09711431742508324\n",
      "Loss 0.6642732620239258, Test Accuracy 0.958283067123486, Test Seq Accuracy 0.09711431742508324\n",
      "Loss 0.6640967493471892, Test Accuracy 0.958283067123486, Test Seq Accuracy 0.09711431742508324\n",
      "Loss 0.6639201537422512, Test Accuracy 0.958283067123486, Test Seq Accuracy 0.09711431742508324\n",
      "Loss 0.6637429776399032, Test Accuracy 0.958283067123486, Test Seq Accuracy 0.09711431742508324\n",
      "Loss 0.6635655112888502, Test Accuracy 0.958283067123486, Test Seq Accuracy 0.09711431742508324\n",
      "Loss 0.6633873815121858, Test Accuracy 0.958283067123486, Test Seq Accuracy 0.09711431742508324\n",
      "Loss 0.6632092102714207, Test Accuracy 0.958283067123486, Test Seq Accuracy 0.09711431742508324\n",
      "Loss 0.663030831710152, Test Accuracy 0.958283067123486, Test Seq Accuracy 0.09711431742508324\n",
      "Loss 0.6628517897232719, Test Accuracy 0.958283067123486, Test Seq Accuracy 0.09711431742508324\n",
      "Loss 0.6626723745594854, Test Accuracy 0.958283067123486, Test Seq Accuracy 0.09711431742508324\n",
      "Loss 0.6624923374341882, Test Accuracy 0.958283067123486, Test Seq Accuracy 0.09711431742508324\n",
      "Loss 0.6623119685960852, Test Accuracy 0.958283067123486, Test Seq Accuracy 0.09711431742508324\n",
      "Loss 0.6621312680451766, Test Accuracy 0.958283067123486, Test Seq Accuracy 0.09711431742508324\n",
      "Loss 0.6619504016378651, Test Accuracy 0.958283067123486, Test Seq Accuracy 0.09711431742508324\n",
      "Loss 0.6617687059485394, Test Accuracy 0.958283067123486, Test Seq Accuracy 0.09711431742508324\n",
      "Loss 0.6615866370823072, Test Accuracy 0.958283067123486, Test Seq Accuracy 0.09711431742508324\n",
      "Loss 0.6614040706468665, Test Accuracy 0.958283067123486, Test Seq Accuracy 0.09711431742508324\n",
      "Loss 0.6612208407858143, Test Accuracy 0.958283067123486, Test Seq Accuracy 0.09711431742508324\n",
      "Loss 0.661037362140158, Test Accuracy 0.958283067123486, Test Seq Accuracy 0.09711431742508324\n",
      "Loss 0.6608532200688901, Test Accuracy 0.958283067123486, Test Seq Accuracy 0.09711431742508324\n",
      "Loss 0.6606689121412195, Test Accuracy 0.958283067123486, Test Seq Accuracy 0.09711431742508324\n",
      "Loss 0.660483857859736, Test Accuracy 0.958283067123486, Test Seq Accuracy 0.09711431742508324\n",
      "Loss 0.660298430401346, Test Accuracy 0.958283067123486, Test Seq Accuracy 0.09711431742508324\n",
      "Loss 0.6601125053737474, Test Accuracy 0.9587414949572939, Test Seq Accuracy 0.1076581576026637\n",
      "Loss 0.6599258339923361, Test Accuracy 0.9587414949572939, Test Seq Accuracy 0.1076581576026637\n",
      "Loss 0.6597386650417162, Test Accuracy 0.9587414949572939, Test Seq Accuracy 0.1076581576026637\n",
      "Loss 0.6595509155936863, Test Accuracy 0.9587414949572939, Test Seq Accuracy 0.1076581576026637\n",
      "Loss 0.6593627515046493, Test Accuracy 0.9587414949572939, Test Seq Accuracy 0.1076581576026637\n",
      "Loss 0.6591739654541016, Test Accuracy 0.9587414949572939, Test Seq Accuracy 0.1076581576026637\n",
      "Loss 0.6589846818343453, Test Accuracy 0.9587414949572939, Test Seq Accuracy 0.1076581576026637\n",
      "Loss 0.6587949006453805, Test Accuracy 0.9587414949572939, Test Seq Accuracy 0.1076581576026637\n",
      "Loss 0.6586041657820992, Test Accuracy 0.9587414949572939, Test Seq Accuracy 0.1076581576026637\n",
      "Loss 0.6584132235983143, Test Accuracy 0.9587414949572939, Test Seq Accuracy 0.1076581576026637\n",
      "Loss 0.6582215350607167, Test Accuracy 0.9587414949572939, Test Seq Accuracy 0.1076581576026637\n",
      "Loss 0.6580293489539105, Test Accuracy 0.9587414949572939, Test Seq Accuracy 0.1076581576026637\n",
      "Loss 0.6578367067419965, Test Accuracy 0.9587414949572939, Test Seq Accuracy 0.1076581576026637\n",
      "Loss 0.6576431523198667, Test Accuracy 0.9587414949572939, Test Seq Accuracy 0.1076581576026637\n",
      "Loss 0.6574493905772334, Test Accuracy 0.9587414949572939, Test Seq Accuracy 0.1076581576026637\n",
      "Loss 0.6572547995525858, Test Accuracy 0.9587414949572939, Test Seq Accuracy 0.1076581576026637\n",
      "Loss 0.657059379245924, Test Accuracy 0.9587414949572939, Test Seq Accuracy 0.1076581576026637\n",
      "Loss 0.6568635442982549, Test Accuracy 0.9592481783525552, Test Seq Accuracy 0.1193118756936737\n",
      "Loss 0.6566670873890752, Test Accuracy 0.9592481783525552, Test Seq Accuracy 0.1193118756936737\n",
      "Loss 0.6564700085183849, Test Accuracy 0.9592481783525552, Test Seq Accuracy 0.1193118756936737\n",
      "Loss 0.6562721832938816, Test Accuracy 0.9592481783525552, Test Seq Accuracy 0.1193118756936737\n",
      "Loss 0.6560736531796663, Test Accuracy 0.9592481783525552, Test Seq Accuracy 0.1193118756936737\n",
      "Loss 0.6558749572090481, Test Accuracy 0.9592481783525552, Test Seq Accuracy 0.1193118756936737\n",
      "Loss 0.655675224635912, Test Accuracy 0.9592481783525552, Test Seq Accuracy 0.1193118756936737\n",
      "Loss 0.655474911565366, Test Accuracy 0.9592481783525552, Test Seq Accuracy 0.1193118756936737\n",
      "Loss 0.6552738106769064, Test Accuracy 0.9592481783525552, Test Seq Accuracy 0.1193118756936737\n",
      "Loss 0.6550723366115404, Test Accuracy 0.9592481783525552, Test Seq Accuracy 0.1193118756936737\n",
      "Loss 0.6548701576564623, Test Accuracy 0.9592481783525552, Test Seq Accuracy 0.1193118756936737\n",
      "Loss 0.6546672323475713, Test Accuracy 0.9592481783525552, Test Seq Accuracy 0.1193118756936737\n",
      "Loss 0.6544636850771697, Test Accuracy 0.9592481783525552, Test Seq Accuracy 0.1193118756936737\n",
      "Loss 0.6542592255965524, Test Accuracy 0.9592481783525552, Test Seq Accuracy 0.1193118756936737\n",
      "Loss 0.6540543100108271, Test Accuracy 0.9592481783525552, Test Seq Accuracy 0.1193118756936737\n",
      "Loss 0.6538488553917926, Test Accuracy 0.9592481783525552, Test Seq Accuracy 0.1193118756936737\n"
     ]
    },
    {
     "name": "stdout",
     "output_type": "stream",
     "text": [
      "Loss 0.6536423641702404, Test Accuracy 0.9592481783525552, Test Seq Accuracy 0.1193118756936737\n",
      "Loss 0.6534352509871774, Test Accuracy 0.9592481783525552, Test Seq Accuracy 0.1193118756936737\n",
      "Loss 0.6532275158426036, Test Accuracy 0.9592481783525552, Test Seq Accuracy 0.1193118756936737\n",
      "Loss 0.6530191172724185, Test Accuracy 0.9592481783525552, Test Seq Accuracy 0.1193118756936737\n",
      "Loss 0.6528097235638163, Test Accuracy 0.9592481783525552, Test Seq Accuracy 0.1193118756936737\n",
      "Loss 0.6525999981424083, Test Accuracy 0.9592481783525552, Test Seq Accuracy 0.1193118756936737\n",
      "Loss 0.6523896507594896, Test Accuracy 0.9592481783525552, Test Seq Accuracy 0.1193118756936737\n",
      "Loss 0.652178432630456, Test Accuracy 0.9592481783525552, Test Seq Accuracy 0.1193118756936737\n",
      "Loss 0.651966260827106, Test Accuracy 0.9592481783525552, Test Seq Accuracy 0.1193118756936737\n",
      "Loss 0.651753508526346, Test Accuracy 0.9592481783525552, Test Seq Accuracy 0.1193118756936737\n",
      "Loss 0.6515402586563773, Test Accuracy 0.9592481783525552, Test Seq Accuracy 0.1193118756936737\n",
      "Loss 0.6513261380402938, Test Accuracy 0.9592481783525552, Test Seq Accuracy 0.1193118756936737\n",
      "Loss 0.6511111466780953, Test Accuracy 0.9592481783525552, Test Seq Accuracy 0.1193118756936737\n",
      "Loss 0.6508954089620839, Test Accuracy 0.9592481783525552, Test Seq Accuracy 0.1193118756936737\n"
     ]
    }
   ],
   "source": [
    "n_epochs = 100\n",
    "batch_size = 1\n",
    "start = time.time()\n",
    "iters = 0\n",
    "enc_ext.train(True)\n",
    "attn = True\n",
    "print_every = 100\n",
    "\n",
    "cur_best = 0\n",
    "for epoch in range(1, n_epochs + 1):\n",
    "    start_index = 0\n",
    "    steps = len(inps_m) / batch_size\n",
    "    for i in range(int(steps)):\n",
    "        start_index = i * batch_size\n",
    "        inp, instr, target = generate_batch_ext(start_index, len_example, len_labels, len_instr, \n",
    "                                     batch_size, inps_m, instrs_m, targets_m)\n",
    "        loss = train_ext(inp, instr, target, attn=attn)\n",
    "        iters += 1\n",
    "        #print(F.cosine_similarity(dict_params2[\"embedding.weight\"][15].unsqueeze(0), dict_params2[\"embedding_ext.weight\"]))\n",
    "        #if i % print_every == 0 and i != 0:\n",
    "    acc, acc_seq = accuracy_test_data_ext(inps_mt, instrs_mt, targets_mt, batch_size, attn=attn)\n",
    "    #acc_rst, acc_seq_rst = accuracy_test_data_ext(inps_rst, instrs_rst, targets_rst, batch_size, attn=attn)\n",
    "#     if acc_v_seq > cur_best:\n",
    "#         with open('models/encoder_ext_seq2conv_50000_nvl_utter_blocks.tar','wb') as ckpt:\n",
    "#              torch.save(encoder, ckpt)\n",
    "#         cur_best = acc_v_seq\n",
    "    #print(F.cosine_similarity(dict_params2[\"embedding.weight\"][15].unsqueeze(0), dict_params2[\"embedding_ext.weight\"]).data[0])\n",
    "    print(\"Loss {}, Test Accuracy {}, Test Seq Accuracy {}\"\n",
    "          .format(loss, acc, acc_seq))"
   ]
  },
  {
   "cell_type": "code",
   "execution_count": 322,
   "metadata": {},
   "outputs": [
    {
     "data": {
      "text/plain": [
       "(0.9565217391304348, 0.0)"
      ]
     },
     "execution_count": 322,
     "metadata": {},
     "output_type": "execute_result"
    }
   ],
   "source": [
    "accuracy_test_data_ext(inps_m, instrs_m, targets_m, 1, attn=True)"
   ]
  },
  {
   "cell_type": "code",
   "execution_count": 323,
   "metadata": {},
   "outputs": [
    {
     "data": {
      "image/png": "[encoded data removed]",
      "text/plain": [
       "<matplotlib.figure.Figure at 0x7ff5727be6a0>"
      ]
     },
     "metadata": {},
     "output_type": "display_data"
    }
   ],
   "source": [
    "batch_size = 1\n",
    "start_index = 0\n",
    "inp, instr, target = generate_batch_ext(start_index, len_example, len_labels, len_instr, \n",
    "                                    batch_size, inps_m, instrs_m, targets_m)\n",
    "hid = enc_ext.init_hidden(batch_size)\n",
    "for c in range(len_instr):\n",
    "    if instr[:,c].data[0] < n_words_utterance:\n",
    "        ht, hid, _ = enc_ext(instr[:,c].unsqueeze(1), hid, batch_size, False)\n",
    "    else:\n",
    "        ht, hid, attn_alph = enc_ext(instr[:,c].unsqueeze(1) % 20, hid, batch_size, True)\n",
    "        cols_alph = [\"1\"]\n",
    "        index_alph = [j for j in all_words]\n",
    "        df = DataFrame(list(attn_alph.data[0]), index=index_alph, columns=cols_alph)\n",
    "        sns.heatmap(df, annot=True)"
   ]
  },
  {
   "cell_type": "markdown",
   "metadata": {},
   "source": [
    "## Visualizing Attention Mask"
   ]
  },
  {
   "cell_type": "code",
   "execution_count": 44,
   "metadata": {
    "collapsed": true
   },
   "outputs": [],
   "source": [
    "def map_index(idx):\n",
    "    # 0 - 0, 1 - 4, 2 - 8, 3 - 12, 4 - 16\n",
    "    return idx * 4\n",
    "\n",
    "def map_thres(idx):\n",
    "    if idx == 0:\n",
    "        return 0.0\n",
    "    elif idx == 1:\n",
    "        return 0.0\n",
    "    elif idx==2:\n",
    "        return 0.5\n",
    "\n",
    "# counting correctly attended weights #\n",
    "batch_size = 1\n",
    "attn=True\n",
    "ponder=True\n",
    "pool=True\n",
    "it = len(inps_to) / batch_size\n",
    "#it = 5 / batch_size\n",
    "ttt, ttf, tft, tff, ftt, ftf, fft, fff = 0, 0, 0, 0, 0, 0, 0, 0\n",
    "ttts, ttfs, tfts, tffs, ftts, ftfs, ffts, fffs = [], [], [], [], [], [], [], []\n",
    "failed_set = []\n",
    "attn_avg_tctp = []\n",
    "attn_avg_tcfp = []\n",
    "attn_avg_fctp = []\n",
    "attn_avg_fcfp = []\n",
    "for j in range(int(it)):\n",
    "    # pool\n",
    "    pool_hidden = Variable(torch.zeros(len_example - grammar_len, batch_size, 1\n",
    "                                           , n_hidden)).cuda()\n",
    "    start_index = j * batch_size\n",
    "    ### check where is the index of k-factors ###\n",
    "    grammar, target_str = inps_to[start_index].split(\"$\")\n",
    "    kfs = grammar.split(\"#\")\n",
    "    idxs_check = []\n",
    "    for k, kfs in enumerate(kfs):\n",
    "        if kfs in target_str:\n",
    "            start_kf = map_index(k)\n",
    "            start_ts = target_str.find(kfs)\n",
    "            idxs_check.append((start_kf, start_ts))\n",
    "    \n",
    "    ### gather the attention mask ###\n",
    "    hidden = rnn.init_hidden(batch_size)\n",
    "    inp_t, lab_t = generate_batch(start_index, len_example, batch_size, inps_to, labels_to)\n",
    "    attn_vals = []\n",
    "    prediction_at_step = []\n",
    "    if attn:\n",
    "        #grammar_contexts = torch.zeros(grammar_len, batch_size, n_hidden)\n",
    "        output, ht, hidden, vis_attn = rnn(inp_t[:,:20], hidden, batch_size)\n",
    "    #         for j in range(ht.size(1)):\n",
    "    #             if j not in [3,7,11,15,19]:\n",
    "    #                 grammar_contexts[i] = ht[:,j,:].transpose(0,1)\n",
    "    #                 i += 1\n",
    "        grammar_contexts = ht\n",
    "        #print(grammar_contexts)\n",
    "        ht = rnn.init_prev_ht(batch_size, 1)\n",
    "        for c in range(len_example - 20):\n",
    "            attn_val = []\n",
    "            #print(ht)\n",
    "            if ponder:\n",
    "                output, ht, hidden, vis_attn = rnn(inp_t[:,20+c].unsqueeze(1), hidden, batch_size, attn=True, \n",
    "                                     context=grammar_contexts, prev_ht=ht, ponder=True)\n",
    "                for i, elem in enumerate(vis_attn[3].squeeze().data):\n",
    "                    attn_val.append(elem)\n",
    "            else:\n",
    "                output, ht, hidden, vis_attn = rnn(inp_t[:,20+c].unsqueeze(1), hidden, batch_size, attn=True, \n",
    "                                     context=grammar_contexts, prev_ht=ht, ponder=False)\n",
    "                for i, elem in enumerate(vis_attn[0].squeeze().data):\n",
    "                    attn_val.append(elem)\n",
    "            pool_hidden[c] = ht\n",
    "            attn_vals.append(attn_val)\n",
    "            prediction_at_step.append(list(F.softmax(rnn.output(ht.squeeze(1)),dim=1).data[0]))\n",
    "        # pool\n",
    "        if pool:\n",
    "            logits, _ = torch.max(pool_hidden, 0)\n",
    "            cls = rnn.output(logits.squeeze(1))\n",
    "        else:\n",
    "            cls = output\n",
    "        cls = F.softmax(cls, dim=1)\n",
    "        #print(list(cls.data))\n",
    "        \n",
    "        ### define hypothesis ###\n",
    "        correct_attended = False\n",
    "        predicted_correct = False\n",
    "        hm_times = 0\n",
    "        hm_cor = False\n",
    "        put_ca = False\n",
    "        put_pc = False\n",
    "        attn_avg = []\n",
    "        attn_avg_ext = []\n",
    "        final_prediction = np.argmax(cls.data) == 0\n",
    "        for idx_check in idxs_check:\n",
    "            # 0 : index of k factors, 1 : index of target string\n",
    "            #print(idx_check)\n",
    "            hm_times = 0\n",
    "            hm_cor = False\n",
    "            # a is number of step\n",
    "            for a in range(3):\n",
    "                if a == 2 and np.argmax(prediction_at_step[idx_check[1]+a]) == 0:\n",
    "                    predicted_correct = True\n",
    "                    put_pc = True\n",
    "                # b is a number of grammar\n",
    "                for b in range(3):\n",
    "                    attn_avg.append(attn_vals[idx_check[1]+a][idx_check[0]+b])\n",
    "                    if attn_vals[idx_check[1]+a][idx_check[0]+b] > map_thres(a):\n",
    "                        hm_cor = True\n",
    "                if hm_cor:\n",
    "                    hm_times += 1\n",
    "                hm_cor = False\n",
    "            if hm_times == 3:\n",
    "                correct_attended = True\n",
    "                put_ca = True\n",
    "            for a in range(3,6):\n",
    "                for b in range(0,3):\n",
    "                    if idx_check[1] + a <= 19:\n",
    "                        attn_avg.append(attn_vals[idx_check[1]+a][idx_check[0]+b])\n",
    "                    else:\n",
    "                        attn_avg.append(0.0)\n",
    "            if final_prediction and put_pc:\n",
    "                attn_avg_tctp.append(attn_avg)\n",
    "            elif final_prediction and not put_pc:\n",
    "                attn_avg_tcfp.append(attn_avg)\n",
    "            elif not final_prediction and put_pc:\n",
    "                attn_avg_fctp.append(attn_avg)\n",
    "            elif not final_prediction and not put_pc:\n",
    "                attn_avg_fcfp.append(attn_avg)\n",
    "            put_ca = False\n",
    "            put_pc = False\n",
    "            attn_avg = []\n",
    "        #print(\"Correctly Attended to Corresponding K-Factor {}\".format(str(correct_attended)))\n",
    "        #print(\"Predicted Correct when Attending to K-Factor {}\".format(str(predicted_correct)))\n",
    "        #print(\"Final Prediction {}\".format(str(final_prediction)))\n",
    "        if correct_attended and predicted_correct and final_prediction:\n",
    "            ttt += 1\n",
    "        elif correct_attended and predicted_correct and not final_prediction:\n",
    "            ttf += 1\n",
    "        elif correct_attended and not predicted_correct and final_prediction:\n",
    "            tft += 1\n",
    "        elif correct_attended and not predicted_correct and not final_prediction:\n",
    "            tff += 1\n",
    "        elif not correct_attended and predicted_correct and final_prediction:\n",
    "            ftt += 1\n",
    "        elif not correct_attended and predicted_correct and not final_prediction:\n",
    "            ftf += 1\n",
    "        elif not correct_attended and not predicted_correct and final_prediction:\n",
    "            fft += 1\n",
    "        elif not correct_attended and not predicted_correct and not final_prediction:\n",
    "            fff += 1\n",
    "        if not final_prediction:\n",
    "            failed_set.append(inps_to[start_index])\n",
    "            \n",
    "    else:\n",
    "        output, ht, hidden = rnn(inp, hidden, batch_size)\n",
    "        cls = output[:,-1,:].contiguous()\n",
    "        cls = F.softmax(cls, dim=1) \n",
    "    \n",
    "### visualizing ###\n",
    "#     ts = inps_to[start_index]\n",
    "#     av = np.transpose(attn_vals)\n",
    "#     idx = Index(list(ts[:20]))\n",
    "#     df = DataFrame(av, index=idx, columns=list(ts[20:]))\n",
    "#     vals = np.around(df.values,4)\n",
    "#     normal = plt.Normalize(vals.min()-1, vals.max()+1)\n",
    "\n",
    "#     fig = plt.figure(figsize=(15,8))\n",
    "#     ax = fig.add_subplot(111, frameon=True, xticks=[], yticks=[])\n",
    "\n",
    "#     tab1=plt.table(cellText=vals, rowLabels=df.index, colLabels=df.columns, \n",
    "#                         colWidths = [0.05]*vals.shape[1], loc='bottom', \n",
    "#                         cellColours=plt.cm.hot(normal(vals)))\n",
    "\n",
    "#     idx = Index([\"0\", \"1\"])\n",
    "#     df = DataFrame(np.transpose(prediction_at_step), index=idx, columns=list(ts[20:]))\n",
    "#     vals = np.around(df.values,4)\n",
    "#     normal = plt.Normalize(vals.min()-1, vals.max()+1)\n",
    "\n",
    "#     fig = plt.figure(figsize=(15,8))\n",
    "#     ax = fig.add_subplot(111, frameon=True, xticks=[], yticks=[])\n",
    "\n",
    "#     tab2=plt.table(cellText=vals, rowLabels=df.index, colLabels=df.columns, \n",
    "#                         colWidths = [0.05]*vals.shape[1], loc='top', \n",
    "#                         cellColours=plt.cm.hot(normal(vals)))"
   ]
  },
  {
   "cell_type": "code",
   "execution_count": 45,
   "metadata": {},
   "outputs": [
    {
     "name": "stdout",
     "output_type": "stream",
     "text": [
      "3285 204 612 551\n"
     ]
    }
   ],
   "source": [
    "print(len(attn_avg_tctp), len(attn_avg_tcfp), len(attn_avg_fctp), len(attn_avg_fcfp))"
   ]
  },
  {
   "cell_type": "code",
   "execution_count": 46,
   "metadata": {},
   "outputs": [
    {
     "data": {
      "image/png": "[encoded data removed]",
      "text/plain": [
       "<matplotlib.figure.Figure at 0x7f2dc05e7160>"
      ]
     },
     "metadata": {},
     "output_type": "display_data"
    }
   ],
   "source": [
    "attn_1 = np.array(attn_avg_tctp)\n",
    "attn_1_n = np.mean(attn_1[:,:9], axis=0).reshape(3,3)\n",
    "attn_1_ext = np.mean(attn_1[:,9:], axis=0).reshape(3,3)\n",
    "attn_2 = np.array(attn_avg_tcfp)\n",
    "attn_2_n = np.mean(attn_2[:,:9], axis=0).reshape(3,3)\n",
    "attn_2_ext = np.mean(attn_2[:,9:], axis=0).reshape(3,3)\n",
    "attn_3 = np.array(attn_avg_fctp)\n",
    "attn_3_n = np.mean(attn_3[:,:9], axis=0).reshape(3,3)\n",
    "attn_3_ext = np.mean(attn_3[:,9:], axis=0).reshape(3,3)\n",
    "attn_4 = np.array(attn_avg_fcfp)\n",
    "attn_4_n = np.mean(attn_4[:,:9], axis=0).reshape(3,3)\n",
    "attn_4_ext = np.mean(attn_4[:,9:], axis=0).reshape(3,3)\n",
    "\n",
    "idx = Index([1,2,3])\n",
    "df = DataFrame(np.concatenate((np.transpose(attn_1_n),np.transpose(attn_1_ext)),axis=1), index=idx, \n",
    "               columns=[1,2,3,4,5,6])\n",
    "vals = np.around(df.values,4)\n",
    "normal = plt.Normalize(vals.min()-1, vals.max()+1)\n",
    "\n",
    "fig = plt.figure(figsize=(15,8))\n",
    "\n",
    "ax = fig.add_subplot(221, frameon=True, xticks=[], yticks=[], title=\"Predict Correct and Final Predict Correct\")\n",
    "tab1=plt.table(cellText=vals, rowLabels=df.index, colLabels=df.columns, \n",
    "                    colWidths = [0.15]*vals.shape[1], loc='center', \n",
    "                    cellColours=plt.cm.hot(normal(vals)))\n",
    "\n",
    "idx = Index([1,2,3])\n",
    "df = DataFrame(np.concatenate((np.transpose(attn_2_n),np.transpose(attn_2_ext)),axis=1), index=idx, \n",
    "               columns=[1,2,3,4,5,6])\n",
    "vals = np.around(df.values,4)\n",
    "normal = plt.Normalize(vals.min()-1, vals.max()+1)\n",
    "\n",
    "ax = fig.add_subplot(222, frameon=True, xticks=[], yticks=[], title=\"Predict Not Correct and Final Predict Correct\")\n",
    "tab2=plt.table(cellText=vals, rowLabels=df.index, colLabels=df.columns, \n",
    "                    colWidths = [0.15]*vals.shape[1], loc='center', \n",
    "                    cellColours=plt.cm.hot(normal(vals)))\n",
    "\n",
    "idx = Index([1,2,3])\n",
    "df = DataFrame(np.concatenate((np.transpose(attn_3_n),np.transpose(attn_3_ext)),axis=1), index=idx, \n",
    "               columns=[1,2,3,4,5,6])\n",
    "vals = np.around(df.values,4)\n",
    "normal = plt.Normalize(vals.min()-1, vals.max()+1)\n",
    "\n",
    "ax = fig.add_subplot(223, frameon=True, xticks=[], yticks=[], title=\"Predict Correct and Final Predict Not Correct\")\n",
    "tab3=plt.table(cellText=vals, rowLabels=df.index, colLabels=df.columns, \n",
    "                    colWidths = [0.15]*vals.shape[1], loc='center', \n",
    "                    cellColours=plt.cm.hot(normal(vals)))\n",
    "\n",
    "idx = Index([1,2,3])\n",
    "df = DataFrame(np.concatenate((np.transpose(attn_4_n),np.transpose(attn_4_ext)),axis=1), index=idx, \n",
    "               columns=[1,2,3,4,5,6])\n",
    "vals = np.around(df.values,4)\n",
    "normal = plt.Normalize(vals.min()-1, vals.max()+1)\n",
    "\n",
    "ax = fig.add_subplot(224, frameon=True, xticks=[], yticks=[], title=\"Predict Not Correct and Final Predict Not Correct\")\n",
    "tab4=plt.table(cellText=vals, rowLabels=df.index, colLabels=df.columns, \n",
    "                    colWidths = [0.15]*vals.shape[1], loc='center', \n",
    "                    cellColours=plt.cm.hot(normal(vals)))"
   ]
  },
  {
   "cell_type": "code",
   "execution_count": 18,
   "metadata": {
    "collapsed": true
   },
   "outputs": [],
   "source": [
    "actdo = accuracy_test_data(inps_to, labels_to, attn=True, ponder=True)\n",
    "actde = accuracy_test_data(inps_te, labels_te, attn=True, ponder=True)\n",
    "actd = accuracy_test_data(inps_t, labels_t, attn=True, ponder=True)"
   ]
  },
  {
   "cell_type": "code",
   "execution_count": 53,
   "metadata": {},
   "outputs": [
    {
     "name": "stdout",
     "output_type": "stream",
     "text": [
      "Final Test Accuracy : 0.8319999784231186\n",
      "Final Test Accuracy (Case of Reject Language / K-Factor Present) : 0.7229999870061874\n",
      "Final Test Accuracy (Case of Accept Language / K-Factor not Present) : 0.9409999847412109\n",
      "### Analysis on Case of Reject Language ###\n",
      "Attend Correctly, Predict Correctly while Attend, Correct Final Prediction : 0.62225\n",
      "Attend Correctly, Predict Correctly while Attend, Wrong Final Prediction : 0.02375\n",
      "Attend Correctly, Predict Wrongly while Attend, Correct Final Prediction : 0.0115\n",
      "Attend Correctly, Predict Wrongly while Attend, Wrong Final Prediction : 0.15725\n",
      "Attend Wrongly, Predict Correctly while Attend, Correct Final Prediction : 0.08625\n",
      "Attend Wrongly, Predict Correctly while Attend, Wrong Final Prediction : 0.01175\n",
      "Attend Wrongly, Predict Wrongly while Attend, Correct Final Prediction : 0.003\n",
      "Attend Wrongly, Predict Wrongly while Attend, Wrong Final Prediction : 0.08425\n"
     ]
    }
   ],
   "source": [
    "print(\"Final Test Accuracy : {}\".format(str(actd)))\n",
    "print(\"Final Test Accuracy (Case of Reject Language / K-Factor Present) : {}\".format(str(actdo)))\n",
    "print(\"Final Test Accuracy (Case of Accept Language / K-Factor not Present) : {}\".format(str(actde)))\n",
    "print(\"### Analysis on Case of Reject Language ###\")\n",
    "print(\"Attend Correctly, Predict Correctly while Attend, Correct Final Prediction : {}\".format(str(float(ttt) / len(inps_to))))\n",
    "print(\"Attend Correctly, Predict Correctly while Attend, Wrong Final Prediction : {}\".format(str(float(ttf) / len(inps_to))))\n",
    "print(\"Attend Correctly, Predict Wrongly while Attend, Correct Final Prediction : {}\".format(str(float(tft) / len(inps_to))))\n",
    "print(\"Attend Correctly, Predict Wrongly while Attend, Wrong Final Prediction : {}\".format(str(float(tff) / len(inps_to))))\n",
    "print(\"Attend Wrongly, Predict Correctly while Attend, Correct Final Prediction : {}\".format(str(float(ftt) / len(inps_to))))\n",
    "print(\"Attend Wrongly, Predict Correctly while Attend, Wrong Final Prediction : {}\".format(str(float(ftf) / len(inps_to))))\n",
    "print(\"Attend Wrongly, Predict Wrongly while Attend, Correct Final Prediction : {}\".format(str(float(fft) / len(inps_to))))\n",
    "print(\"Attend Wrongly, Predict Wrongly while Attend, Wrong Final Prediction : {}\".format(str(float(fff) / len(inps_to))))"
   ]
  },
  {
   "cell_type": "code",
   "execution_count": 35,
   "metadata": {},
   "outputs": [
    {
     "name": "stdout",
     "output_type": "stream",
     "text": [
      "abe#bcc#ccf#cff#fff$bceccaaddaeecabbceee 1 1\n",
      "abf#acc#ccf#cdd#cff$dcddbdccdcaebcabebfe 0 0\n",
      "aaf#abf#ccf#cde#cff$beaabccacbbadefceecf 1 1\n",
      "abf#acc#aef#ccf#fff$bafffdecebfcffefebce 1 0\n",
      "aef#ccf#cdd#cff#fff$abafeedeebceebcaceab 1 1\n",
      "aaf#abe#acc#ccf#fff$adfbbbcaabaccfebeeed 0 0\n",
      "abe#acc#bcc#cdd#cde$caebdadceafddfedebbf 1 1\n",
      "aaf#acc#ccf#cde#cff$ffccfabcadeadcffecec 0 0\n",
      "aaf#acc#ccf#cff#fff$dbeadefdadceadaffcbe 0 1\n",
      "acc#ccf#cde#cef#cff$dfbcafdcedbfcbecdcde 0 0\n"
     ]
    }
   ],
   "source": [
    "# chose an example #\n",
    "start_index = 0\n",
    "batch_size = 10\n",
    "it = len(inps_t) / batch_size\n",
    "acc_tot = 0\n",
    "cls = None\n",
    "hidden = rnn.init_hidden(batch_size)\n",
    "inp, lab = generate_batch(start_index, len_example, batch_size, inps_t, labels_t)\n",
    "attn=True\n",
    "ponder=True\n",
    "rnn.zero_grad()\n",
    "\n",
    "if attn:\n",
    "    #grammar_contexts = torch.zeros(grammar_len, batch_size, n_hidden)\n",
    "    i = 0\n",
    "    output, ht, hidden, vis_attn = rnn(inp[:,:20], hidden, batch_size)\n",
    "#         for j in range(ht.size(1)):\n",
    "#             if j not in [3,7,11,15,19]:\n",
    "#                 grammar_contexts[i] = ht[:,j,:].transpose(0,1)\n",
    "#                 i += 1\n",
    "    grammar_contexts = ht\n",
    "    #print(grammar_contexts)\n",
    "    ht = rnn.init_prev_ht(batch_size, 1)\n",
    "    for c in range(len_example - 20):\n",
    "        #print(ht)\n",
    "        if ponder:\n",
    "            output, ht, hidden, vis_attn = rnn(inp[:,20+c].unsqueeze(1), hidden, batch_size, attn=True, \n",
    "                                 context=grammar_contexts, prev_ht=ht, ponder=True)\n",
    "        else:\n",
    "            output, ht, hidden, vis_attn = rnn(inp[:,20+c].unsqueeze(1), hidden, batch_size, attn=True, \n",
    "                                 context=grammar_contexts, prev_ht=ht, ponder=False)\n",
    "        #print(ht)\n",
    "    cls = output\n",
    "    cls = F.softmax(cls, dim=1)\n",
    "else:\n",
    "    output, ht, hidden = rnn(inp, hidden, batch_size)\n",
    "    cls = output[:,-1,:].contiguous()\n",
    "    cls = F.softmax(cls, dim=1)\n",
    "\n",
    "max_idx = cls.max(1)[1]\n",
    "for i in range(batch_size):\n",
    "    print(inps_t[start_index+i], max_idx.data[i], lab.squeeze().data[i])\n",
    "accuracy = (lab.squeeze() == max_idx).long().sum().float()"
   ]
  },
  {
   "cell_type": "code",
   "execution_count": 36,
   "metadata": {},
   "outputs": [
    {
     "name": "stdout",
     "output_type": "stream",
     "text": [
      "[1.0, 1.596362153577502e-08]\n"
     ]
    }
   ],
   "source": [
    "# picking examples #\n",
    "ts = \"abf#acc#ccf#cdd#cff$dcddbdccdcaebcabebfe\" # label = 0\n",
    "ex = convert_string(ts)\n",
    "batch_size = 1\n",
    "hidden = rnn.init_hidden(batch_size)\n",
    "attn_vals = []\n",
    "prediction_at_step = []\n",
    "if attn:\n",
    "    #grammar_contexts = torch.zeros(grammar_len, batch_size, n_hidden)\n",
    "    i = 0\n",
    "    output, ht, hidden, vis_attn = rnn(ex[:,:20], hidden, batch_size)\n",
    "#         for j in range(ht.size(1)):\n",
    "#             if j not in [3,7,11,15,19]:\n",
    "#                 grammar_contexts[i] = ht[:,j,:].transpose(0,1)\n",
    "#                 i += 1\n",
    "    grammar_contexts = ht\n",
    "    #print(grammar_contexts)\n",
    "    ht = rnn.init_prev_ht(batch_size, 1)\n",
    "    for c in range(len_example - 20):\n",
    "        attn_val = []\n",
    "        #print(ht)\n",
    "        if ponder:\n",
    "            output, ht, hidden, vis_attn = rnn(ex[:,20+c].unsqueeze(1), hidden, batch_size, attn=True, \n",
    "                                 context=grammar_contexts, prev_ht=ht, ponder=True)\n",
    "            for i, elem in enumerate(vis_attn[0].squeeze().data):\n",
    "                attn_val.append(elem)\n",
    "        else:\n",
    "            output, ht, hidden, vis_attn = rnn(ex[:,20+c].unsqueeze(1), hidden, batch_size, attn=True, \n",
    "                                 context=grammar_contexts, prev_ht=ht, ponder=False)\n",
    "            for i, elem in enumerate(vis_attn[0].squeeze().data):\n",
    "                attn_val.append(elem)\n",
    "        attn_vals.append(attn_val)\n",
    "        prediction_at_step.append(list(F.softmax(rnn.output(ht.squeeze(1)),dim=1).data[0]))\n",
    "    cls = output\n",
    "    cls = F.softmax(cls, dim=1)\n",
    "    print(list(cls.data[0]))\n",
    "else:\n",
    "    output, ht, hidden = rnn(inp, hidden, batch_size)\n",
    "    cls = output[:,-1,:].contiguous()\n",
    "    cls = F.softmax(cls, dim=1)"
   ]
  },
  {
   "cell_type": "code",
   "execution_count": 37,
   "metadata": {},
   "outputs": [
    {
     "data": {
      "image/png": "[encoded data removed]",
      "text/plain": [
       "<matplotlib.figure.Figure at 0x7f05bed4f3c8>"
      ]
     },
     "metadata": {},
     "output_type": "display_data"
    },
    {
     "data": {
      "image/png": "[encoded data removed]",
      "text/plain": [
       "<matplotlib.figure.Figure at 0x7f05c13d3780>"
      ]
     },
     "metadata": {},
     "output_type": "display_data"
    }
   ],
   "source": [
    "av = np.transpose(attn_vals)\n",
    "idx = Index(list(ts[:20]))\n",
    "df = DataFrame(av, index=idx, columns=list(ts[20:]))\n",
    "vals = np.around(df.values,4)\n",
    "normal = plt.Normalize(vals.min()-1, vals.max()+1)\n",
    "\n",
    "fig = plt.figure(figsize=(15,8))\n",
    "ax = fig.add_subplot(111, frameon=True, xticks=[], yticks=[])\n",
    "\n",
    "tab1=plt.table(cellText=vals, rowLabels=df.index, colLabels=df.columns, \n",
    "                    colWidths = [0.05]*vals.shape[1], loc='bottom', \n",
    "                    cellColours=plt.cm.hot(normal(vals)))\n",
    "\n",
    "idx = Index([\"0\", \"1\"])\n",
    "df = DataFrame(np.transpose(prediction_at_step), index=idx, columns=list(ts[20:]))\n",
    "vals = np.around(df.values,4)\n",
    "normal = plt.Normalize(vals.min(), vals.max())\n",
    "\n",
    "fig = plt.figure(figsize=(15,8))\n",
    "ax = fig.add_subplot(111, frameon=True, xticks=[], yticks=[])\n",
    "\n",
    "tab2=plt.table(cellText=vals, rowLabels=df.index, colLabels=df.columns, \n",
    "                    colWidths = [0.05]*vals.shape[1], loc='top', \n",
    "                    cellColours=plt.cm.hot(normal(vals)))"
   ]
  },
  {
   "cell_type": "markdown",
   "metadata": {
    "collapsed": true
   },
   "source": [
    "## Analysis and Diagnostic Classifier"
   ]
  },
  {
   "cell_type": "code",
   "execution_count": 28,
   "metadata": {
    "collapsed": true
   },
   "outputs": [],
   "source": [
    "from sklearn import metrics\n",
    "from scipy import stats\n",
    "import scipy as sp\n",
    "\n",
    "from sklearn.linear_model import LinearRegression\n",
    "from sklearn.linear_model import LogisticRegression\n",
    "from sklearn.linear_model import Ridge\n",
    "\n",
    "from scipy.stats import pearsonr\n",
    "\n",
    "import seaborn as sns"
   ]
  },
  {
   "cell_type": "code",
   "execution_count": 29,
   "metadata": {
    "collapsed": true
   },
   "outputs": [],
   "source": [
    "def hypothesis_k_factors(text):\n",
    "    return np.array([-1 if x == '#' or x == '$' else 1 for x in text])\n",
    "\n",
    "def hypothesis_detect_k_factors(text):\n",
    "    hyp = np.full(len(text), -1)\n",
    "    texts = text.split(\"$\")\n",
    "    kfs = texts[0].split(\"#\")\n",
    "    for kf in kfs:\n",
    "        if kf in texts[1]:\n",
    "            ind = [m.start() for m in re.finditer(kf, text)]\n",
    "            for el in ind:\n",
    "                hyp[el:el+3] = 1\n",
    "    return hyp\n",
    "\n",
    "def hypothesis_match_grammar(text):\n",
    "    hyp = np.full(len(text), -1)\n",
    "    texts = text.split(\"$\")\n",
    "    kfs = texts[0].split(\"#\")\n",
    "    for kf in kfs:\n",
    "        if kf in texts[1]:\n",
    "            ind = [m.start() for m in re.finditer(kf, text)]\n",
    "            for el in ind:\n",
    "                hyp[el:el+3] = 1\n",
    "            for i, j in zip(range(len(kf)), reversed(range(len(kf)))):\n",
    "                if j != 0:\n",
    "                    ind = [m.start() for m in re.finditer(kf[:-j], text)]\n",
    "                    print(ind, kf[:-j], i)\n",
    "                    for el in ind:\n",
    "                        hyp[el:el+i] = 1\n",
    "    return hyp"
   ]
  },
  {
   "cell_type": "code",
   "execution_count": 67,
   "metadata": {},
   "outputs": [
    {
     "name": "stdout",
     "output_type": "stream",
     "text": [
      "[8, 9, 12, 24, 28] c 0\n",
      "[12, 28] cd 1\n"
     ]
    },
    {
     "data": {
      "text/plain": [
       "array([-1, -1, -1, -1, -1, -1, -1, -1, -1, -1, -1, -1,  1,  1,  1, -1, -1,\n",
       "       -1, -1, -1, -1, -1, -1, -1, -1, -1, -1, -1,  1,  1,  1, -1, -1, -1,\n",
       "       -1, -1, -1, -1, -1, -1])"
      ]
     },
     "execution_count": 67,
     "metadata": {},
     "output_type": "execute_result"
    }
   ],
   "source": [
    "hypothesis_match_grammar(\"bbb#bdd#cce#cdd#ddf$fdddcbfacddabaadfdeb\")"
   ]
  },
  {
   "cell_type": "code",
   "execution_count": 30,
   "metadata": {
    "collapsed": true
   },
   "outputs": [],
   "source": [
    "def validate_hypothesis(model, diag_classifier, hypothesis, train_len=50,\n",
    "                        test_len=1, tt=None, save_hyp=None, save_diag=None, save_resp=None):\n",
    "    # Generate hypothesis data\n",
    "    def gen_hyp_data(model, N, hypothesis, start_index):\n",
    "        texts, hiddens, hiddens_2, hyps = [], [], [], []\n",
    "        inp, target = generate_random_batch(len_example, N, inps, labels)\n",
    "        for i in range(N):\n",
    "            hidden, cell = rnn.init_hidden(1)\n",
    "            hid = []\n",
    "            hid_2 = []\n",
    "            for j in range(len(inp[i])):\n",
    "                _, hidden, cell = rnn(inp[i][j], hidden, cell, 1)\n",
    "                hidden_temp = hidden.squeeze()\n",
    "                hid.append(np.array(hidden_temp.data[0]))\n",
    "                hid_2.append(np.array(hidden_temp.data[1]))\n",
    "            hyp = hypothesis(inps[i])\n",
    "            hiddens.append(hid)\n",
    "            hiddens_2.append(hid_2)\n",
    "            hyps.append(hyp)\n",
    "            texts.append(inps[i])\n",
    "        return ''.join(texts), np.concatenate(hyps), np.concatenate(hiddens), np.concatenate(hiddens_2)\n",
    "    \n",
    "    def gen_hyp_data_test(model, N, hypothesis, tt):\n",
    "        texts, hiddens, hiddens_2, hyps = [], [], [], []\n",
    "        tensor_tt = convert_string(tt)\n",
    "        for i in range(N):\n",
    "            hidden, cell = rnn.init_hidden(1)\n",
    "            hid = []\n",
    "            hid_2 = []\n",
    "            for j in range(len(tensor_tt[i])):\n",
    "                _, hidden, cell = rnn(tensor_tt[i][j], hidden, cell, 1)\n",
    "                hidden_temp = hidden.squeeze()\n",
    "                hid.append(np.array(hidden_temp.data[0]))\n",
    "                hid_2.append(np.array(hidden_temp.data[1]))\n",
    "            hyp = hypothesis(tt)\n",
    "            hiddens.append(hid)\n",
    "            hiddens_2.append(hid_2)\n",
    "            hyps.append(hyp)\n",
    "            texts.append(tt)\n",
    "        return ''.join(texts), np.concatenate(hyps), np.concatenate(hiddens), np.concatenate(hiddens_2)\n",
    "\n",
    "    # Generate train and test data\n",
    "    _, train_hyps, train_hiddens, train_hiddens_2 = gen_hyp_data(model, train_len, hypothesis, 0)\n",
    "    test_texts, test_hyps, test_hiddens, test_hiddens_2 = gen_hyp_data_test(model, test_len, hypothesis, tt)\n",
    "    #print(pearsonr(train_hiddens, train_hyps))\n",
    "    #print(pearsonr(test_hiddens, test_hyps))\n",
    "\n",
    "    # Train Diagnostic Classifier\n",
    "    diag_classifier.fit(train_hiddens, train_hyps)\n",
    "    \n",
    "    # Predict with Diagnostic Classifier\n",
    "    pred_hyps = diag_classifier.predict(test_hiddens)\n",
    "    \n",
    "    # Find responsible neuron\n",
    "    resp_neuron = np.argmax(np.abs(diag_classifier.coef_))\n",
    "    print(resp_neuron)\n",
    "    \n",
    "    # Plot results\n",
    "    if save_hyp:\n",
    "        plot_colored_text(test_texts[:len_example], test_hyps[:len_example],\n",
    "                          title='Formed Hypothesis',\n",
    "                          save_file=save_hyp)\n",
    "    if save_diag:\n",
    "        plot_colored_text(test_texts[:len_example], pred_hyps[:len_example],\n",
    "                          title='Diagnostic Classifier Prediction',\n",
    "                          save_file=save_diag)\n",
    "    if save_resp:\n",
    "        plot_colored_text(test_texts[:len_example], test_hiddens[:len_example, resp_neuron],\n",
    "                          title='Most Responsible Neuron {}'.format(resp_neuron),\n",
    "                          save_file=save_resp)\n",
    "        \n",
    "    del(train_hyps)\n",
    "    del(train_hiddens)\n",
    "    del(test_texts)\n",
    "    del(test_hiddens)\n",
    "    gc.collect()\n",
    "    \n",
    "    return test_hyps, pred_hyps"
   ]
  },
  {
   "cell_type": "code",
   "execution_count": 31,
   "metadata": {
    "collapsed": true
   },
   "outputs": [],
   "source": [
    "### PLOTTING HELPERS ###\n",
    "def wrap_colored_text(text, colors, W, tabsize=4):\n",
    "    ''' Wrap text with hidden units to certain width '''\n",
    "    new_text, new_colors = [], []\n",
    "\n",
    "    # Wrap lines to width\n",
    "    for char, color in zip(text, colors):\n",
    "        if char == '\\t':\n",
    "            for i in range(tabsize):\n",
    "                new_text.append(' ')\n",
    "                new_colors.append(color)\n",
    "        else:\n",
    "            new_text.append(char)\n",
    "            new_colors.append(color)\n",
    "            if char == '\\n':\n",
    "                for i in range(W - len(new_text) % W):\n",
    "                    new_text.append(' ')\n",
    "                    new_colors.append(np.zeros_like(colors[0]))\n",
    "\n",
    "    # Add final space to obtain (rectangular) matrix\n",
    "    for i in range(W - len(new_text) % W):\n",
    "        new_text.append(' ')\n",
    "        new_colors.append(np.zeros_like(colors[0]))\n",
    "\n",
    "    return np.array(new_text).reshape(-1, W), np.array(new_colors).reshape(-1, W)\n",
    "\n",
    "def plot_colored_text(text, colors, W=80, title=None, save_file=None):\n",
    "    wrapped_text, wrapped_colors = wrap_colored_text(text, colors, W, tabsize=4)\n",
    "\n",
    "    H = len(wrapped_text)\n",
    "    plt.figure(figsize=(W/5, H/3))\n",
    "\n",
    "    color_palette = sns.color_palette(\"RdBu_r\", 255, desat=.9)\n",
    "    color_palette[127] = (1.,1.,1.) # set zero to white color\n",
    "    sns.heatmap(wrapped_colors, annot=wrapped_text,\n",
    "                annot_kws={'color':'black',\n",
    "                           'family':'monospace',\n",
    "                           'horizontalalignment':'center',\n",
    "                           'fontweight':'light'},\n",
    "                fmt='s', cbar=False, vmin=-2, vmax=2)\n",
    "    plt.xticks([])\n",
    "    plt.yticks([])\n",
    "    plt.title(title)\n",
    "    if save_file:\n",
    "        plt.savefig(save_file)\n",
    "    plt.show()"
   ]
  },
  {
   "cell_type": "code",
   "execution_count": 32,
   "metadata": {},
   "outputs": [
    {
     "ename": "ValueError",
     "evalue": "not enough values to unpack (expected 2, got 0)",
     "output_type": "error",
     "traceback": [
      "\u001b[0;31m---------------------------------------------------------------------------\u001b[0m",
      "\u001b[0;31mValueError\u001b[0m                                Traceback (most recent call last)",
      "\u001b[0;32m<ipython-input-32-6bf9f36f196a>\u001b[0m in \u001b[0;36m<module>\u001b[0;34m()\u001b[0m\n\u001b[1;32m      5\u001b[0m                                          \u001b[0msave_hyp\u001b[0m\u001b[0;34m=\u001b[0m\u001b[0;34m'plots/{}_hyp_{}.png'\u001b[0m\u001b[0;34m.\u001b[0m\u001b[0mformat\u001b[0m\u001b[0;34m(\u001b[0m\u001b[0mmodel_name\u001b[0m\u001b[0;34m,\u001b[0m \u001b[0mhyp_name\u001b[0m\u001b[0;34m)\u001b[0m\u001b[0;34m,\u001b[0m\u001b[0;34m\u001b[0m\u001b[0m\n\u001b[1;32m      6\u001b[0m                                          \u001b[0msave_diag\u001b[0m\u001b[0;34m=\u001b[0m\u001b[0;34m'plots/{}_diag_{}.png'\u001b[0m\u001b[0;34m.\u001b[0m\u001b[0mformat\u001b[0m\u001b[0;34m(\u001b[0m\u001b[0mmodel_name\u001b[0m\u001b[0;34m,\u001b[0m \u001b[0mhyp_name\u001b[0m\u001b[0;34m)\u001b[0m\u001b[0;34m,\u001b[0m\u001b[0;34m\u001b[0m\u001b[0m\n\u001b[0;32m----> 7\u001b[0;31m                                          save_resp='plots/{}_resp_{}.png'.format(model_name, hyp_name))\n\u001b[0m",
      "\u001b[0;32m<ipython-input-30-ee0efbfc39f1>\u001b[0m in \u001b[0;36mvalidate_hypothesis\u001b[0;34m(model, diag_classifier, hypothesis, train_len, test_len, tt, save_hyp, save_diag, save_resp)\u001b[0m\n\u001b[1;32m     41\u001b[0m \u001b[0;34m\u001b[0m\u001b[0m\n\u001b[1;32m     42\u001b[0m     \u001b[0;31m# Generate train and test data\u001b[0m\u001b[0;34m\u001b[0m\u001b[0;34m\u001b[0m\u001b[0m\n\u001b[0;32m---> 43\u001b[0;31m     \u001b[0m_\u001b[0m\u001b[0;34m,\u001b[0m \u001b[0mtrain_hyps\u001b[0m\u001b[0;34m,\u001b[0m \u001b[0mtrain_hiddens\u001b[0m\u001b[0;34m,\u001b[0m \u001b[0mtrain_hiddens_2\u001b[0m \u001b[0;34m=\u001b[0m \u001b[0mgen_hyp_data\u001b[0m\u001b[0;34m(\u001b[0m\u001b[0mmodel\u001b[0m\u001b[0;34m,\u001b[0m \u001b[0mtrain_len\u001b[0m\u001b[0;34m,\u001b[0m \u001b[0mhypothesis\u001b[0m\u001b[0;34m,\u001b[0m \u001b[0;36m0\u001b[0m\u001b[0;34m)\u001b[0m\u001b[0;34m\u001b[0m\u001b[0m\n\u001b[0m\u001b[1;32m     44\u001b[0m     \u001b[0mtest_texts\u001b[0m\u001b[0;34m,\u001b[0m \u001b[0mtest_hyps\u001b[0m\u001b[0;34m,\u001b[0m \u001b[0mtest_hiddens\u001b[0m\u001b[0;34m,\u001b[0m \u001b[0mtest_hiddens_2\u001b[0m \u001b[0;34m=\u001b[0m \u001b[0mgen_hyp_data_test\u001b[0m\u001b[0;34m(\u001b[0m\u001b[0mmodel\u001b[0m\u001b[0;34m,\u001b[0m \u001b[0mtest_len\u001b[0m\u001b[0;34m,\u001b[0m \u001b[0mhypothesis\u001b[0m\u001b[0;34m,\u001b[0m \u001b[0mtt\u001b[0m\u001b[0;34m)\u001b[0m\u001b[0;34m\u001b[0m\u001b[0m\n\u001b[1;32m     45\u001b[0m     \u001b[0;31m#print(pearsonr(train_hiddens, train_hyps))\u001b[0m\u001b[0;34m\u001b[0m\u001b[0;34m\u001b[0m\u001b[0m\n",
      "\u001b[0;32m<ipython-input-30-ee0efbfc39f1>\u001b[0m in \u001b[0;36mgen_hyp_data\u001b[0;34m(model, N, hypothesis, start_index)\u001b[0m\n\u001b[1;32m     10\u001b[0m             \u001b[0mhid_2\u001b[0m \u001b[0;34m=\u001b[0m \u001b[0;34m[\u001b[0m\u001b[0;34m]\u001b[0m\u001b[0;34m\u001b[0m\u001b[0m\n\u001b[1;32m     11\u001b[0m             \u001b[0;32mfor\u001b[0m \u001b[0mj\u001b[0m \u001b[0;32min\u001b[0m \u001b[0mrange\u001b[0m\u001b[0;34m(\u001b[0m\u001b[0mlen\u001b[0m\u001b[0;34m(\u001b[0m\u001b[0minp\u001b[0m\u001b[0;34m[\u001b[0m\u001b[0mi\u001b[0m\u001b[0;34m]\u001b[0m\u001b[0;34m)\u001b[0m\u001b[0;34m)\u001b[0m\u001b[0;34m:\u001b[0m\u001b[0;34m\u001b[0m\u001b[0m\n\u001b[0;32m---> 12\u001b[0;31m                 \u001b[0m_\u001b[0m\u001b[0;34m,\u001b[0m \u001b[0mhidden\u001b[0m\u001b[0;34m,\u001b[0m \u001b[0mcell\u001b[0m \u001b[0;34m=\u001b[0m \u001b[0mrnn\u001b[0m\u001b[0;34m(\u001b[0m\u001b[0minp\u001b[0m\u001b[0;34m[\u001b[0m\u001b[0mi\u001b[0m\u001b[0;34m]\u001b[0m\u001b[0;34m[\u001b[0m\u001b[0mj\u001b[0m\u001b[0;34m]\u001b[0m\u001b[0;34m,\u001b[0m \u001b[0mhidden\u001b[0m\u001b[0;34m,\u001b[0m \u001b[0mcell\u001b[0m\u001b[0;34m,\u001b[0m \u001b[0;36m1\u001b[0m\u001b[0;34m)\u001b[0m\u001b[0;34m\u001b[0m\u001b[0m\n\u001b[0m\u001b[1;32m     13\u001b[0m                 \u001b[0mhidden_temp\u001b[0m \u001b[0;34m=\u001b[0m \u001b[0mhidden\u001b[0m\u001b[0;34m.\u001b[0m\u001b[0msqueeze\u001b[0m\u001b[0;34m(\u001b[0m\u001b[0;34m)\u001b[0m\u001b[0;34m\u001b[0m\u001b[0m\n\u001b[1;32m     14\u001b[0m                 \u001b[0mhid\u001b[0m\u001b[0;34m.\u001b[0m\u001b[0mappend\u001b[0m\u001b[0;34m(\u001b[0m\u001b[0mnp\u001b[0m\u001b[0;34m.\u001b[0m\u001b[0marray\u001b[0m\u001b[0;34m(\u001b[0m\u001b[0mhidden_temp\u001b[0m\u001b[0;34m.\u001b[0m\u001b[0mdata\u001b[0m\u001b[0;34m[\u001b[0m\u001b[0;36m0\u001b[0m\u001b[0;34m]\u001b[0m\u001b[0;34m)\u001b[0m\u001b[0;34m)\u001b[0m\u001b[0;34m\u001b[0m\u001b[0m\n",
      "\u001b[0;32m/home/rezka/anaconda3/lib/python3.6/site-packages/torch/nn/modules/module.py\u001b[0m in \u001b[0;36m__call__\u001b[0;34m(self, *input, **kwargs)\u001b[0m\n\u001b[1;32m    323\u001b[0m         \u001b[0;32mfor\u001b[0m \u001b[0mhook\u001b[0m \u001b[0;32min\u001b[0m \u001b[0mself\u001b[0m\u001b[0;34m.\u001b[0m\u001b[0m_forward_pre_hooks\u001b[0m\u001b[0;34m.\u001b[0m\u001b[0mvalues\u001b[0m\u001b[0;34m(\u001b[0m\u001b[0;34m)\u001b[0m\u001b[0;34m:\u001b[0m\u001b[0;34m\u001b[0m\u001b[0m\n\u001b[1;32m    324\u001b[0m             \u001b[0mhook\u001b[0m\u001b[0;34m(\u001b[0m\u001b[0mself\u001b[0m\u001b[0;34m,\u001b[0m \u001b[0minput\u001b[0m\u001b[0;34m)\u001b[0m\u001b[0;34m\u001b[0m\u001b[0m\n\u001b[0;32m--> 325\u001b[0;31m         \u001b[0mresult\u001b[0m \u001b[0;34m=\u001b[0m \u001b[0mself\u001b[0m\u001b[0;34m.\u001b[0m\u001b[0mforward\u001b[0m\u001b[0;34m(\u001b[0m\u001b[0;34m*\u001b[0m\u001b[0minput\u001b[0m\u001b[0;34m,\u001b[0m \u001b[0;34m**\u001b[0m\u001b[0mkwargs\u001b[0m\u001b[0;34m)\u001b[0m\u001b[0;34m\u001b[0m\u001b[0m\n\u001b[0m\u001b[1;32m    326\u001b[0m         \u001b[0;32mfor\u001b[0m \u001b[0mhook\u001b[0m \u001b[0;32min\u001b[0m \u001b[0mself\u001b[0m\u001b[0;34m.\u001b[0m\u001b[0m_forward_hooks\u001b[0m\u001b[0;34m.\u001b[0m\u001b[0mvalues\u001b[0m\u001b[0;34m(\u001b[0m\u001b[0;34m)\u001b[0m\u001b[0;34m:\u001b[0m\u001b[0;34m\u001b[0m\u001b[0m\n\u001b[1;32m    327\u001b[0m             \u001b[0mhook_result\u001b[0m \u001b[0;34m=\u001b[0m \u001b[0mhook\u001b[0m\u001b[0;34m(\u001b[0m\u001b[0mself\u001b[0m\u001b[0;34m,\u001b[0m \u001b[0minput\u001b[0m\u001b[0;34m,\u001b[0m \u001b[0mresult\u001b[0m\u001b[0;34m)\u001b[0m\u001b[0;34m\u001b[0m\u001b[0m\n",
      "\u001b[0;32m<ipython-input-9-e13396923977>\u001b[0m in \u001b[0;36mforward\u001b[0;34m(self, input, hidden, batch_size, attn, context, combine, prev_ht)\u001b[0m\n\u001b[1;32m     29\u001b[0m             \u001b[0;32mif\u001b[0m \u001b[0mcombine\u001b[0m\u001b[0;34m:\u001b[0m\u001b[0;34m\u001b[0m\u001b[0m\n\u001b[1;32m     30\u001b[0m                 \u001b[0membedded\u001b[0m \u001b[0;34m=\u001b[0m \u001b[0mtorch\u001b[0m\u001b[0;34m.\u001b[0m\u001b[0mcat\u001b[0m\u001b[0;34m(\u001b[0m\u001b[0;34m(\u001b[0m\u001b[0membedded\u001b[0m\u001b[0;34m,\u001b[0m \u001b[0mprev_ht\u001b[0m\u001b[0;34m)\u001b[0m\u001b[0;34m,\u001b[0m \u001b[0mdim\u001b[0m\u001b[0;34m=\u001b[0m\u001b[0;36m2\u001b[0m\u001b[0;34m)\u001b[0m\u001b[0;34m\u001b[0m\u001b[0m\n\u001b[0;32m---> 31\u001b[0;31m             \u001b[0mht\u001b[0m\u001b[0;34m,\u001b[0m \u001b[0mhidden\u001b[0m \u001b[0;34m=\u001b[0m \u001b[0mself\u001b[0m\u001b[0;34m.\u001b[0m\u001b[0mlstm\u001b[0m\u001b[0;34m(\u001b[0m\u001b[0membedded\u001b[0m\u001b[0;34m,\u001b[0m \u001b[0mhidden\u001b[0m\u001b[0;34m)\u001b[0m \u001b[0;31m# [batch_size, 1, hidden_size]\u001b[0m\u001b[0;34m\u001b[0m\u001b[0m\n\u001b[0m\u001b[1;32m     32\u001b[0m             \u001b[0;31m#print(ht)\u001b[0m\u001b[0;34m\u001b[0m\u001b[0;34m\u001b[0m\u001b[0m\n\u001b[1;32m     33\u001b[0m             \u001b[0;31m# (batch, out_len, dim) * (batch, in_len, dim) -> (batch, out_len, in_len)\u001b[0m\u001b[0;34m\u001b[0m\u001b[0;34m\u001b[0m\u001b[0m\n",
      "\u001b[0;32m/home/rezka/anaconda3/lib/python3.6/site-packages/torch/nn/modules/module.py\u001b[0m in \u001b[0;36m__call__\u001b[0;34m(self, *input, **kwargs)\u001b[0m\n\u001b[1;32m    323\u001b[0m         \u001b[0;32mfor\u001b[0m \u001b[0mhook\u001b[0m \u001b[0;32min\u001b[0m \u001b[0mself\u001b[0m\u001b[0;34m.\u001b[0m\u001b[0m_forward_pre_hooks\u001b[0m\u001b[0;34m.\u001b[0m\u001b[0mvalues\u001b[0m\u001b[0;34m(\u001b[0m\u001b[0;34m)\u001b[0m\u001b[0;34m:\u001b[0m\u001b[0;34m\u001b[0m\u001b[0m\n\u001b[1;32m    324\u001b[0m             \u001b[0mhook\u001b[0m\u001b[0;34m(\u001b[0m\u001b[0mself\u001b[0m\u001b[0;34m,\u001b[0m \u001b[0minput\u001b[0m\u001b[0;34m)\u001b[0m\u001b[0;34m\u001b[0m\u001b[0m\n\u001b[0;32m--> 325\u001b[0;31m         \u001b[0mresult\u001b[0m \u001b[0;34m=\u001b[0m \u001b[0mself\u001b[0m\u001b[0;34m.\u001b[0m\u001b[0mforward\u001b[0m\u001b[0;34m(\u001b[0m\u001b[0;34m*\u001b[0m\u001b[0minput\u001b[0m\u001b[0;34m,\u001b[0m \u001b[0;34m**\u001b[0m\u001b[0mkwargs\u001b[0m\u001b[0;34m)\u001b[0m\u001b[0;34m\u001b[0m\u001b[0m\n\u001b[0m\u001b[1;32m    326\u001b[0m         \u001b[0;32mfor\u001b[0m \u001b[0mhook\u001b[0m \u001b[0;32min\u001b[0m \u001b[0mself\u001b[0m\u001b[0;34m.\u001b[0m\u001b[0m_forward_hooks\u001b[0m\u001b[0;34m.\u001b[0m\u001b[0mvalues\u001b[0m\u001b[0;34m(\u001b[0m\u001b[0;34m)\u001b[0m\u001b[0;34m:\u001b[0m\u001b[0;34m\u001b[0m\u001b[0m\n\u001b[1;32m    327\u001b[0m             \u001b[0mhook_result\u001b[0m \u001b[0;34m=\u001b[0m \u001b[0mhook\u001b[0m\u001b[0;34m(\u001b[0m\u001b[0mself\u001b[0m\u001b[0;34m,\u001b[0m \u001b[0minput\u001b[0m\u001b[0;34m,\u001b[0m \u001b[0mresult\u001b[0m\u001b[0;34m)\u001b[0m\u001b[0;34m\u001b[0m\u001b[0m\n",
      "\u001b[0;32m/home/rezka/anaconda3/lib/python3.6/site-packages/torch/nn/modules/rnn.py\u001b[0m in \u001b[0;36mforward\u001b[0;34m(self, input, hx)\u001b[0m\n\u001b[1;32m    167\u001b[0m             \u001b[0mflat_weight\u001b[0m\u001b[0;34m=\u001b[0m\u001b[0mflat_weight\u001b[0m\u001b[0;34m\u001b[0m\u001b[0m\n\u001b[1;32m    168\u001b[0m         )\n\u001b[0;32m--> 169\u001b[0;31m         \u001b[0moutput\u001b[0m\u001b[0;34m,\u001b[0m \u001b[0mhidden\u001b[0m \u001b[0;34m=\u001b[0m \u001b[0mfunc\u001b[0m\u001b[0;34m(\u001b[0m\u001b[0minput\u001b[0m\u001b[0;34m,\u001b[0m \u001b[0mself\u001b[0m\u001b[0;34m.\u001b[0m\u001b[0mall_weights\u001b[0m\u001b[0;34m,\u001b[0m \u001b[0mhx\u001b[0m\u001b[0;34m)\u001b[0m\u001b[0;34m\u001b[0m\u001b[0m\n\u001b[0m\u001b[1;32m    170\u001b[0m         \u001b[0;32mif\u001b[0m \u001b[0mis_packed\u001b[0m\u001b[0;34m:\u001b[0m\u001b[0;34m\u001b[0m\u001b[0m\n\u001b[1;32m    171\u001b[0m             \u001b[0moutput\u001b[0m \u001b[0;34m=\u001b[0m \u001b[0mPackedSequence\u001b[0m\u001b[0;34m(\u001b[0m\u001b[0moutput\u001b[0m\u001b[0;34m,\u001b[0m \u001b[0mbatch_sizes\u001b[0m\u001b[0;34m)\u001b[0m\u001b[0;34m\u001b[0m\u001b[0m\n",
      "\u001b[0;32m/home/rezka/anaconda3/lib/python3.6/site-packages/torch/nn/_functions/rnn.py\u001b[0m in \u001b[0;36mforward\u001b[0;34m(input, *fargs, **fkwargs)\u001b[0m\n\u001b[1;32m    383\u001b[0m             \u001b[0;32mreturn\u001b[0m \u001b[0mhack_onnx_rnn\u001b[0m\u001b[0;34m(\u001b[0m\u001b[0;34m(\u001b[0m\u001b[0minput\u001b[0m\u001b[0;34m,\u001b[0m\u001b[0;34m)\u001b[0m \u001b[0;34m+\u001b[0m \u001b[0mfargs\u001b[0m\u001b[0;34m,\u001b[0m \u001b[0moutput\u001b[0m\u001b[0;34m,\u001b[0m \u001b[0margs\u001b[0m\u001b[0;34m,\u001b[0m \u001b[0mkwargs\u001b[0m\u001b[0;34m)\u001b[0m\u001b[0;34m\u001b[0m\u001b[0m\n\u001b[1;32m    384\u001b[0m         \u001b[0;32melse\u001b[0m\u001b[0;34m:\u001b[0m\u001b[0;34m\u001b[0m\u001b[0m\n\u001b[0;32m--> 385\u001b[0;31m             \u001b[0;32mreturn\u001b[0m \u001b[0mfunc\u001b[0m\u001b[0;34m(\u001b[0m\u001b[0minput\u001b[0m\u001b[0;34m,\u001b[0m \u001b[0;34m*\u001b[0m\u001b[0mfargs\u001b[0m\u001b[0;34m,\u001b[0m \u001b[0;34m**\u001b[0m\u001b[0mfkwargs\u001b[0m\u001b[0;34m)\u001b[0m\u001b[0;34m\u001b[0m\u001b[0m\n\u001b[0m\u001b[1;32m    386\u001b[0m \u001b[0;34m\u001b[0m\u001b[0m\n\u001b[1;32m    387\u001b[0m     \u001b[0;32mreturn\u001b[0m \u001b[0mforward\u001b[0m\u001b[0;34m\u001b[0m\u001b[0m\n",
      "\u001b[0;32m/home/rezka/anaconda3/lib/python3.6/site-packages/torch/autograd/function.py\u001b[0m in \u001b[0;36m_do_forward\u001b[0;34m(self, *input)\u001b[0m\n\u001b[1;32m    326\u001b[0m         \u001b[0mself\u001b[0m\u001b[0;34m.\u001b[0m\u001b[0m_nested_input\u001b[0m \u001b[0;34m=\u001b[0m \u001b[0minput\u001b[0m\u001b[0;34m\u001b[0m\u001b[0m\n\u001b[1;32m    327\u001b[0m         \u001b[0mflat_input\u001b[0m \u001b[0;34m=\u001b[0m \u001b[0mtuple\u001b[0m\u001b[0;34m(\u001b[0m\u001b[0m_iter_variables\u001b[0m\u001b[0;34m(\u001b[0m\u001b[0minput\u001b[0m\u001b[0;34m)\u001b[0m\u001b[0;34m)\u001b[0m\u001b[0;34m\u001b[0m\u001b[0m\n\u001b[0;32m--> 328\u001b[0;31m         \u001b[0mflat_output\u001b[0m \u001b[0;34m=\u001b[0m \u001b[0msuper\u001b[0m\u001b[0;34m(\u001b[0m\u001b[0mNestedIOFunction\u001b[0m\u001b[0;34m,\u001b[0m \u001b[0mself\u001b[0m\u001b[0;34m)\u001b[0m\u001b[0;34m.\u001b[0m\u001b[0m_do_forward\u001b[0m\u001b[0;34m(\u001b[0m\u001b[0;34m*\u001b[0m\u001b[0mflat_input\u001b[0m\u001b[0;34m)\u001b[0m\u001b[0;34m\u001b[0m\u001b[0m\n\u001b[0m\u001b[1;32m    329\u001b[0m         \u001b[0mnested_output\u001b[0m \u001b[0;34m=\u001b[0m \u001b[0mself\u001b[0m\u001b[0;34m.\u001b[0m\u001b[0m_nested_output\u001b[0m\u001b[0;34m\u001b[0m\u001b[0m\n\u001b[1;32m    330\u001b[0m         \u001b[0mnested_variables\u001b[0m \u001b[0;34m=\u001b[0m \u001b[0m_unflatten\u001b[0m\u001b[0;34m(\u001b[0m\u001b[0mflat_output\u001b[0m\u001b[0;34m,\u001b[0m \u001b[0mself\u001b[0m\u001b[0;34m.\u001b[0m\u001b[0m_nested_output\u001b[0m\u001b[0;34m)\u001b[0m\u001b[0;34m\u001b[0m\u001b[0m\n",
      "\u001b[0;32m/home/rezka/anaconda3/lib/python3.6/site-packages/torch/autograd/function.py\u001b[0m in \u001b[0;36mforward\u001b[0;34m(self, *args)\u001b[0m\n\u001b[1;32m    348\u001b[0m     \u001b[0;32mdef\u001b[0m \u001b[0mforward\u001b[0m\u001b[0;34m(\u001b[0m\u001b[0mself\u001b[0m\u001b[0;34m,\u001b[0m \u001b[0;34m*\u001b[0m\u001b[0margs\u001b[0m\u001b[0;34m)\u001b[0m\u001b[0;34m:\u001b[0m\u001b[0;34m\u001b[0m\u001b[0m\n\u001b[1;32m    349\u001b[0m         \u001b[0mnested_tensors\u001b[0m \u001b[0;34m=\u001b[0m \u001b[0m_map_variable_tensor\u001b[0m\u001b[0;34m(\u001b[0m\u001b[0mself\u001b[0m\u001b[0;34m.\u001b[0m\u001b[0m_nested_input\u001b[0m\u001b[0;34m)\u001b[0m\u001b[0;34m\u001b[0m\u001b[0m\n\u001b[0;32m--> 350\u001b[0;31m         \u001b[0mresult\u001b[0m \u001b[0;34m=\u001b[0m \u001b[0mself\u001b[0m\u001b[0;34m.\u001b[0m\u001b[0mforward_extended\u001b[0m\u001b[0;34m(\u001b[0m\u001b[0;34m*\u001b[0m\u001b[0mnested_tensors\u001b[0m\u001b[0;34m)\u001b[0m\u001b[0;34m\u001b[0m\u001b[0m\n\u001b[0m\u001b[1;32m    351\u001b[0m         \u001b[0;32mdel\u001b[0m \u001b[0mself\u001b[0m\u001b[0;34m.\u001b[0m\u001b[0m_nested_input\u001b[0m\u001b[0;34m\u001b[0m\u001b[0m\n\u001b[1;32m    352\u001b[0m         \u001b[0mself\u001b[0m\u001b[0;34m.\u001b[0m\u001b[0m_nested_output\u001b[0m \u001b[0;34m=\u001b[0m \u001b[0mresult\u001b[0m\u001b[0;34m\u001b[0m\u001b[0m\n",
      "\u001b[0;32m/home/rezka/anaconda3/lib/python3.6/site-packages/torch/nn/_functions/rnn.py\u001b[0m in \u001b[0;36mforward_extended\u001b[0;34m(self, input, weight, hx)\u001b[0m\n\u001b[1;32m    292\u001b[0m             \u001b[0mhy\u001b[0m \u001b[0;34m=\u001b[0m \u001b[0mtuple\u001b[0m\u001b[0;34m(\u001b[0m\u001b[0mh\u001b[0m\u001b[0;34m.\u001b[0m\u001b[0mnew\u001b[0m\u001b[0;34m(\u001b[0m\u001b[0;34m)\u001b[0m \u001b[0;32mfor\u001b[0m \u001b[0mh\u001b[0m \u001b[0;32min\u001b[0m \u001b[0mhx\u001b[0m\u001b[0;34m)\u001b[0m\u001b[0;34m\u001b[0m\u001b[0m\n\u001b[1;32m    293\u001b[0m \u001b[0;34m\u001b[0m\u001b[0m\n\u001b[0;32m--> 294\u001b[0;31m         \u001b[0mcudnn\u001b[0m\u001b[0;34m.\u001b[0m\u001b[0mrnn\u001b[0m\u001b[0;34m.\u001b[0m\u001b[0mforward\u001b[0m\u001b[0;34m(\u001b[0m\u001b[0mself\u001b[0m\u001b[0;34m,\u001b[0m \u001b[0minput\u001b[0m\u001b[0;34m,\u001b[0m \u001b[0mhx\u001b[0m\u001b[0;34m,\u001b[0m \u001b[0mweight\u001b[0m\u001b[0;34m,\u001b[0m \u001b[0moutput\u001b[0m\u001b[0;34m,\u001b[0m \u001b[0mhy\u001b[0m\u001b[0;34m)\u001b[0m\u001b[0;34m\u001b[0m\u001b[0m\n\u001b[0m\u001b[1;32m    295\u001b[0m \u001b[0;34m\u001b[0m\u001b[0m\n\u001b[1;32m    296\u001b[0m         \u001b[0mself\u001b[0m\u001b[0;34m.\u001b[0m\u001b[0msave_for_backward\u001b[0m\u001b[0;34m(\u001b[0m\u001b[0minput\u001b[0m\u001b[0;34m,\u001b[0m \u001b[0mhx\u001b[0m\u001b[0;34m,\u001b[0m \u001b[0mweight\u001b[0m\u001b[0;34m,\u001b[0m \u001b[0moutput\u001b[0m\u001b[0;34m)\u001b[0m\u001b[0;34m\u001b[0m\u001b[0m\n",
      "\u001b[0;32m/home/rezka/anaconda3/lib/python3.6/site-packages/torch/backends/cudnn/rnn.py\u001b[0m in \u001b[0;36mforward\u001b[0;34m(fn, input, hx, weight, output, hy)\u001b[0m\n\u001b[1;32m    197\u001b[0m         \u001b[0;32mif\u001b[0m \u001b[0mfn\u001b[0m\u001b[0;34m.\u001b[0m\u001b[0mmode\u001b[0m \u001b[0;34m==\u001b[0m \u001b[0mcudnn\u001b[0m\u001b[0;34m.\u001b[0m\u001b[0mCUDNN_LSTM\u001b[0m\u001b[0;34m:\u001b[0m\u001b[0;34m\u001b[0m\u001b[0m\n\u001b[1;32m    198\u001b[0m             \u001b[0mhx\u001b[0m\u001b[0;34m,\u001b[0m \u001b[0mcx\u001b[0m \u001b[0;34m=\u001b[0m \u001b[0mhx\u001b[0m\u001b[0;34m\u001b[0m\u001b[0m\n\u001b[0;32m--> 199\u001b[0;31m             \u001b[0mhy\u001b[0m\u001b[0;34m,\u001b[0m \u001b[0mcy\u001b[0m \u001b[0;34m=\u001b[0m \u001b[0mhy\u001b[0m\u001b[0;34m\u001b[0m\u001b[0m\n\u001b[0m\u001b[1;32m    200\u001b[0m         \u001b[0;32melse\u001b[0m\u001b[0;34m:\u001b[0m\u001b[0;34m\u001b[0m\u001b[0m\n\u001b[1;32m    201\u001b[0m             \u001b[0mcx\u001b[0m\u001b[0;34m,\u001b[0m \u001b[0mcy\u001b[0m \u001b[0;34m=\u001b[0m \u001b[0;32mNone\u001b[0m\u001b[0;34m,\u001b[0m \u001b[0;32mNone\u001b[0m\u001b[0;34m\u001b[0m\u001b[0m\n",
      "\u001b[0;31mValueError\u001b[0m: not enough values to unpack (expected 2, got 0)"
     ]
    }
   ],
   "source": [
    "model_name = \"lstm_2000example_20000c_attn\"\n",
    "hyp_name = \"detect_k_factors\"\n",
    "y_true, y_pred = validate_hypothesis(rnn, LogisticRegression(), hypothesis_detect_k_factors,\n",
    "                                         train_len=1000, test_len=1, tt=\"bbb#bdd#cce#cdd#ddf$fdddcbfacddabaadfdeb\",\n",
    "                                         save_hyp='plots/{}_hyp_{}.png'.format(model_name, hyp_name),\n",
    "                                         save_diag='plots/{}_diag_{}.png'.format(model_name, hyp_name),\n",
    "                                         save_resp='plots/{}_resp_{}.png'.format(model_name, hyp_name))"
   ]
  },
  {
   "cell_type": "code",
   "execution_count": 114,
   "metadata": {},
   "outputs": [
    {
     "data": {
      "image/png": "[encoded data removed]",
      "text/plain": [
       "<matplotlib.figure.Figure at 0x7f04e66a27f0>"
      ]
     },
     "metadata": {},
     "output_type": "display_data"
    }
   ],
   "source": [
    "acc_test = [0.98, 0.96, 0.69, 0.59, 0.58, 0.59, 0.57]\n",
    "experiment = [5, 10, 20, 50, 500, 1000, 2000]\n",
    "x = np.arange(len(acc_test))\n",
    "plt.bar(x, acc_test)\n",
    "plt.xticks(x, experiment)\n",
    "plt.xlabel('Number of Grammar')\n",
    "plt.ylabel('Test Accuracy')\n",
    "plt.title('Test Accuracy on Different Number of Grammar')\n",
    "plt.savefig(\"plots/lstm_test_acc_bar.png\")\n",
    "plt.show()"
   ]
  },
  {
   "cell_type": "code",
   "execution_count": null,
   "metadata": {
    "collapsed": true
   },
   "outputs": [],
   "source": []
  }
 ],
 "metadata": {
  "kernelspec": {
   "display_name": "Python 3",
   "language": "python",
   "name": "python3"
  },
  "language_info": {
   "codemirror_mode": {
    "name": "ipython",
    "version": 3
   },
   "file_extension": ".py",
   "mimetype": "text/x-python",
   "name": "python",
   "nbconvert_exporter": "python",
   "pygments_lexer": "ipython3",
   "version": "3.6.1"
  }
 },
 "nbformat": 4,
 "nbformat_minor": 2
}
