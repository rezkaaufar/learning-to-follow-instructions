{
 "cells": [
  {
   "cell_type": "markdown",
   "metadata": {},
   "source": [
    "## Code "
   ]
  },
  {
   "cell_type": "code",
   "execution_count": 1,
   "metadata": {},
   "outputs": [
    {
     "name": "stdout",
     "output_type": "stream",
     "text": [
      "Populating the interactive namespace from numpy and matplotlib\n"
     ]
    },
    {
     "name": "stderr",
     "output_type": "stream",
     "text": [
      "/home/rezka/anaconda3/lib/python3.6/site-packages/IPython/core/magics/pylab.py:161: UserWarning: pylab import has clobbered these variables: ['random']\n",
      "`%matplotlib` prevents importing * from pylab and numpy\n",
      "  \"\\n`%matplotlib` prevents importing * from pylab and numpy\"\n"
     ]
    }
   ],
   "source": [
    "import torch\n",
    "import torch.nn as nn\n",
    "import torch.nn.functional as F\n",
    "from torch.autograd import Variable\n",
    "import time\n",
    "import math\n",
    "import re\n",
    "import gc\n",
    "import random\n",
    "%pylab inline"
   ]
  },
  {
   "cell_type": "code",
   "execution_count": 2,
   "metadata": {
    "collapsed": true
   },
   "outputs": [],
   "source": [
    "def randomize_data(inps, labels):\n",
    "    even_ind = np.arange(0,len(inps),2)\n",
    "    odd_ind = np.arange(1,len(inps),2)\n",
    "    assert len(even_ind) == len(odd_ind)\n",
    "    random.shuffle(even_ind)\n",
    "    random.shuffle(odd_ind)\n",
    "    shuffled_index = np.array([val for pair in zip(even_ind, odd_ind) for val in pair])\n",
    "    return np.array(inps)[shuffled_index].tolist(), np.array(labels)[shuffled_index].tolist()"
   ]
  },
  {
   "cell_type": "code",
   "execution_count": 95,
   "metadata": {},
   "outputs": [],
   "source": [
    "# generate data\n",
    "inps_t = []\n",
    "labels_t = []\n",
    "with open(\"dataset/subreg_test_2000.txt\", \"r\") as f:\n",
    "    for line in f:\n",
    "        ar = line.split(\"\\t\")\n",
    "        g_str = ar[0].replace(\" \",\"#\")\n",
    "        inp = g_str + \"$\" + ar[1] \n",
    "        lab = ar[2].replace(\"\\n\",\"\")\n",
    "        inps_t.append(inp)\n",
    "        labels_t.append(lab)\n",
    "inps_t, labels_t = randomize_data(inps_t, labels_t)\n",
    "\n",
    "inps = []\n",
    "labels = []\n",
    "with open(\"dataset/subreg_train_2000.txt\", \"r\") as f:\n",
    "    for line in f:\n",
    "        ar = line.split(\"\\t\")\n",
    "        g_str = ar[0].replace(\" \",\"#\")\n",
    "        inp = g_str + \"$\" + ar[1] \n",
    "        lab = ar[2].replace(\"\\n\",\"\")\n",
    "        inps.append(inp)\n",
    "        labels.append(lab)\n",
    "inps, labels = randomize_data(inps, labels)"
   ]
  },
  {
   "cell_type": "code",
   "execution_count": 4,
   "metadata": {
    "collapsed": true
   },
   "outputs": [],
   "source": [
    "# in this case it is only six\n",
    "all_characters = ['a','b','c','d','e','f','#','$']\n",
    "n_letters = 8\n",
    "categ = ['0', '1']\n",
    "n_categories = 2\n",
    "len_example = 40 # length of the grammars and example\n",
    "\n",
    "# turn string into list of longs\n",
    "def char_tensor(string):\n",
    "    tensor = torch.zeros(n_letters).long()\n",
    "    char_index = all_characters.index(string)\n",
    "    tensor[char_index] = 1\n",
    "    return tensor\n",
    "\n",
    "def categories_tensor(string):\n",
    "    tensor = torch.zeros(len(string)).long()\n",
    "    for li, letter in enumerate(string):\n",
    "        letter_index = categ.index(letter)\n",
    "        tensor[li] = letter_index\n",
    "    return tensor\n",
    "\n",
    "def seq_tensor(string):\n",
    "    tensor = torch.zeros(len(string)).long()\n",
    "    for li, letter in enumerate(string):\n",
    "        letter_index = all_characters.index(letter)\n",
    "        tensor[li] = letter_index\n",
    "    return tensor"
   ]
  },
  {
   "cell_type": "code",
   "execution_count": 5,
   "metadata": {
    "collapsed": true
   },
   "outputs": [],
   "source": [
    "def generate_batch(start_index, len_example, batch_size, inps, labels):\n",
    "    inp_tensor = torch.zeros(batch_size, len_example).long()\n",
    "    lab_tensor = torch.zeros(batch_size, 1).long()\n",
    "    for i in range(batch_size):\n",
    "        inp = seq_tensor(inps[start_index+i])\n",
    "        lab = categories_tensor(labels[start_index+i])\n",
    "        inp_tensor[i,:] = inp\n",
    "        lab_tensor[i,:] = lab\n",
    "    # uncomment to do this with CPU\n",
    "    #return Variable(inp_tensor), Variable(lab_tensor)\n",
    "    return Variable(inp_tensor, requires_grad=False).cuda(), Variable(lab_tensor, requires_grad=False).cuda()"
   ]
  },
  {
   "cell_type": "code",
   "execution_count": 6,
   "metadata": {
    "collapsed": true
   },
   "outputs": [],
   "source": [
    "def generate_random_batch(len_example, batch_size, inps, labels):\n",
    "    even_ind = np.arange(0,len(inps),2)\n",
    "    odd_ind = np.arange(1,len(inps),2)\n",
    "    a = random.choice(even_ind, batch_size // 2)\n",
    "    b = random.choice(odd_ind, batch_size // 2)\n",
    "    random_index = np.concatenate([a,b])\n",
    "    inp_tensor = torch.zeros(batch_size, len_example).long()\n",
    "    lab_tensor = torch.zeros(batch_size, 1).long()\n",
    "    for i, ind in enumerate(random_index):\n",
    "        inp = seq_tensor(inps[ind])\n",
    "        lab = categories_tensor(labels[ind])\n",
    "        inp_tensor[i,:] = inp\n",
    "        lab_tensor[i,:] = lab\n",
    "    # uncomment to do this with CPU\n",
    "    #return Variable(inp_tensor), Variable(lab_tensor)\n",
    "    return Variable(inp_tensor, requires_grad=False).cuda(), Variable(lab_tensor, requires_grad=False).cuda()"
   ]
  },
  {
   "cell_type": "code",
   "execution_count": 7,
   "metadata": {
    "collapsed": true
   },
   "outputs": [],
   "source": [
    "def convert_string(texts):\n",
    "    inp_tensor = torch.zeros(1, len_example).long()\n",
    "    inp = seq_tensor(texts)\n",
    "    inp_tensor[0,:] = inp\n",
    "    # uncomment to do this with CPU\n",
    "    #return Variable(inp_tensor), Variable(lab_tensor)\n",
    "    return Variable(inp_tensor, requires_grad=False).cuda()"
   ]
  },
  {
   "cell_type": "code",
   "execution_count": 88,
   "metadata": {
    "collapsed": true
   },
   "outputs": [],
   "source": [
    "# hyperparameters\n",
    "n_epochs = 20\n",
    "n_hidden = 128\n",
    "n_layers = 1\n",
    "lr = 1e-3\n",
    "clip = 0.25\n",
    "batch_size = 200\n",
    "dropout = 0.0\n",
    "grammar_len = 20\n",
    "\n",
    "print_every = 200"
   ]
  },
  {
   "cell_type": "code",
   "execution_count": 9,
   "metadata": {
    "collapsed": true
   },
   "outputs": [],
   "source": [
    "class RNN(nn.Module):\n",
    "    def __init__(self, input_size, hidden_size, output_size, n_layers=2, dropout_p=0.2, grammar_len=15):\n",
    "        super(RNN, self).__init__()\n",
    "        self.input_size = input_size\n",
    "        self.hidden_size = hidden_size\n",
    "        self.output_size = output_size\n",
    "        self.n_layers = n_layers\n",
    "        self.dropout_p = dropout\n",
    "        self.input_dropout = nn.Dropout(p=dropout_p)\n",
    "        self.embed = nn.Embedding(input_size, hidden_size)\n",
    "        self.lstm = nn.LSTM(2*hidden_size, hidden_size, n_layers, dropout=dropout_p, batch_first=True)\n",
    "        self.output = nn.Linear(hidden_size, output_size)\n",
    "        \n",
    "        self.linear_out = nn.Linear(hidden_size*2, hidden_size)\n",
    "        #self.combine_input = nn.Linear(hidden_size*2, hidden_size)\n",
    "    \n",
    "    def forward(self, input, hidden, batch_size, attn=False, context=None, combine=False, prev_ht=None):\n",
    "        embedded = self.embed(input) # [batch_size, seq_len, embed_size]\n",
    "        embedded = self.input_dropout(embedded)\n",
    "        output = None\n",
    "        \n",
    "        if not attn:\n",
    "            seq_len = embedded.size(1) \n",
    "            prev_ht = self.init_prev_ht(batch_size, seq_len)\n",
    "            embedded = torch.cat((embedded, prev_ht), dim=2)\n",
    "            ht, hidden = self.lstm(embedded, hidden) # [batch_size, seq_len, hidden_size]\n",
    "            output = self.output(ht.squeeze(1))\n",
    "        else:\n",
    "            if combine:\n",
    "                embedded = torch.cat((embedded, prev_ht), dim=2)\n",
    "            ht, hidden = self.lstm(embedded, hidden) # [batch_size, 1, hidden_size]\n",
    "            #print(ht)\n",
    "            # (batch, out_len, dim) * (batch, in_len, dim) -> (batch, out_len, in_len)\n",
    "            # in this case, in_len is the number of characters in total k-factors\n",
    "            grammar_len = context.size(1)\n",
    "            \n",
    "            attn = torch.bmm(ht, context.transpose(1,2))\n",
    "            #print(ht.size(), context.transpose(1,2).size())\n",
    "            #print(attn)\n",
    "            attn = F.softmax(attn.view(-1, grammar_len), dim=1).view(batch_size, -1, grammar_len)\n",
    "            \n",
    "            # (batch, out_len, in_len) * (batch, in_len, dim) -> (batch, out_len, dim)\n",
    "            mix = torch.bmm(attn, context)\n",
    "            \n",
    "            # concat -> (batch, out_len, 2*dim)\n",
    "            combined = torch.cat((mix, ht), dim=2)\n",
    "            # output -> (batch, out_len, dim)\n",
    "            ht = F.tanh(self.linear_out(combined.view(-1, 2 * self.hidden_size))).view(\n",
    "                batch_size, -1, self.hidden_size)\n",
    "            output = self.output(ht.squeeze(1))\n",
    "            \n",
    "        return output, ht, hidden\n",
    "\n",
    "    def init_hidden(self, batch_size):\n",
    "        h0 = Variable(torch.zeros(self.n_layers, batch_size, self.hidden_size)).cuda()\n",
    "        c0 = Variable(torch.zeros(self.n_layers, batch_size, self.hidden_size)).cuda()\n",
    "        return h0, c0\n",
    "    \n",
    "    def init_prev_ht(self, batch_size, seq_len):\n",
    "        ht = Variable(torch.zeros(batch_size, seq_len, self.hidden_size)).cuda()\n",
    "        return ht"
   ]
  },
  {
   "cell_type": "code",
   "execution_count": 96,
   "metadata": {
    "collapsed": true
   },
   "outputs": [],
   "source": [
    "rnn = RNN(n_letters, n_hidden, n_categories, dropout_p=dropout)\n",
    "rnn_optimizer = torch.optim.Adam(rnn.parameters(), lr=lr)\n",
    "criterion = nn.CrossEntropyLoss()"
   ]
  },
  {
   "cell_type": "code",
   "execution_count": 97,
   "metadata": {},
   "outputs": [
    {
     "data": {
      "text/plain": [
       "RNN(\n",
       "  (input_dropout): Dropout(p=0.0)\n",
       "  (embed): Embedding(8, 128)\n",
       "  (lstm): LSTM(256, 128, num_layers=2, batch_first=True)\n",
       "  (output): Linear(in_features=128, out_features=2)\n",
       "  (linear_out): Linear(in_features=256, out_features=128)\n",
       ")"
      ]
     },
     "execution_count": 97,
     "metadata": {},
     "output_type": "execute_result"
    }
   ],
   "source": [
    "rnn.cuda()"
   ]
  },
  {
   "cell_type": "code",
   "execution_count": 12,
   "metadata": {
    "collapsed": true
   },
   "outputs": [],
   "source": [
    "#start_index = 0\n",
    "#hidden = rnn.init_hidden(batch_size)\n",
    "#inp, target = generate_batch(start_index, len_example, batch_size, inps, labels)\n",
    "#for c in range(len_example):\n",
    "#    output, ht, hidden = rnn(inp[:,c].unsqueeze(1), hidden, batch_size)\n",
    "#     print(inps[0][20+c])\n",
    "# print(inps[0][20:])\n",
    "#train(inp, target, attn=True)"
   ]
  },
  {
   "cell_type": "code",
   "execution_count": 13,
   "metadata": {
    "collapsed": true
   },
   "outputs": [],
   "source": [
    "# training\n",
    "def train(inp, target, attn=False):\n",
    "    loss = 0\n",
    "    hidden = rnn.init_hidden(batch_size)\n",
    "    rnn.zero_grad()\n",
    "    cls = None\n",
    "    if attn:\n",
    "        #grammar_contexts = torch.zeros(grammar_len, batch_size, n_hidden)\n",
    "        i = 0\n",
    "        output, ht, hidden = rnn(inp[:,:20], hidden, batch_size)\n",
    "#         for j in range(ht.size(1)):\n",
    "#             if j not in [3,7,11,15,19]:\n",
    "#                 grammar_contexts[i] = ht[:,j,:].transpose(0,1)\n",
    "#                 i += 1\n",
    "        grammar_contexts = ht\n",
    "        #print(grammar_contexts)\n",
    "        ht = rnn.init_prev_ht(batch_size, 1)\n",
    "        for c in range(len_example - 20):\n",
    "            #print(ht)\n",
    "            output, ht, hidden = rnn(inp[:,20+c].unsqueeze(1), hidden, batch_size, attn=True, \n",
    "                                 context=grammar_contexts, combine=True, prev_ht=ht)\n",
    "            #print(ht)\n",
    "        cls = output\n",
    "        cls = F.softmax(cls, dim=1)\n",
    "    else:\n",
    "        output, ht, hidden = rnn(inp, hidden, batch_size)\n",
    "        cls = output[:,-1,:].contiguous()\n",
    "        cls = F.softmax(cls, dim=1) \n",
    "    \n",
    "    loss = criterion(cls.view(batch_size, -1), target.squeeze(1))\n",
    "    loss.backward()\n",
    "    rnn_optimizer.step()\n",
    "\n",
    "    return loss.data[0], ht, hidden"
   ]
  },
  {
   "cell_type": "code",
   "execution_count": 14,
   "metadata": {},
   "outputs": [],
   "source": [
    "# batch_size = 4\n",
    "# start_index = 0\n",
    "# hidden = rnn.init_hidden(batch_size)\n",
    "# inp, target = generate_batch(start_index, len_example, batch_size, inps, labels)\n",
    "# train(inp, target, attn=True)"
   ]
  },
  {
   "cell_type": "code",
   "execution_count": 15,
   "metadata": {
    "collapsed": true
   },
   "outputs": [],
   "source": [
    "def repackage_hidden(h, c):\n",
    "    \"\"\"Wraps hidden states in new Variables, to detach them from their history.\"\"\"\n",
    "    if type(h) == Variable:\n",
    "        return Variable(h.data), Variable(c.data)\n",
    "    else:\n",
    "        return tuple(repackage_hidden(v) for v in h), tuple(repackage_hidden(u) for u in c)"
   ]
  },
  {
   "cell_type": "code",
   "execution_count": 16,
   "metadata": {
    "collapsed": true
   },
   "outputs": [],
   "source": [
    "def time_since(since):\n",
    "    now = time.time()\n",
    "    s = now - since\n",
    "    m = math.floor(s / 60)\n",
    "    s -= m * 60\n",
    "    return '%dm %ds' % (m, s)"
   ]
  },
  {
   "cell_type": "code",
   "execution_count": 17,
   "metadata": {
    "collapsed": true
   },
   "outputs": [],
   "source": [
    "def accuracy_test_data(attn=False):\n",
    "    batch_size = 400\n",
    "    it = len(inps_t) / batch_size\n",
    "    acc_tot = 0\n",
    "    for i in range(int(it)):\n",
    "        cls = None\n",
    "        hidden = rnn.init_hidden(batch_size)\n",
    "        start_index = i * batch_size\n",
    "        inp_t, lab_t = generate_batch(start_index, len_example, batch_size, inps_t, labels_t)\n",
    "        \n",
    "        if attn:\n",
    "            #grammar_contexts = torch.zeros(grammar_len, batch_size, n_hidden)\n",
    "            i = 0\n",
    "            output, ht, hidden = rnn(inp_t[:,:20], hidden, batch_size)\n",
    "    #         for j in range(ht.size(1)):\n",
    "    #             if j not in [3,7,11,15,19]:\n",
    "    #                 grammar_contexts[i] = ht[:,j,:].transpose(0,1)\n",
    "    #                 i += 1\n",
    "            grammar_contexts = ht\n",
    "            #print(grammar_contexts)\n",
    "            ht = rnn.init_prev_ht(batch_size, 1)\n",
    "            for c in range(len_example - 20):\n",
    "                #print(ht)\n",
    "                output, ht, hidden = rnn(inp_t[:,20+c].unsqueeze(1), hidden, batch_size, attn=True, \n",
    "                                     context=grammar_contexts, combine=True, prev_ht=ht)\n",
    "                #print(ht)\n",
    "            cls = output\n",
    "            cls = F.softmax(cls, dim=1)\n",
    "        else:\n",
    "            output, ht, hidden = rnn(inp_t, hidden, batch_size)\n",
    "            cls = output[:,-1,:].contiguous()\n",
    "            cls = F.softmax(cls, dim=1)\n",
    "            \n",
    "        max_idx = cls.max(1)[1]\n",
    "        accuracy = (lab_t.squeeze() == max_idx).long().sum().float() / batch_size\n",
    "        acc_tot += accuracy.data[0] #, max_idx.sum().data[0]\n",
    "    return acc_tot / it"
   ]
  },
  {
   "cell_type": "code",
   "execution_count": 18,
   "metadata": {
    "collapsed": true
   },
   "outputs": [],
   "source": [
    "def accuracy_train_data(attn=False):\n",
    "    batch_size = 1000\n",
    "    it = len(inps) / batch_size\n",
    "    acc_tot = 0\n",
    "    for i in range(int(it)):\n",
    "        cls = None\n",
    "        hidden = rnn.init_hidden(batch_size)\n",
    "        start_index = i * batch_size\n",
    "        inp_t, lab_t = generate_batch(start_index, len_example, batch_size, inps, labels)\n",
    "        \n",
    "        if attn:\n",
    "            #grammar_contexts = torch.zeros(grammar_len, batch_size, n_hidden)\n",
    "            i = 0\n",
    "            output, ht, hidden = rnn(inp_t[:,:20], hidden, batch_size)\n",
    "#             for j in range(ht.size(1)):\n",
    "#                 if j not in [3,7,11,15,19]:\n",
    "#                     grammar_contexts[i] = ht[:,j,:].transpose(0,1)\n",
    "#                     i += 1\n",
    "            grammar_contexts = ht\n",
    "            #print(grammar_contexts)\n",
    "            ht = rnn.init_prev_ht(batch_size, 1)\n",
    "            for c in range(len_example - 20):\n",
    "                #print(ht)\n",
    "                output, ht, hidden = rnn(inp_t[:,20+c].unsqueeze(1), hidden, batch_size, attn=True, \n",
    "                                     context=grammar_contexts, combine=True, prev_ht=ht)\n",
    "                #print(ht)\n",
    "            cls = output\n",
    "            cls = F.softmax(cls, dim=1)\n",
    "        else:\n",
    "            output, ht, hidden = rnn(inp_t, hidden, batch_size)\n",
    "            cls = output[:,-1,:].contiguous()\n",
    "            cls = F.softmax(cls, dim=1)\n",
    "        \n",
    "        max_idx = cls.max(1)[1]\n",
    "        accuracy = (lab_t.squeeze() == max_idx).long().sum().float()\n",
    "        acc_tot += accuracy.data[0] #, max_idx.sum().data[0]\n",
    "    return acc_tot / len(inps)"
   ]
  },
  {
   "cell_type": "code",
   "execution_count": 98,
   "metadata": {},
   "outputs": [
    {
     "name": "stdout",
     "output_type": "stream",
     "text": [
      "Loss 0.6930896639823914, Test Accuracy 0.5036249861121178, Train Accuracy 0.50240625\n",
      "Loss 0.6806796193122864, Test Accuracy 0.5828749805688858, Train Accuracy 0.5839375\n",
      "Loss 0.5940182209014893, Test Accuracy 0.6416249811649323, Train Accuracy 0.6610625\n",
      "Loss 0.5063607692718506, Test Accuracy 0.7732499897480011, Train Accuracy 0.78559375\n",
      "Loss 0.45662131905555725, Test Accuracy 0.8676249861717225, Train Accuracy 0.87371875\n",
      "Loss 0.3523038625717163, Test Accuracy 0.9323749810457229, Train Accuracy 0.94190625\n",
      "Loss 0.4295346438884735, Test Accuracy 0.9153749704360962, Train Accuracy 0.92178125\n",
      "Loss 0.40617671608924866, Test Accuracy 0.9107499688863754, Train Accuracy 0.91296875\n",
      "Loss 0.38156771659851074, Test Accuracy 0.9243749707937241, Train Accuracy 0.933\n",
      "Loss 0.3511452078819275, Test Accuracy 0.938374987244606, Train Accuracy 0.9423125\n",
      "Loss 0.48193344473838806, Test Accuracy 0.8291249841451644, Train Accuracy 0.83246875\n",
      "Loss 0.49931490421295166, Test Accuracy 0.8277499854564667, Train Accuracy 0.8268125\n",
      "Loss 0.4338679015636444, Test Accuracy 0.8904999852180481, Train Accuracy 0.88784375\n",
      "Loss 0.43004897236824036, Test Accuracy 0.8596249788999557, Train Accuracy 0.86515625\n",
      "Loss 0.3962518274784088, Test Accuracy 0.9211249679327012, Train Accuracy 0.92453125\n",
      "Loss 0.3980916738510132, Test Accuracy 0.8634999811649322, Train Accuracy 0.873375\n"
     ]
    }
   ],
   "source": [
    "batch_size = 200\n",
    "start = time.time()\n",
    "iters = 0\n",
    "rnn.train(True)\n",
    "losses, accs, accs_tr = [], [], []\n",
    "attn = True\n",
    "for epoch in range(1, n_epochs + 1):\n",
    "    start_index = 0\n",
    "    steps = len(inps) / batch_size\n",
    "    for i in range(int(steps)):\n",
    "        start_index = i * batch_size\n",
    "        inp, target = generate_batch(start_index, len_example, batch_size, inps, labels)\n",
    "        loss, _, _ = train(inp, target, attn=attn)\n",
    "        losses.append(loss)\n",
    "        if iters % print_every == 0:\n",
    "            acc = accuracy_test_data(attn=attn)\n",
    "            acc_tr = accuracy_train_data(attn=attn)\n",
    "            accs.append(acc)\n",
    "            accs_tr.append(acc_tr)\n",
    "            print(\"Loss {}, Test Accuracy {}, Train Accuracy {}\".format(loss, acc, acc_tr))\n",
    "\n",
    "        iters += 1\n",
    "acc = accuracy_test_data(attn=attn)\n",
    "acc_tr = accuracy_train_data(attn=attn)\n",
    "accs.append(acc)\n",
    "accs_tr.append(acc_tr)"
   ]
  },
  {
   "cell_type": "code",
   "execution_count": 19,
   "metadata": {},
   "outputs": [],
   "source": [
    "# predicted \n",
    "# start_index = 0\n",
    "# batch_size = 10\n",
    "# it = len(inps_t) / batch_size\n",
    "# acc_tot = 0\n",
    "# cls = None\n",
    "# hidden = rnn.init_hidden(batch_size)\n",
    "# inp_t, lab_t = generate_batch(start_index, len_example, batch_size, inps_t, labels_t)\n",
    "# attn=False\n",
    "# rnn.zero_grad()\n",
    "\n",
    "# if attn:\n",
    "#     grammar_contexts = Variable(torch.zeros(grammar_len, batch_size, n_hidden)).cuda()\n",
    "#     i = 0\n",
    "#     output, ht, hidden = rnn(inp_t[:,:20], hidden, batch_size)\n",
    "#     #for j in range(ht.size(1)):\n",
    "#     #    if j not in [3,7,11,15,18]:\n",
    "#     #        grammar_contexts[i] = ht[:,j,:].transpose(0,1)\n",
    "#     #        i += 1\n",
    "#     grammar_contexts = ht\n",
    "#     ht = rnn.init_prev_ht(batch_size, 1)\n",
    "#     for c in range(len_example - 20):\n",
    "#         output, ht, hidden = rnn(inp_t[:,20+c].unsqueeze(1), hidden, batch_size, attn=True, \n",
    "#                              context=grammar_contexts, combine=True, prev_ht=ht)\n",
    "#     cls = output\n",
    "#     #print(F.softmax(cls, dim=1))\n",
    "# else:\n",
    "#     output, ht, hidden = rnn(inp_t, hidden, batch_size)\n",
    "#     cls = output[:,-1,:].contiguous()\n",
    "#     #print(F.softmax(cls, dim=1))\n",
    "\n",
    "# max_idx = cls.max(1)[1]\n",
    "# for i in range(batch_size):\n",
    "#     print(inps_t[start_index+i], max_idx.data[i], lab_t.squeeze().data[i])\n",
    "# accuracy = (lab_t.squeeze() == max_idx).long().sum().float()\n",
    "# print(accuracy.data[0] / batch_size)"
   ]
  },
  {
   "cell_type": "code",
   "execution_count": 99,
   "metadata": {},
   "outputs": [
    {
     "data": {
      "image/png": "[encoded data removed]",
      "text/plain": [
       "<matplotlib.figure.Figure at 0x7f04b6b4be10>"
      ]
     },
     "metadata": {},
     "output_type": "display_data"
    },
    {
     "data": {
      "image/png": "[encoded data removed]",
      "text/plain": [
       "<matplotlib.figure.Figure at 0x7f04e6577e10>"
      ]
     },
     "metadata": {},
     "output_type": "display_data"
    },
    {
     "data": {
      "image/png": "[encoded data removed]",
      "text/plain": [
       "<matplotlib.figure.Figure at 0x7f04b6f38320>"
      ]
     },
     "metadata": {},
     "output_type": "display_data"
    }
   ],
   "source": [
    "## plots\n",
    "plt.plot(np.arange(len(losses)), losses)\n",
    "plt.title('LSTM 2000 Example 20000 Losses Attention')\n",
    "plt.savefig(\"plots/lstm_2000example_20000c_losses_attn.png\")\n",
    "plt.show()\n",
    "\n",
    "plt.plot(np.arange(len(accs)), accs)\n",
    "plt.title('LSTM 2000 Example 20000 Test Accuracy Attention')\n",
    "plt.savefig(\"plots/lstm_2000example_20000c_test_acc_attn.png\")\n",
    "plt.show()\n",
    "\n",
    "plt.plot(np.arange(len(accs_tr)), accs_tr)\n",
    "plt.title('LSTM 2000 Example 20000 Train Accuracy Attention')\n",
    "plt.savefig(\"plots/lstm_2000example_20000c_train_acc_attn.png\")\n",
    "plt.show()"
   ]
  },
  {
   "cell_type": "code",
   "execution_count": 100,
   "metadata": {},
   "outputs": [
    {
     "name": "stderr",
     "output_type": "stream",
     "text": [
      "/home/rezka/anaconda3/lib/python3.6/site-packages/torch/serialization.py:158: UserWarning: Couldn't retrieve source code for container of type RNN. It won't be checked for correctness upon loading.\n",
      "  \"type \" + obj.__name__ + \". It won't be checked \"\n"
     ]
    }
   ],
   "source": [
    "with open('models/lstm_2000example_20000c_attn.tar','wb') as ckpt:\n",
    "     torch.save(rnn, ckpt)"
   ]
  },
  {
   "cell_type": "markdown",
   "metadata": {
    "collapsed": true
   },
   "source": [
    "## Analysis and Diagnostic Classifier"
   ]
  },
  {
   "cell_type": "code",
   "execution_count": 28,
   "metadata": {
    "collapsed": true
   },
   "outputs": [],
   "source": [
    "from sklearn import metrics\n",
    "from scipy import stats\n",
    "import scipy as sp\n",
    "\n",
    "from sklearn.linear_model import LinearRegression\n",
    "from sklearn.linear_model import LogisticRegression\n",
    "from sklearn.linear_model import Ridge\n",
    "\n",
    "from scipy.stats import pearsonr\n",
    "\n",
    "import seaborn as sns"
   ]
  },
  {
   "cell_type": "code",
   "execution_count": 18,
   "metadata": {
    "collapsed": true
   },
   "outputs": [],
   "source": [
    "rnn = torch.load('models/lstm_2000example_20000c.tar').cuda()"
   ]
  },
  {
   "cell_type": "code",
   "execution_count": 29,
   "metadata": {
    "collapsed": true
   },
   "outputs": [],
   "source": [
    "def hypothesis_k_factors(text):\n",
    "    return np.array([-1 if x == '#' or x == '$' else 1 for x in text])\n",
    "\n",
    "def hypothesis_detect_k_factors(text):\n",
    "    hyp = np.full(len(text), -1)\n",
    "    texts = text.split(\"$\")\n",
    "    kfs = texts[0].split(\"#\")\n",
    "    for kf in kfs:\n",
    "        if kf in texts[1]:\n",
    "            ind = [m.start() for m in re.finditer(kf, text)]\n",
    "            for el in ind:\n",
    "                hyp[el:el+3] = 1\n",
    "    return hyp\n",
    "\n",
    "def hypothesis_match_grammar(text):\n",
    "    hyp = np.full(len(text), -1)\n",
    "    texts = text.split(\"$\")\n",
    "    kfs = texts[0].split(\"#\")\n",
    "    for kf in kfs:\n",
    "        if kf in texts[1]:\n",
    "            ind = [m.start() for m in re.finditer(kf, text)]\n",
    "            for el in ind:\n",
    "                hyp[el:el+3] = 1\n",
    "            for i, j in zip(range(len(kf)), reversed(range(len(kf)))):\n",
    "                if j != 0:\n",
    "                    ind = [m.start() for m in re.finditer(kf[:-j], text)]\n",
    "                    print(ind, kf[:-j], i)\n",
    "                    for el in ind:\n",
    "                        hyp[el:el+i] = 1\n",
    "    return hyp"
   ]
  },
  {
   "cell_type": "code",
   "execution_count": 67,
   "metadata": {},
   "outputs": [
    {
     "name": "stdout",
     "output_type": "stream",
     "text": [
      "[8, 9, 12, 24, 28] c 0\n",
      "[12, 28] cd 1\n"
     ]
    },
    {
     "data": {
      "text/plain": [
       "array([-1, -1, -1, -1, -1, -1, -1, -1, -1, -1, -1, -1,  1,  1,  1, -1, -1,\n",
       "       -1, -1, -1, -1, -1, -1, -1, -1, -1, -1, -1,  1,  1,  1, -1, -1, -1,\n",
       "       -1, -1, -1, -1, -1, -1])"
      ]
     },
     "execution_count": 67,
     "metadata": {},
     "output_type": "execute_result"
    }
   ],
   "source": [
    "hypothesis_match_grammar(\"bbb#bdd#cce#cdd#ddf$fdddcbfacddabaadfdeb\")"
   ]
  },
  {
   "cell_type": "code",
   "execution_count": 30,
   "metadata": {
    "collapsed": true
   },
   "outputs": [],
   "source": [
    "def validate_hypothesis(model, diag_classifier, hypothesis, train_len=50,\n",
    "                        test_len=1, tt=None, save_hyp=None, save_diag=None, save_resp=None):\n",
    "    # Generate hypothesis data\n",
    "    def gen_hyp_data(model, N, hypothesis, start_index):\n",
    "        texts, hiddens, hiddens_2, hyps = [], [], [], []\n",
    "        inp, target = generate_random_batch(len_example, N, inps, labels)\n",
    "        for i in range(N):\n",
    "            hidden, cell = rnn.init_hidden(1)\n",
    "            hid = []\n",
    "            hid_2 = []\n",
    "            for j in range(len(inp[i])):\n",
    "                _, hidden, cell = rnn(inp[i][j], hidden, cell, 1)\n",
    "                hidden_temp = hidden.squeeze()\n",
    "                hid.append(np.array(hidden_temp.data[0]))\n",
    "                hid_2.append(np.array(hidden_temp.data[1]))\n",
    "            hyp = hypothesis(inps[i])\n",
    "            hiddens.append(hid)\n",
    "            hiddens_2.append(hid_2)\n",
    "            hyps.append(hyp)\n",
    "            texts.append(inps[i])\n",
    "        return ''.join(texts), np.concatenate(hyps), np.concatenate(hiddens), np.concatenate(hiddens_2)\n",
    "    \n",
    "    def gen_hyp_data_test(model, N, hypothesis, tt):\n",
    "        texts, hiddens, hiddens_2, hyps = [], [], [], []\n",
    "        tensor_tt = convert_string(tt)\n",
    "        for i in range(N):\n",
    "            hidden, cell = rnn.init_hidden(1)\n",
    "            hid = []\n",
    "            hid_2 = []\n",
    "            for j in range(len(tensor_tt[i])):\n",
    "                _, hidden, cell = rnn(tensor_tt[i][j], hidden, cell, 1)\n",
    "                hidden_temp = hidden.squeeze()\n",
    "                hid.append(np.array(hidden_temp.data[0]))\n",
    "                hid_2.append(np.array(hidden_temp.data[1]))\n",
    "            hyp = hypothesis(tt)\n",
    "            hiddens.append(hid)\n",
    "            hiddens_2.append(hid_2)\n",
    "            hyps.append(hyp)\n",
    "            texts.append(tt)\n",
    "        return ''.join(texts), np.concatenate(hyps), np.concatenate(hiddens), np.concatenate(hiddens_2)\n",
    "\n",
    "    # Generate train and test data\n",
    "    _, train_hyps, train_hiddens, train_hiddens_2 = gen_hyp_data(model, train_len, hypothesis, 0)\n",
    "    test_texts, test_hyps, test_hiddens, test_hiddens_2 = gen_hyp_data_test(model, test_len, hypothesis, tt)\n",
    "    #print(pearsonr(train_hiddens, train_hyps))\n",
    "    #print(pearsonr(test_hiddens, test_hyps))\n",
    "\n",
    "    # Train Diagnostic Classifier\n",
    "    diag_classifier.fit(train_hiddens, train_hyps)\n",
    "    \n",
    "    # Predict with Diagnostic Classifier\n",
    "    pred_hyps = diag_classifier.predict(test_hiddens)\n",
    "    \n",
    "    # Find responsible neuron\n",
    "    resp_neuron = np.argmax(np.abs(diag_classifier.coef_))\n",
    "    print(resp_neuron)\n",
    "    \n",
    "    # Plot results\n",
    "    if save_hyp:\n",
    "        plot_colored_text(test_texts[:len_example], test_hyps[:len_example],\n",
    "                          title='Formed Hypothesis',\n",
    "                          save_file=save_hyp)\n",
    "    if save_diag:\n",
    "        plot_colored_text(test_texts[:len_example], pred_hyps[:len_example],\n",
    "                          title='Diagnostic Classifier Prediction',\n",
    "                          save_file=save_diag)\n",
    "    if save_resp:\n",
    "        plot_colored_text(test_texts[:len_example], test_hiddens[:len_example, resp_neuron],\n",
    "                          title='Most Responsible Neuron {}'.format(resp_neuron),\n",
    "                          save_file=save_resp)\n",
    "        \n",
    "    del(train_hyps)\n",
    "    del(train_hiddens)\n",
    "    del(test_texts)\n",
    "    del(test_hiddens)\n",
    "    gc.collect()\n",
    "    \n",
    "    return test_hyps, pred_hyps"
   ]
  },
  {
   "cell_type": "code",
   "execution_count": 31,
   "metadata": {
    "collapsed": true
   },
   "outputs": [],
   "source": [
    "### PLOTTING HELPERS ###\n",
    "def wrap_colored_text(text, colors, W, tabsize=4):\n",
    "    ''' Wrap text with hidden units to certain width '''\n",
    "    new_text, new_colors = [], []\n",
    "\n",
    "    # Wrap lines to width\n",
    "    for char, color in zip(text, colors):\n",
    "        if char == '\\t':\n",
    "            for i in range(tabsize):\n",
    "                new_text.append(' ')\n",
    "                new_colors.append(color)\n",
    "        else:\n",
    "            new_text.append(char)\n",
    "            new_colors.append(color)\n",
    "            if char == '\\n':\n",
    "                for i in range(W - len(new_text) % W):\n",
    "                    new_text.append(' ')\n",
    "                    new_colors.append(np.zeros_like(colors[0]))\n",
    "\n",
    "    # Add final space to obtain (rectangular) matrix\n",
    "    for i in range(W - len(new_text) % W):\n",
    "        new_text.append(' ')\n",
    "        new_colors.append(np.zeros_like(colors[0]))\n",
    "\n",
    "    return np.array(new_text).reshape(-1, W), np.array(new_colors).reshape(-1, W)\n",
    "\n",
    "def plot_colored_text(text, colors, W=80, title=None, save_file=None):\n",
    "    wrapped_text, wrapped_colors = wrap_colored_text(text, colors, W, tabsize=4)\n",
    "\n",
    "    H = len(wrapped_text)\n",
    "    plt.figure(figsize=(W/5, H/3))\n",
    "\n",
    "    color_palette = sns.color_palette(\"RdBu_r\", 255, desat=.9)\n",
    "    color_palette[127] = (1.,1.,1.) # set zero to white color\n",
    "    sns.heatmap(wrapped_colors, annot=wrapped_text,\n",
    "                annot_kws={'color':'black',\n",
    "                           'family':'monospace',\n",
    "                           'horizontalalignment':'center',\n",
    "                           'fontweight':'light'},\n",
    "                fmt='s', cbar=False, vmin=-2, vmax=2)\n",
    "    plt.xticks([])\n",
    "    plt.yticks([])\n",
    "    plt.title(title)\n",
    "    if save_file:\n",
    "        plt.savefig(save_file)\n",
    "    plt.show()"
   ]
  },
  {
   "cell_type": "code",
   "execution_count": 32,
   "metadata": {},
   "outputs": [
    {
     "ename": "ValueError",
     "evalue": "not enough values to unpack (expected 2, got 0)",
     "output_type": "error",
     "traceback": [
      "\u001b[0;31m---------------------------------------------------------------------------\u001b[0m",
      "\u001b[0;31mValueError\u001b[0m                                Traceback (most recent call last)",
      "\u001b[0;32m<ipython-input-32-6bf9f36f196a>\u001b[0m in \u001b[0;36m<module>\u001b[0;34m()\u001b[0m\n\u001b[1;32m      5\u001b[0m                                          \u001b[0msave_hyp\u001b[0m\u001b[0;34m=\u001b[0m\u001b[0;34m'plots/{}_hyp_{}.png'\u001b[0m\u001b[0;34m.\u001b[0m\u001b[0mformat\u001b[0m\u001b[0;34m(\u001b[0m\u001b[0mmodel_name\u001b[0m\u001b[0;34m,\u001b[0m \u001b[0mhyp_name\u001b[0m\u001b[0;34m)\u001b[0m\u001b[0;34m,\u001b[0m\u001b[0;34m\u001b[0m\u001b[0m\n\u001b[1;32m      6\u001b[0m                                          \u001b[0msave_diag\u001b[0m\u001b[0;34m=\u001b[0m\u001b[0;34m'plots/{}_diag_{}.png'\u001b[0m\u001b[0;34m.\u001b[0m\u001b[0mformat\u001b[0m\u001b[0;34m(\u001b[0m\u001b[0mmodel_name\u001b[0m\u001b[0;34m,\u001b[0m \u001b[0mhyp_name\u001b[0m\u001b[0;34m)\u001b[0m\u001b[0;34m,\u001b[0m\u001b[0;34m\u001b[0m\u001b[0m\n\u001b[0;32m----> 7\u001b[0;31m                                          save_resp='plots/{}_resp_{}.png'.format(model_name, hyp_name))\n\u001b[0m",
      "\u001b[0;32m<ipython-input-30-ee0efbfc39f1>\u001b[0m in \u001b[0;36mvalidate_hypothesis\u001b[0;34m(model, diag_classifier, hypothesis, train_len, test_len, tt, save_hyp, save_diag, save_resp)\u001b[0m\n\u001b[1;32m     41\u001b[0m \u001b[0;34m\u001b[0m\u001b[0m\n\u001b[1;32m     42\u001b[0m     \u001b[0;31m# Generate train and test data\u001b[0m\u001b[0;34m\u001b[0m\u001b[0;34m\u001b[0m\u001b[0m\n\u001b[0;32m---> 43\u001b[0;31m     \u001b[0m_\u001b[0m\u001b[0;34m,\u001b[0m \u001b[0mtrain_hyps\u001b[0m\u001b[0;34m,\u001b[0m \u001b[0mtrain_hiddens\u001b[0m\u001b[0;34m,\u001b[0m \u001b[0mtrain_hiddens_2\u001b[0m \u001b[0;34m=\u001b[0m \u001b[0mgen_hyp_data\u001b[0m\u001b[0;34m(\u001b[0m\u001b[0mmodel\u001b[0m\u001b[0;34m,\u001b[0m \u001b[0mtrain_len\u001b[0m\u001b[0;34m,\u001b[0m \u001b[0mhypothesis\u001b[0m\u001b[0;34m,\u001b[0m \u001b[0;36m0\u001b[0m\u001b[0;34m)\u001b[0m\u001b[0;34m\u001b[0m\u001b[0m\n\u001b[0m\u001b[1;32m     44\u001b[0m     \u001b[0mtest_texts\u001b[0m\u001b[0;34m,\u001b[0m \u001b[0mtest_hyps\u001b[0m\u001b[0;34m,\u001b[0m \u001b[0mtest_hiddens\u001b[0m\u001b[0;34m,\u001b[0m \u001b[0mtest_hiddens_2\u001b[0m \u001b[0;34m=\u001b[0m \u001b[0mgen_hyp_data_test\u001b[0m\u001b[0;34m(\u001b[0m\u001b[0mmodel\u001b[0m\u001b[0;34m,\u001b[0m \u001b[0mtest_len\u001b[0m\u001b[0;34m,\u001b[0m \u001b[0mhypothesis\u001b[0m\u001b[0;34m,\u001b[0m \u001b[0mtt\u001b[0m\u001b[0;34m)\u001b[0m\u001b[0;34m\u001b[0m\u001b[0m\n\u001b[1;32m     45\u001b[0m     \u001b[0;31m#print(pearsonr(train_hiddens, train_hyps))\u001b[0m\u001b[0;34m\u001b[0m\u001b[0;34m\u001b[0m\u001b[0m\n",
      "\u001b[0;32m<ipython-input-30-ee0efbfc39f1>\u001b[0m in \u001b[0;36mgen_hyp_data\u001b[0;34m(model, N, hypothesis, start_index)\u001b[0m\n\u001b[1;32m     10\u001b[0m             \u001b[0mhid_2\u001b[0m \u001b[0;34m=\u001b[0m \u001b[0;34m[\u001b[0m\u001b[0;34m]\u001b[0m\u001b[0;34m\u001b[0m\u001b[0m\n\u001b[1;32m     11\u001b[0m             \u001b[0;32mfor\u001b[0m \u001b[0mj\u001b[0m \u001b[0;32min\u001b[0m \u001b[0mrange\u001b[0m\u001b[0;34m(\u001b[0m\u001b[0mlen\u001b[0m\u001b[0;34m(\u001b[0m\u001b[0minp\u001b[0m\u001b[0;34m[\u001b[0m\u001b[0mi\u001b[0m\u001b[0;34m]\u001b[0m\u001b[0;34m)\u001b[0m\u001b[0;34m)\u001b[0m\u001b[0;34m:\u001b[0m\u001b[0;34m\u001b[0m\u001b[0m\n\u001b[0;32m---> 12\u001b[0;31m                 \u001b[0m_\u001b[0m\u001b[0;34m,\u001b[0m \u001b[0mhidden\u001b[0m\u001b[0;34m,\u001b[0m \u001b[0mcell\u001b[0m \u001b[0;34m=\u001b[0m \u001b[0mrnn\u001b[0m\u001b[0;34m(\u001b[0m\u001b[0minp\u001b[0m\u001b[0;34m[\u001b[0m\u001b[0mi\u001b[0m\u001b[0;34m]\u001b[0m\u001b[0;34m[\u001b[0m\u001b[0mj\u001b[0m\u001b[0;34m]\u001b[0m\u001b[0;34m,\u001b[0m \u001b[0mhidden\u001b[0m\u001b[0;34m,\u001b[0m \u001b[0mcell\u001b[0m\u001b[0;34m,\u001b[0m \u001b[0;36m1\u001b[0m\u001b[0;34m)\u001b[0m\u001b[0;34m\u001b[0m\u001b[0m\n\u001b[0m\u001b[1;32m     13\u001b[0m                 \u001b[0mhidden_temp\u001b[0m \u001b[0;34m=\u001b[0m \u001b[0mhidden\u001b[0m\u001b[0;34m.\u001b[0m\u001b[0msqueeze\u001b[0m\u001b[0;34m(\u001b[0m\u001b[0;34m)\u001b[0m\u001b[0;34m\u001b[0m\u001b[0m\n\u001b[1;32m     14\u001b[0m                 \u001b[0mhid\u001b[0m\u001b[0;34m.\u001b[0m\u001b[0mappend\u001b[0m\u001b[0;34m(\u001b[0m\u001b[0mnp\u001b[0m\u001b[0;34m.\u001b[0m\u001b[0marray\u001b[0m\u001b[0;34m(\u001b[0m\u001b[0mhidden_temp\u001b[0m\u001b[0;34m.\u001b[0m\u001b[0mdata\u001b[0m\u001b[0;34m[\u001b[0m\u001b[0;36m0\u001b[0m\u001b[0;34m]\u001b[0m\u001b[0;34m)\u001b[0m\u001b[0;34m)\u001b[0m\u001b[0;34m\u001b[0m\u001b[0m\n",
      "\u001b[0;32m/home/rezka/anaconda3/lib/python3.6/site-packages/torch/nn/modules/module.py\u001b[0m in \u001b[0;36m__call__\u001b[0;34m(self, *input, **kwargs)\u001b[0m\n\u001b[1;32m    323\u001b[0m         \u001b[0;32mfor\u001b[0m \u001b[0mhook\u001b[0m \u001b[0;32min\u001b[0m \u001b[0mself\u001b[0m\u001b[0;34m.\u001b[0m\u001b[0m_forward_pre_hooks\u001b[0m\u001b[0;34m.\u001b[0m\u001b[0mvalues\u001b[0m\u001b[0;34m(\u001b[0m\u001b[0;34m)\u001b[0m\u001b[0;34m:\u001b[0m\u001b[0;34m\u001b[0m\u001b[0m\n\u001b[1;32m    324\u001b[0m             \u001b[0mhook\u001b[0m\u001b[0;34m(\u001b[0m\u001b[0mself\u001b[0m\u001b[0;34m,\u001b[0m \u001b[0minput\u001b[0m\u001b[0;34m)\u001b[0m\u001b[0;34m\u001b[0m\u001b[0m\n\u001b[0;32m--> 325\u001b[0;31m         \u001b[0mresult\u001b[0m \u001b[0;34m=\u001b[0m \u001b[0mself\u001b[0m\u001b[0;34m.\u001b[0m\u001b[0mforward\u001b[0m\u001b[0;34m(\u001b[0m\u001b[0;34m*\u001b[0m\u001b[0minput\u001b[0m\u001b[0;34m,\u001b[0m \u001b[0;34m**\u001b[0m\u001b[0mkwargs\u001b[0m\u001b[0;34m)\u001b[0m\u001b[0;34m\u001b[0m\u001b[0m\n\u001b[0m\u001b[1;32m    326\u001b[0m         \u001b[0;32mfor\u001b[0m \u001b[0mhook\u001b[0m \u001b[0;32min\u001b[0m \u001b[0mself\u001b[0m\u001b[0;34m.\u001b[0m\u001b[0m_forward_hooks\u001b[0m\u001b[0;34m.\u001b[0m\u001b[0mvalues\u001b[0m\u001b[0;34m(\u001b[0m\u001b[0;34m)\u001b[0m\u001b[0;34m:\u001b[0m\u001b[0;34m\u001b[0m\u001b[0m\n\u001b[1;32m    327\u001b[0m             \u001b[0mhook_result\u001b[0m \u001b[0;34m=\u001b[0m \u001b[0mhook\u001b[0m\u001b[0;34m(\u001b[0m\u001b[0mself\u001b[0m\u001b[0;34m,\u001b[0m \u001b[0minput\u001b[0m\u001b[0;34m,\u001b[0m \u001b[0mresult\u001b[0m\u001b[0;34m)\u001b[0m\u001b[0;34m\u001b[0m\u001b[0m\n",
      "\u001b[0;32m<ipython-input-9-e13396923977>\u001b[0m in \u001b[0;36mforward\u001b[0;34m(self, input, hidden, batch_size, attn, context, combine, prev_ht)\u001b[0m\n\u001b[1;32m     29\u001b[0m             \u001b[0;32mif\u001b[0m \u001b[0mcombine\u001b[0m\u001b[0;34m:\u001b[0m\u001b[0;34m\u001b[0m\u001b[0m\n\u001b[1;32m     30\u001b[0m                 \u001b[0membedded\u001b[0m \u001b[0;34m=\u001b[0m \u001b[0mtorch\u001b[0m\u001b[0;34m.\u001b[0m\u001b[0mcat\u001b[0m\u001b[0;34m(\u001b[0m\u001b[0;34m(\u001b[0m\u001b[0membedded\u001b[0m\u001b[0;34m,\u001b[0m \u001b[0mprev_ht\u001b[0m\u001b[0;34m)\u001b[0m\u001b[0;34m,\u001b[0m \u001b[0mdim\u001b[0m\u001b[0;34m=\u001b[0m\u001b[0;36m2\u001b[0m\u001b[0;34m)\u001b[0m\u001b[0;34m\u001b[0m\u001b[0m\n\u001b[0;32m---> 31\u001b[0;31m             \u001b[0mht\u001b[0m\u001b[0;34m,\u001b[0m \u001b[0mhidden\u001b[0m \u001b[0;34m=\u001b[0m \u001b[0mself\u001b[0m\u001b[0;34m.\u001b[0m\u001b[0mlstm\u001b[0m\u001b[0;34m(\u001b[0m\u001b[0membedded\u001b[0m\u001b[0;34m,\u001b[0m \u001b[0mhidden\u001b[0m\u001b[0;34m)\u001b[0m \u001b[0;31m# [batch_size, 1, hidden_size]\u001b[0m\u001b[0;34m\u001b[0m\u001b[0m\n\u001b[0m\u001b[1;32m     32\u001b[0m             \u001b[0;31m#print(ht)\u001b[0m\u001b[0;34m\u001b[0m\u001b[0;34m\u001b[0m\u001b[0m\n\u001b[1;32m     33\u001b[0m             \u001b[0;31m# (batch, out_len, dim) * (batch, in_len, dim) -> (batch, out_len, in_len)\u001b[0m\u001b[0;34m\u001b[0m\u001b[0;34m\u001b[0m\u001b[0m\n",
      "\u001b[0;32m/home/rezka/anaconda3/lib/python3.6/site-packages/torch/nn/modules/module.py\u001b[0m in \u001b[0;36m__call__\u001b[0;34m(self, *input, **kwargs)\u001b[0m\n\u001b[1;32m    323\u001b[0m         \u001b[0;32mfor\u001b[0m \u001b[0mhook\u001b[0m \u001b[0;32min\u001b[0m \u001b[0mself\u001b[0m\u001b[0;34m.\u001b[0m\u001b[0m_forward_pre_hooks\u001b[0m\u001b[0;34m.\u001b[0m\u001b[0mvalues\u001b[0m\u001b[0;34m(\u001b[0m\u001b[0;34m)\u001b[0m\u001b[0;34m:\u001b[0m\u001b[0;34m\u001b[0m\u001b[0m\n\u001b[1;32m    324\u001b[0m             \u001b[0mhook\u001b[0m\u001b[0;34m(\u001b[0m\u001b[0mself\u001b[0m\u001b[0;34m,\u001b[0m \u001b[0minput\u001b[0m\u001b[0;34m)\u001b[0m\u001b[0;34m\u001b[0m\u001b[0m\n\u001b[0;32m--> 325\u001b[0;31m         \u001b[0mresult\u001b[0m \u001b[0;34m=\u001b[0m \u001b[0mself\u001b[0m\u001b[0;34m.\u001b[0m\u001b[0mforward\u001b[0m\u001b[0;34m(\u001b[0m\u001b[0;34m*\u001b[0m\u001b[0minput\u001b[0m\u001b[0;34m,\u001b[0m \u001b[0;34m**\u001b[0m\u001b[0mkwargs\u001b[0m\u001b[0;34m)\u001b[0m\u001b[0;34m\u001b[0m\u001b[0m\n\u001b[0m\u001b[1;32m    326\u001b[0m         \u001b[0;32mfor\u001b[0m \u001b[0mhook\u001b[0m \u001b[0;32min\u001b[0m \u001b[0mself\u001b[0m\u001b[0;34m.\u001b[0m\u001b[0m_forward_hooks\u001b[0m\u001b[0;34m.\u001b[0m\u001b[0mvalues\u001b[0m\u001b[0;34m(\u001b[0m\u001b[0;34m)\u001b[0m\u001b[0;34m:\u001b[0m\u001b[0;34m\u001b[0m\u001b[0m\n\u001b[1;32m    327\u001b[0m             \u001b[0mhook_result\u001b[0m \u001b[0;34m=\u001b[0m \u001b[0mhook\u001b[0m\u001b[0;34m(\u001b[0m\u001b[0mself\u001b[0m\u001b[0;34m,\u001b[0m \u001b[0minput\u001b[0m\u001b[0;34m,\u001b[0m \u001b[0mresult\u001b[0m\u001b[0;34m)\u001b[0m\u001b[0;34m\u001b[0m\u001b[0m\n",
      "\u001b[0;32m/home/rezka/anaconda3/lib/python3.6/site-packages/torch/nn/modules/rnn.py\u001b[0m in \u001b[0;36mforward\u001b[0;34m(self, input, hx)\u001b[0m\n\u001b[1;32m    167\u001b[0m             \u001b[0mflat_weight\u001b[0m\u001b[0;34m=\u001b[0m\u001b[0mflat_weight\u001b[0m\u001b[0;34m\u001b[0m\u001b[0m\n\u001b[1;32m    168\u001b[0m         )\n\u001b[0;32m--> 169\u001b[0;31m         \u001b[0moutput\u001b[0m\u001b[0;34m,\u001b[0m \u001b[0mhidden\u001b[0m \u001b[0;34m=\u001b[0m \u001b[0mfunc\u001b[0m\u001b[0;34m(\u001b[0m\u001b[0minput\u001b[0m\u001b[0;34m,\u001b[0m \u001b[0mself\u001b[0m\u001b[0;34m.\u001b[0m\u001b[0mall_weights\u001b[0m\u001b[0;34m,\u001b[0m \u001b[0mhx\u001b[0m\u001b[0;34m)\u001b[0m\u001b[0;34m\u001b[0m\u001b[0m\n\u001b[0m\u001b[1;32m    170\u001b[0m         \u001b[0;32mif\u001b[0m \u001b[0mis_packed\u001b[0m\u001b[0;34m:\u001b[0m\u001b[0;34m\u001b[0m\u001b[0m\n\u001b[1;32m    171\u001b[0m             \u001b[0moutput\u001b[0m \u001b[0;34m=\u001b[0m \u001b[0mPackedSequence\u001b[0m\u001b[0;34m(\u001b[0m\u001b[0moutput\u001b[0m\u001b[0;34m,\u001b[0m \u001b[0mbatch_sizes\u001b[0m\u001b[0;34m)\u001b[0m\u001b[0;34m\u001b[0m\u001b[0m\n",
      "\u001b[0;32m/home/rezka/anaconda3/lib/python3.6/site-packages/torch/nn/_functions/rnn.py\u001b[0m in \u001b[0;36mforward\u001b[0;34m(input, *fargs, **fkwargs)\u001b[0m\n\u001b[1;32m    383\u001b[0m             \u001b[0;32mreturn\u001b[0m \u001b[0mhack_onnx_rnn\u001b[0m\u001b[0;34m(\u001b[0m\u001b[0;34m(\u001b[0m\u001b[0minput\u001b[0m\u001b[0;34m,\u001b[0m\u001b[0;34m)\u001b[0m \u001b[0;34m+\u001b[0m \u001b[0mfargs\u001b[0m\u001b[0;34m,\u001b[0m \u001b[0moutput\u001b[0m\u001b[0;34m,\u001b[0m \u001b[0margs\u001b[0m\u001b[0;34m,\u001b[0m \u001b[0mkwargs\u001b[0m\u001b[0;34m)\u001b[0m\u001b[0;34m\u001b[0m\u001b[0m\n\u001b[1;32m    384\u001b[0m         \u001b[0;32melse\u001b[0m\u001b[0;34m:\u001b[0m\u001b[0;34m\u001b[0m\u001b[0m\n\u001b[0;32m--> 385\u001b[0;31m             \u001b[0;32mreturn\u001b[0m \u001b[0mfunc\u001b[0m\u001b[0;34m(\u001b[0m\u001b[0minput\u001b[0m\u001b[0;34m,\u001b[0m \u001b[0;34m*\u001b[0m\u001b[0mfargs\u001b[0m\u001b[0;34m,\u001b[0m \u001b[0;34m**\u001b[0m\u001b[0mfkwargs\u001b[0m\u001b[0;34m)\u001b[0m\u001b[0;34m\u001b[0m\u001b[0m\n\u001b[0m\u001b[1;32m    386\u001b[0m \u001b[0;34m\u001b[0m\u001b[0m\n\u001b[1;32m    387\u001b[0m     \u001b[0;32mreturn\u001b[0m \u001b[0mforward\u001b[0m\u001b[0;34m\u001b[0m\u001b[0m\n",
      "\u001b[0;32m/home/rezka/anaconda3/lib/python3.6/site-packages/torch/autograd/function.py\u001b[0m in \u001b[0;36m_do_forward\u001b[0;34m(self, *input)\u001b[0m\n\u001b[1;32m    326\u001b[0m         \u001b[0mself\u001b[0m\u001b[0;34m.\u001b[0m\u001b[0m_nested_input\u001b[0m \u001b[0;34m=\u001b[0m \u001b[0minput\u001b[0m\u001b[0;34m\u001b[0m\u001b[0m\n\u001b[1;32m    327\u001b[0m         \u001b[0mflat_input\u001b[0m \u001b[0;34m=\u001b[0m \u001b[0mtuple\u001b[0m\u001b[0;34m(\u001b[0m\u001b[0m_iter_variables\u001b[0m\u001b[0;34m(\u001b[0m\u001b[0minput\u001b[0m\u001b[0;34m)\u001b[0m\u001b[0;34m)\u001b[0m\u001b[0;34m\u001b[0m\u001b[0m\n\u001b[0;32m--> 328\u001b[0;31m         \u001b[0mflat_output\u001b[0m \u001b[0;34m=\u001b[0m \u001b[0msuper\u001b[0m\u001b[0;34m(\u001b[0m\u001b[0mNestedIOFunction\u001b[0m\u001b[0;34m,\u001b[0m \u001b[0mself\u001b[0m\u001b[0;34m)\u001b[0m\u001b[0;34m.\u001b[0m\u001b[0m_do_forward\u001b[0m\u001b[0;34m(\u001b[0m\u001b[0;34m*\u001b[0m\u001b[0mflat_input\u001b[0m\u001b[0;34m)\u001b[0m\u001b[0;34m\u001b[0m\u001b[0m\n\u001b[0m\u001b[1;32m    329\u001b[0m         \u001b[0mnested_output\u001b[0m \u001b[0;34m=\u001b[0m \u001b[0mself\u001b[0m\u001b[0;34m.\u001b[0m\u001b[0m_nested_output\u001b[0m\u001b[0;34m\u001b[0m\u001b[0m\n\u001b[1;32m    330\u001b[0m         \u001b[0mnested_variables\u001b[0m \u001b[0;34m=\u001b[0m \u001b[0m_unflatten\u001b[0m\u001b[0;34m(\u001b[0m\u001b[0mflat_output\u001b[0m\u001b[0;34m,\u001b[0m \u001b[0mself\u001b[0m\u001b[0;34m.\u001b[0m\u001b[0m_nested_output\u001b[0m\u001b[0;34m)\u001b[0m\u001b[0;34m\u001b[0m\u001b[0m\n",
      "\u001b[0;32m/home/rezka/anaconda3/lib/python3.6/site-packages/torch/autograd/function.py\u001b[0m in \u001b[0;36mforward\u001b[0;34m(self, *args)\u001b[0m\n\u001b[1;32m    348\u001b[0m     \u001b[0;32mdef\u001b[0m \u001b[0mforward\u001b[0m\u001b[0;34m(\u001b[0m\u001b[0mself\u001b[0m\u001b[0;34m,\u001b[0m \u001b[0;34m*\u001b[0m\u001b[0margs\u001b[0m\u001b[0;34m)\u001b[0m\u001b[0;34m:\u001b[0m\u001b[0;34m\u001b[0m\u001b[0m\n\u001b[1;32m    349\u001b[0m         \u001b[0mnested_tensors\u001b[0m \u001b[0;34m=\u001b[0m \u001b[0m_map_variable_tensor\u001b[0m\u001b[0;34m(\u001b[0m\u001b[0mself\u001b[0m\u001b[0;34m.\u001b[0m\u001b[0m_nested_input\u001b[0m\u001b[0;34m)\u001b[0m\u001b[0;34m\u001b[0m\u001b[0m\n\u001b[0;32m--> 350\u001b[0;31m         \u001b[0mresult\u001b[0m \u001b[0;34m=\u001b[0m \u001b[0mself\u001b[0m\u001b[0;34m.\u001b[0m\u001b[0mforward_extended\u001b[0m\u001b[0;34m(\u001b[0m\u001b[0;34m*\u001b[0m\u001b[0mnested_tensors\u001b[0m\u001b[0;34m)\u001b[0m\u001b[0;34m\u001b[0m\u001b[0m\n\u001b[0m\u001b[1;32m    351\u001b[0m         \u001b[0;32mdel\u001b[0m \u001b[0mself\u001b[0m\u001b[0;34m.\u001b[0m\u001b[0m_nested_input\u001b[0m\u001b[0;34m\u001b[0m\u001b[0m\n\u001b[1;32m    352\u001b[0m         \u001b[0mself\u001b[0m\u001b[0;34m.\u001b[0m\u001b[0m_nested_output\u001b[0m \u001b[0;34m=\u001b[0m \u001b[0mresult\u001b[0m\u001b[0;34m\u001b[0m\u001b[0m\n",
      "\u001b[0;32m/home/rezka/anaconda3/lib/python3.6/site-packages/torch/nn/_functions/rnn.py\u001b[0m in \u001b[0;36mforward_extended\u001b[0;34m(self, input, weight, hx)\u001b[0m\n\u001b[1;32m    292\u001b[0m             \u001b[0mhy\u001b[0m \u001b[0;34m=\u001b[0m \u001b[0mtuple\u001b[0m\u001b[0;34m(\u001b[0m\u001b[0mh\u001b[0m\u001b[0;34m.\u001b[0m\u001b[0mnew\u001b[0m\u001b[0;34m(\u001b[0m\u001b[0;34m)\u001b[0m \u001b[0;32mfor\u001b[0m \u001b[0mh\u001b[0m \u001b[0;32min\u001b[0m \u001b[0mhx\u001b[0m\u001b[0;34m)\u001b[0m\u001b[0;34m\u001b[0m\u001b[0m\n\u001b[1;32m    293\u001b[0m \u001b[0;34m\u001b[0m\u001b[0m\n\u001b[0;32m--> 294\u001b[0;31m         \u001b[0mcudnn\u001b[0m\u001b[0;34m.\u001b[0m\u001b[0mrnn\u001b[0m\u001b[0;34m.\u001b[0m\u001b[0mforward\u001b[0m\u001b[0;34m(\u001b[0m\u001b[0mself\u001b[0m\u001b[0;34m,\u001b[0m \u001b[0minput\u001b[0m\u001b[0;34m,\u001b[0m \u001b[0mhx\u001b[0m\u001b[0;34m,\u001b[0m \u001b[0mweight\u001b[0m\u001b[0;34m,\u001b[0m \u001b[0moutput\u001b[0m\u001b[0;34m,\u001b[0m \u001b[0mhy\u001b[0m\u001b[0;34m)\u001b[0m\u001b[0;34m\u001b[0m\u001b[0m\n\u001b[0m\u001b[1;32m    295\u001b[0m \u001b[0;34m\u001b[0m\u001b[0m\n\u001b[1;32m    296\u001b[0m         \u001b[0mself\u001b[0m\u001b[0;34m.\u001b[0m\u001b[0msave_for_backward\u001b[0m\u001b[0;34m(\u001b[0m\u001b[0minput\u001b[0m\u001b[0;34m,\u001b[0m \u001b[0mhx\u001b[0m\u001b[0;34m,\u001b[0m \u001b[0mweight\u001b[0m\u001b[0;34m,\u001b[0m \u001b[0moutput\u001b[0m\u001b[0;34m)\u001b[0m\u001b[0;34m\u001b[0m\u001b[0m\n",
      "\u001b[0;32m/home/rezka/anaconda3/lib/python3.6/site-packages/torch/backends/cudnn/rnn.py\u001b[0m in \u001b[0;36mforward\u001b[0;34m(fn, input, hx, weight, output, hy)\u001b[0m\n\u001b[1;32m    197\u001b[0m         \u001b[0;32mif\u001b[0m \u001b[0mfn\u001b[0m\u001b[0;34m.\u001b[0m\u001b[0mmode\u001b[0m \u001b[0;34m==\u001b[0m \u001b[0mcudnn\u001b[0m\u001b[0;34m.\u001b[0m\u001b[0mCUDNN_LSTM\u001b[0m\u001b[0;34m:\u001b[0m\u001b[0;34m\u001b[0m\u001b[0m\n\u001b[1;32m    198\u001b[0m             \u001b[0mhx\u001b[0m\u001b[0;34m,\u001b[0m \u001b[0mcx\u001b[0m \u001b[0;34m=\u001b[0m \u001b[0mhx\u001b[0m\u001b[0;34m\u001b[0m\u001b[0m\n\u001b[0;32m--> 199\u001b[0;31m             \u001b[0mhy\u001b[0m\u001b[0;34m,\u001b[0m \u001b[0mcy\u001b[0m \u001b[0;34m=\u001b[0m \u001b[0mhy\u001b[0m\u001b[0;34m\u001b[0m\u001b[0m\n\u001b[0m\u001b[1;32m    200\u001b[0m         \u001b[0;32melse\u001b[0m\u001b[0;34m:\u001b[0m\u001b[0;34m\u001b[0m\u001b[0m\n\u001b[1;32m    201\u001b[0m             \u001b[0mcx\u001b[0m\u001b[0;34m,\u001b[0m \u001b[0mcy\u001b[0m \u001b[0;34m=\u001b[0m \u001b[0;32mNone\u001b[0m\u001b[0;34m,\u001b[0m \u001b[0;32mNone\u001b[0m\u001b[0;34m\u001b[0m\u001b[0m\n",
      "\u001b[0;31mValueError\u001b[0m: not enough values to unpack (expected 2, got 0)"
     ]
    }
   ],
   "source": [
    "model_name = \"lstm_2000example_20000c_attn\"\n",
    "hyp_name = \"detect_k_factors\"\n",
    "y_true, y_pred = validate_hypothesis(rnn, LogisticRegression(), hypothesis_detect_k_factors,\n",
    "                                         train_len=1000, test_len=1, tt=\"bbb#bdd#cce#cdd#ddf$fdddcbfacddabaadfdeb\",\n",
    "                                         save_hyp='plots/{}_hyp_{}.png'.format(model_name, hyp_name),\n",
    "                                         save_diag='plots/{}_diag_{}.png'.format(model_name, hyp_name),\n",
    "                                         save_resp='plots/{}_resp_{}.png'.format(model_name, hyp_name))"
   ]
  },
  {
   "cell_type": "code",
   "execution_count": 114,
   "metadata": {},
   "outputs": [
    {
     "data": {
      "image/png": "[encoded data removed]",
      "text/plain": [
       "<matplotlib.figure.Figure at 0x7f04e66a27f0>"
      ]
     },
     "metadata": {},
     "output_type": "display_data"
    }
   ],
   "source": [
    "acc_test = [0.98, 0.96, 0.69, 0.59, 0.58, 0.59, 0.57]\n",
    "experiment = [5, 10, 20, 50, 500, 1000, 2000]\n",
    "x = np.arange(len(acc_test))\n",
    "plt.bar(x, acc_test)\n",
    "plt.xticks(x, experiment)\n",
    "plt.xlabel('Number of Grammar')\n",
    "plt.ylabel('Test Accuracy')\n",
    "plt.title('Test Accuracy on Different Number of Grammar')\n",
    "plt.savefig(\"plots/lstm_test_acc_bar.png\")\n",
    "plt.show()"
   ]
  },
  {
   "cell_type": "code",
   "execution_count": null,
   "metadata": {
    "collapsed": true
   },
   "outputs": [],
   "source": []
  }
 ],
 "metadata": {
  "kernelspec": {
   "display_name": "Python 3",
   "language": "python",
   "name": "python3"
  },
  "language_info": {
   "codemirror_mode": {
    "name": "ipython",
    "version": 3
   },
   "file_extension": ".py",
   "mimetype": "text/x-python",
   "name": "python",
   "nbconvert_exporter": "python",
   "pygments_lexer": "ipython3",
   "version": "3.6.1"
  }
 },
 "nbformat": 4,
 "nbformat_minor": 2
}
